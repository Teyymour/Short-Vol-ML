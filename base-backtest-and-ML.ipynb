{
 "cells": [
  {
   "cell_type": "markdown",
   "metadata": {},
   "source": [
    "# Imports"
   ]
  },
  {
   "cell_type": "code",
   "execution_count": 119,
   "metadata": {},
   "outputs": [],
   "source": [
    "import os\n",
    "from dotenv import load_dotenv\n",
    "import warnings\n",
    "warnings.simplefilter('ignore')\n",
    "\n",
    "import pandas as pd\n",
    "import numpy as np\n",
    "import numba\n",
    "import random\n",
    "\n",
    "import plotly.express as px\n",
    "import plotly.graph_objects as go\n",
    "from plotly.subplots import make_subplots\n",
    "\n",
    "import catboost\n",
    "from catboost import CatBoostClassifier\n",
    "from sklearn.preprocessing import StandardScaler\n",
    "from sklearn.metrics import precision_score, recall_score, f1_score, accuracy_score, confusion_matrix, classification_report\n",
    "from sklearn.utils.class_weight import compute_class_weight\n",
    "from sklearn.model_selection import ParameterGrid\n",
    "\n",
    "from datetime import datetime, timedelta\n",
    "from pandas_market_calendars import get_calendar\n",
    "import yfinance as yf\n",
    "\n",
    "from tqdm.notebook import tqdm\n",
    "\n",
    "from databuilder import build_spread_backtest_dataset\n",
    "\n",
    "def seed(seed=42):\n",
    "    \"\"\"\n",
    "    Sets the seed for multiple libraries to ensure reproducibility.\n",
    "    \n",
    "    Parameters:\n",
    "    seed (int): The seed value to set across libraries.\n",
    "    \"\"\"\n",
    "    random.seed(seed)\n",
    "    np.random.seed(seed)\n",
    "    pd.options.mode.chained_assignment = None\n",
    "\n",
    "seed(42)"
   ]
  },
  {
   "cell_type": "markdown",
   "metadata": {},
   "source": [
    "# Fetch Base Strategy Backtest Data + Add Relevant Info"
   ]
  },
  {
   "cell_type": "code",
   "execution_count": 120,
   "metadata": {},
   "outputs": [
    {
     "name": "stderr",
     "output_type": "stream",
     "text": [
      "  0%|          | 1/385 [00:00<04:47,  1.33it/s]"
     ]
    },
    {
     "name": "stdout",
     "output_type": "stream",
     "text": [
      "'results'\n"
     ]
    },
    {
     "name": "stderr",
     "output_type": "stream",
     "text": [
      " 12%|█▏        | 45/385 [01:50<14:05,  2.49s/it]"
     ]
    },
    {
     "name": "stdout",
     "output_type": "stream",
     "text": [
      "'ticker'\n"
     ]
    },
    {
     "name": "stderr",
     "output_type": "stream",
     "text": [
      " 12%|█▏        | 46/385 [01:51<11:56,  2.11s/it]"
     ]
    },
    {
     "name": "stdout",
     "output_type": "stream",
     "text": [
      "'ticker'\n"
     ]
    },
    {
     "name": "stderr",
     "output_type": "stream",
     "text": [
      " 12%|█▏        | 47/385 [01:52<10:26,  1.85s/it]"
     ]
    },
    {
     "name": "stdout",
     "output_type": "stream",
     "text": [
      "'ticker'\n"
     ]
    },
    {
     "name": "stderr",
     "output_type": "stream",
     "text": [
      " 12%|█▏        | 48/385 [01:54<09:36,  1.71s/it]"
     ]
    },
    {
     "name": "stdout",
     "output_type": "stream",
     "text": [
      "'ticker'\n"
     ]
    },
    {
     "name": "stderr",
     "output_type": "stream",
     "text": [
      " 13%|█▎        | 49/385 [01:55<08:47,  1.57s/it]"
     ]
    },
    {
     "name": "stdout",
     "output_type": "stream",
     "text": [
      "'ticker'\n"
     ]
    },
    {
     "name": "stderr",
     "output_type": "stream",
     "text": [
      " 53%|█████▎    | 203/385 [08:43<05:31,  1.82s/it]"
     ]
    },
    {
     "name": "stdout",
     "output_type": "stream",
     "text": [
      "'results'\n"
     ]
    },
    {
     "name": "stderr",
     "output_type": "stream",
     "text": [
      "100%|██████████| 385/385 [16:06<00:00,  2.51s/it]\n"
     ]
    }
   ],
   "source": [
    "load_dotenv(dotenv_path='/Users/teymour/Desktop/qnt-projs/Short-Vol-ML/.env')  # replace with your path\n",
    "polygon_api_key = os.getenv(\"POLYGON_API_KEY\")\n",
    "\n",
    "calendar = get_calendar(\"NYSE\")\n",
    "trading_dates = calendar.schedule(start_date=\"2023-04-20\", end_date=datetime.today()).index.strftime(\"%Y-%m-%d\").values\n",
    "\n",
    "#  Call the function from databuilder.py to generate a DataFrame with all relevant info for base strategy backtesting\n",
    "base_backtest_df = build_spread_backtest_dataset(dates=trading_dates, ticker='I:SPX', index_ticker=\"I:VIX1D\", \n",
    "                                              options_ticker=\"SPX\", trade_time=\"09:35\", move_adjustment=0.5, spread_width=1, polygon_api_key=polygon_api_key)"
   ]
  },
  {
   "cell_type": "code",
   "execution_count": 121,
   "metadata": {},
   "outputs": [],
   "source": [
    "# trading assumptions and max loss calculations\n",
    "base_backtest_df['nat_price_cost'] = base_backtest_df['short_bid_price'] - base_backtest_df['long_ask_price']\n",
    "base_backtest_df['max_nat_price_loss'] = abs(base_backtest_df['short_strike'].iloc[0] - base_backtest_df['long_strike'].iloc[0]) - base_backtest_df['nat_price_cost']\n",
    "base_backtest_df['mid_price_cost'] = base_backtest_df['short_mid_price'] - base_backtest_df['long_mid_price']\n",
    "base_backtest_df['max_mid_price_loss'] = abs(base_backtest_df['short_strike'].iloc[0] - base_backtest_df['long_strike'].iloc[0]) - base_backtest_df['mid_price_cost']\n",
    "base_backtest_df[\"contracts\"] = 1\n",
    "base_backtest_df[\"fees\"] = base_backtest_df[\"contracts\"] * 0.04"
   ]
  },
  {
   "cell_type": "code",
   "execution_count": 122,
   "metadata": {},
   "outputs": [],
   "source": [
    "def calculate_pnl(row):\n",
    "    \"\"\"\n",
    "    Calculate the profit and loss (PnL) for the given row of backtest data.\n",
    "\n",
    "    Parameters\n",
    "    ----------\n",
    "    row : pd.Series\n",
    "        A row of data containing information about the trade taken on a \n",
    "        given day\n",
    "\n",
    "    Returns\n",
    "    -------\n",
    "    float\n",
    "        The gross profit or loss (PnL) for the trade. If the calculated final PnL exceeds the maximum \n",
    "        allowable loss, it caps the loss at 'max_mid_price_loss'.\n",
    "    \"\"\"\n",
    "    if row['direction'] == 1:\n",
    "        settlement = row['underlying_closing_price'] - row['short_strike']\n",
    "        if settlement > 0:\n",
    "            settlement = 0\n",
    "            final_pnl = row['mid_price_cost']\n",
    "        else:\n",
    "            final_pnl = settlement + row['mid_price_cost']\n",
    "            \n",
    "    elif row['direction'] == 0:\n",
    "        settlement = row['short_strike'] - row['underlying_closing_price']\n",
    "        if settlement > 0:\n",
    "            settlement = 0\n",
    "            final_pnl = row['mid_price_cost']\n",
    "        else:\n",
    "            final_pnl = settlement + row['mid_price_cost']\n",
    "\n",
    "    gross_pnl = np.maximum(final_pnl, row['max_mid_price_loss'] * -1)\n",
    "    \n",
    "    return gross_pnl"
   ]
  },
  {
   "cell_type": "code",
   "execution_count": 123,
   "metadata": {},
   "outputs": [],
   "source": [
    "# Info that will be used in determining meta-model targets and in future base strat backtest\n",
    "base_backtest_df['gross_pnl'] = base_backtest_df.apply(calculate_pnl, axis=1)\n",
    "base_backtest_df['net_pnl'] = base_backtest_df['gross_pnl'] * base_backtest_df['contracts'] - base_backtest_df['fees']\n",
    "\n",
    "capital = 3000\n",
    "\n",
    "base_backtest_df['net_capital'] = capital + (base_backtest_df['net_pnl']*100).cumsum()\n",
    "base_backtest_df['day_begin_net_capital'] = base_backtest_df['net_capital'] - (base_backtest_df['net_pnl']*100)\n",
    "base_backtest_df['cumulative_pnl'] = base_backtest_df['net_pnl'].cumsum()\n",
    "base_backtest_df['pct_return'] = (base_backtest_df['net_pnl']* 100)/ base_backtest_df['day_begin_net_capital']"
   ]
  },
  {
   "cell_type": "markdown",
   "metadata": {},
   "source": [
    "# Meta-Labeling"
   ]
  },
  {
   "cell_type": "markdown",
   "metadata": {},
   "source": [
    "### Historical Data and Feature Engineering"
   ]
  },
  {
   "cell_type": "code",
   "execution_count": 164,
   "metadata": {},
   "outputs": [
    {
     "name": "stderr",
     "output_type": "stream",
     "text": [
      "[*********************100%***********************]  1 of 1 completed\n"
     ]
    }
   ],
   "source": [
    "# Download historical OHLCV data for the S&P 500 to create features\n",
    "sp500_ticker = \"^GSPC\"\n",
    "underlying_feature_df = yf.download(sp500_ticker, start=\"2022-01-01\", end=\"2024-10-25\", interval=\"1d\")\n",
    "\n",
    "# preprocess the DataFrame\n",
    "underlying_feature_df.columns = underlying_feature_df.columns.get_level_values(0)\n",
    "underlying_feature_df.index = pd.to_datetime(underlying_feature_df.index).date\n",
    "underlying_feature_df = underlying_feature_df.rename_axis(\"t\", axis=\"index\")\n",
    "underlying_feature_df = underlying_feature_df.drop(columns=['Close'])\n",
    "underlying_feature_df.columns.name = None\n",
    "underlying_feature_df = underlying_feature_df.rename(columns={\n",
    "    'Open': 'o',\n",
    "    'High': 'h',\n",
    "    'Low': 'l',\n",
    "    'Adj Close': 'c',\n",
    "    'Volume': 'v'\n",
    "})"
   ]
  },
  {
   "cell_type": "code",
   "execution_count": 165,
   "metadata": {},
   "outputs": [],
   "source": [
    "# Non-lagged features using opening price\n",
    "for window in [5, 10, 20, 50]:\n",
    "   underlying_feature_df[f'{window}d_volatility'] = underlying_feature_df['o'].rolling(window=window).std()\n",
    "\n",
    "underlying_feature_df['vol_of_vol_10d'] = underlying_feature_df['10d_volatility'].rolling(window=10).std()\n",
    "underlying_feature_df['volatility_ratio'] = underlying_feature_df['10d_volatility'] / underlying_feature_df['50d_volatility']\n",
    "underlying_feature_df['volatility_ratio_5_20'] = underlying_feature_df['5d_volatility'] / underlying_feature_df['20d_volatility']\n",
    "\n",
    "for window in [20, 50, 200]:\n",
    "   underlying_feature_df[f'{window}d_MA'] = underlying_feature_df['o'].rolling(window=window).mean()\n",
    "   underlying_feature_df[f'price_to_{window}d_MA'] = underlying_feature_df['o'] / underlying_feature_df[f'{window}d_MA']\n",
    "\n",
    "for days in [3, 5, 10]:\n",
    "   underlying_feature_df[f'abs_return_{days}d'] = abs(underlying_feature_df['o'].pct_change(periods=days))\n",
    "\n",
    "underlying_feature_df['overnight_gap'] = underlying_feature_df['o'] / underlying_feature_df['o'].shift(1) - 1\n",
    "underlying_feature_df['avg_gap_5d'] = underlying_feature_df['overnight_gap'].rolling(window=5).mean().abs()\n",
    "underlying_feature_df['consecutive_gaps'] = (\n",
    "   (underlying_feature_df['overnight_gap'].abs() > \n",
    "    underlying_feature_df['overnight_gap'].rolling(window=20).std())\n",
    "   .rolling(window=3).sum()\n",
    ")\n",
    "\n",
    "underlying_feature_df['volatility_trend'] = (\n",
    "   underlying_feature_df['5d_volatility'] / \n",
    "   underlying_feature_df['5d_volatility'].rolling(window=10).mean()\n",
    ")\n",
    "\n",
    "def compute_rsi(data, window=14):\n",
    "   delta = data.diff()\n",
    "   gain = (delta.where(delta > 0, 0)).rolling(window=window).mean()\n",
    "   loss = (-delta.where(delta < 0, 0)).rolling(window=window).mean()\n",
    "   rs = gain / loss\n",
    "   rsi = 100 - (100 / (1 + rs))\n",
    "   return rsi\n",
    "\n",
    "underlying_feature_df['14d_RSI'] = compute_rsi(underlying_feature_df['o'], window=14)\n",
    "\n",
    "# Features that need to be lagged (using previous day's data)\n",
    "underlying_feature_df['high_low_range'] = underlying_feature_df['h'] - underlying_feature_df['l']\n",
    "\n",
    "underlying_feature_df['tr'] = np.maximum(\n",
    "   (underlying_feature_df['h'] - underlying_feature_df['l']),\n",
    "   np.maximum(\n",
    "       abs(underlying_feature_df['h'] - underlying_feature_df['c'].shift(1)),\n",
    "       abs(underlying_feature_df['l'] - underlying_feature_df['c'].shift(1))\n",
    "   )\n",
    ")\n",
    "underlying_feature_df['14d_ATR'] = underlying_feature_df['tr'].rolling(window=14).mean()\n",
    "underlying_feature_df['14d_ATRP'] = underlying_feature_df['14d_ATR'] / underlying_feature_df['c'] * 100\n",
    "\n",
    "lagged_feature_list = [\n",
    "   'high_low_range', '14d_ATR', '14d_ATRP'\n",
    "]\n",
    "\n",
    "for f in lagged_feature_list:\n",
    "   underlying_feature_df[f] = underlying_feature_df[f].shift()\n",
    "   underlying_feature_df = underlying_feature_df.rename(columns={f: f'prev_{f}'})\n",
    "\n",
    "underlying_feature_df = underlying_feature_df.dropna()"
   ]
  },
  {
   "cell_type": "code",
   "execution_count": 166,
   "metadata": {},
   "outputs": [],
   "source": [
    "# target variable - whether we should have traded on a given day or not\n",
    "base_backtest_df['avoid_trade'] = np.where(base_backtest_df['net_pnl'] < 0, 1, 0 )\n",
    "\n",
    "# add the correct targets to the feature DataFrame\n",
    "aligned_target = base_backtest_df['avoid_trade'].reindex(underlying_feature_df.index)\n",
    "underlying_feature_df = pd.concat([underlying_feature_df, aligned_target], axis=1)\n",
    "underlying_feature_df = underlying_feature_df.rename(columns={'avoid_trade': 'target'})\n",
    "\n",
    "# Store the features as a variable for quick access\n",
    "X = underlying_feature_df.drop(['o', 'c', 'h', 'l', 'target'], axis=1)\n",
    "\n",
    "# Drop null target values and null feature values that were created by lags)\n",
    "underlying_feature_df = underlying_feature_df.dropna()"
   ]
  },
  {
   "cell_type": "markdown",
   "metadata": {},
   "source": [
    "### Helper Functions"
   ]
  },
  {
   "cell_type": "code",
   "execution_count": 188,
   "metadata": {},
   "outputs": [],
   "source": [
    "def group_by_period(df, training_period_length, backtest_period_length):\n",
    "    \"\"\"\n",
    "    Splits a DataFrame into sequential training and backtesting periods for walk-forward training and testing.\n",
    "\n",
    "    Parameters\n",
    "    ----------\n",
    "    df : pd.DataFrame\n",
    "        The input DataFrame containing the time-series data to be split into training and backtesting periods.\n",
    "    training_period_length : int\n",
    "        The number of data points (e.g., days) to include in each training period.\n",
    "    backtest_period_length : int\n",
    "        The number of data points to include in each backtesting period.\n",
    "\n",
    "    Returns\n",
    "    -------\n",
    "    tuple\n",
    "        A tuple containing:\n",
    "        - training_keys (list of tuples): A list of (start_index, end_index) pairs for each training period.\n",
    "        - backtest_keys (list of tuples): A list of (start_index, end_index) pairs for each backtesting period.\n",
    "        - training_period_data_dict (dict): A dictionary where each key is a (start_index, end_index) pair \n",
    "          representing a training period, and each value is a DataFrame containing the data for that period.\n",
    "        - backtest_period_data_dict (dict): A dictionary where each key is a (start_index, end_index) pair \n",
    "          representing a backtesting period, and each value is a DataFrame containing the data for that period.\n",
    "    \"\"\"\n",
    "    training_keys = []\n",
    "    backtest_keys = []\n",
    "    training_period_data_dict = {}\n",
    "    backtest_period_data_dict = {}\n",
    "\n",
    "    current_end_index = len(df)\n",
    "\n",
    "    while current_end_index - backtest_period_length - training_period_length >= 0:\n",
    "        backtest_end_index = current_end_index\n",
    "        backtest_start_index = backtest_end_index - backtest_period_length\n",
    "        training_end_index = backtest_start_index\n",
    "        training_start_index = training_end_index - training_period_length\n",
    "\n",
    "        if training_start_index < 0:\n",
    "            break\n",
    "\n",
    "        training_df = df.iloc[training_start_index:training_end_index]\n",
    "        backtest_df = df.iloc[backtest_start_index:backtest_end_index]\n",
    "\n",
    "        training_keys.append((training_start_index, training_end_index))\n",
    "        backtest_keys.append((backtest_start_index, backtest_end_index))\n",
    "\n",
    "        training_period_data_dict[(training_start_index, training_end_index)] = training_df\n",
    "        backtest_period_data_dict[(backtest_start_index, backtest_end_index)] = backtest_df\n",
    "\n",
    "        current_end_index = backtest_start_index\n",
    "\n",
    "    training_keys.reverse()\n",
    "    backtest_keys.reverse()\n",
    "    training_period_data_dict = {k: training_period_data_dict[k] for k in reversed(training_period_data_dict)}\n",
    "    backtest_period_data_dict = {k: backtest_period_data_dict[k] for k in reversed(backtest_period_data_dict)}\n",
    "    \n",
    "    return training_keys, backtest_keys, training_period_data_dict, backtest_period_data_dict\n",
    "\n",
    "def evaluate_classification(y_true, y_pred):\n",
    "    \"\"\"\n",
    "    Evaluate classification metrics and display results for a binary classification model.\n",
    "\n",
    "    This function calculates the accuracy, precision, recall, and F1 score for a given set of \n",
    "    true and predicted labels. It also prints the confusion matrix and a detailed classification \n",
    "    report with precision, recall, F1 score, and support for each class.\n",
    "\n",
    "    Parameters\n",
    "    ----------\n",
    "    y_true : array-like or pd.Series\n",
    "        The ground truth (actual) labels.\n",
    "    y_pred : array-like or pd.Series\n",
    "        The predicted labels by the model.\n",
    "\n",
    "    Returns\n",
    "    -------\n",
    "    None\n",
    "        A detailed classification report is printed.\n",
    "    \"\"\"\n",
    "\n",
    "    # Display the confusion matrix\n",
    "    conf_matrix = confusion_matrix(y_true, y_pred)\n",
    "    print(\"\\nConfusion Matrix:\")\n",
    "    print(conf_matrix)\n",
    "\n",
    "    # Detailed classification report\n",
    "    report = classification_report(y_true, y_pred)\n",
    "    print(\"\\nClassification Report:\")\n",
    "    print(report)"
   ]
  },
  {
   "cell_type": "markdown",
   "metadata": {},
   "source": [
    "### Training Loop"
   ]
  },
  {
   "cell_type": "code",
   "execution_count": 200,
   "metadata": {},
   "outputs": [],
   "source": [
    "def metalabel(data, training_periods, testing_periods, quant_feature_list, cat_feature_list):\n",
    "    \"\"\"\n",
    "    Performs metalabeling on time-series data using a walk-forward approach.\n",
    "\n",
    "    Parameters\n",
    "    ----------\n",
    "    data : pd.DataFrame\n",
    "        The time-series dataset with features and a target label, indexed by date.\n",
    "    training_periods : int\n",
    "        The number of data points (e.g., days) in each training period for walk-forward validation.\n",
    "    testing_periods : int\n",
    "        The number of data points in each testing period.\n",
    "    quant_feature_list : list of str\n",
    "        List of quantitative feature names to use in the model.\n",
    "    cat_feature_list : list of str\n",
    "        List of categorical feature names to use in the model.\n",
    "\n",
    "    Returns\n",
    "    -------\n",
    "    agg_backtest_df : pd.DataFrame\n",
    "        A DataFrame containing backtesting data with model predictions and their confidences.\n",
    "    \"\"\"\n",
    "    data = data[:-1].copy()\n",
    "    \n",
    "    # best_params, best_score = random_search_with_purged_kfold(data, quant_feature_list, param_grid, max_iter=100)\n",
    "\n",
    "    # print(f\"Best parameters found: {best_params} with F1 score: {best_score}\")\n",
    "\n",
    "    keys, backtest_keys, period_data_dict, backtest_period_data_dict = group_by_period(\n",
    "        data, training_periods, testing_periods\n",
    "    )\n",
    "\n",
    "    agg_backtest_df = pd.DataFrame()\n",
    "    num_iterations = len(keys)\n",
    "\n",
    "    for i in tqdm(range(num_iterations)):\n",
    "        model_key = keys[i]\n",
    "        train_df = period_data_dict[model_key].copy()\n",
    "        scaler = StandardScaler()\n",
    "        train_df[quant_feature_list] = scaler.fit_transform(train_df[quant_feature_list])\n",
    "\n",
    "        all_features = quant_feature_list + cat_feature_list\n",
    "        split_idx = int(len(train_df) * 0.8)\n",
    "\n",
    "        X_train = train_df[all_features].iloc[:split_idx]\n",
    "        y_train = train_df['target'].iloc[:split_idx].values.flatten()\n",
    "        X_val = train_df[all_features].iloc[split_idx:]\n",
    "        y_val = train_df['target'].iloc[split_idx:].values.flatten()\n",
    "\n",
    "        model = CatBoostClassifier(\n",
    "            loss_function='Logloss',\n",
    "            eval_metric='F1',\n",
    "            thread_count=-1,\n",
    "        )\n",
    "\n",
    "        model.fit(\n",
    "            X_train, y_train,\n",
    "            eval_set=(X_val, y_val),\n",
    "            early_stopping_rounds=50,\n",
    "            use_best_model=True,\n",
    "            plot=False,\n",
    "            verbose=False\n",
    "        )\n",
    "\n",
    "        backtest_key = backtest_keys[i]\n",
    "        backtest_df = backtest_period_data_dict[backtest_key].copy()\n",
    "        \n",
    "        backtest_df[quant_feature_list] = scaler.transform(backtest_df[quant_feature_list])\n",
    "        test_features = backtest_df[all_features]\n",
    "\n",
    "        probabilities = model.predict_proba(test_features)[:, 1]\n",
    "        predictions = (probabilities > .5).astype(int)\n",
    "        confidence = np.maximum(probabilities, 1 - probabilities)\n",
    "\n",
    "        prediction_df = pd.DataFrame({\n",
    "            'predicted_avoid_trade': predictions,\n",
    "            'prediction_confidence': confidence,\n",
    "            'raw_probability': probabilities\n",
    "        }, index=backtest_df.index)\n",
    "\n",
    "        backtest_df = backtest_df.join(prediction_df)\n",
    "\n",
    "        agg_backtest_df = pd.concat([agg_backtest_df, backtest_df], axis=0)\n",
    "\n",
    "    return agg_backtest_df"
   ]
  },
  {
   "cell_type": "code",
   "execution_count": 229,
   "metadata": {},
   "outputs": [
    {
     "data": {
      "application/vnd.jupyter.widget-view+json": {
       "model_id": "917a428f00de43d9a679ab3e90450371",
       "version_major": 2,
       "version_minor": 0
      },
      "text/plain": [
       "  0%|          | 0/233 [00:00<?, ?it/s]"
      ]
     },
     "metadata": {},
     "output_type": "display_data"
    }
   ],
   "source": [
    "metalabeled_backtest_df = metalabel(\n",
    "    data=underlying_feature_df, \n",
    "    training_periods=140,\n",
    "    testing_periods=1, \n",
    "    quant_feature_list=list(X.columns), \n",
    "    cat_feature_list=[],\n",
    ")"
   ]
  },
  {
   "cell_type": "markdown",
   "metadata": {},
   "source": [
    "### Model Evaluation"
   ]
  },
  {
   "cell_type": "code",
   "execution_count": 230,
   "metadata": {},
   "outputs": [
    {
     "name": "stdout",
     "output_type": "stream",
     "text": [
      "\n",
      "Confusion Matrix:\n",
      "[[172  18]\n",
      " [ 33  10]]\n",
      "\n",
      "Classification Report:\n",
      "              precision    recall  f1-score   support\n",
      "\n",
      "         0.0       0.84      0.91      0.87       190\n",
      "         1.0       0.36      0.23      0.28        43\n",
      "\n",
      "    accuracy                           0.78       233\n",
      "   macro avg       0.60      0.57      0.58       233\n",
      "weighted avg       0.75      0.78      0.76       233\n",
      "\n"
     ]
    }
   ],
   "source": [
    "y_true = metalabeled_backtest_df['target']\n",
    "y_pred = metalabeled_backtest_df['predicted_avoid_trade']\n",
    "evaluate_classification(y_true, y_pred)"
   ]
  },
  {
   "cell_type": "markdown",
   "metadata": {},
   "source": [
    "# Compare Backtests"
   ]
  },
  {
   "cell_type": "markdown",
   "metadata": {},
   "source": [
    "### Helper Functions"
   ]
  },
  {
   "cell_type": "code",
   "execution_count": 231,
   "metadata": {},
   "outputs": [],
   "source": [
    "def sharpe_ratio(returns, annualize=True, periods_per_year=252, risk_free_rate=0.04):\n",
    "    \"\"\"\n",
    "    Calculate the Sharpe ratio for a series of returns.\n",
    "\n",
    "    Parameters\n",
    "    ----------\n",
    "    returns : pd.Series\n",
    "        A Pandas Series containing the returns, typically in percentage terms.\n",
    "    annualize : bool, optional (default=True)\n",
    "        Whether to annualize the Sharpe ratio.\n",
    "    periods_per_year : int, optional (default=252)\n",
    "        The number of trading periods in a year. Defaults to 252 (daily returns).\n",
    "    risk_free_rate : float, optional (default=0.0)\n",
    "        The risk-free rate of return. Defaults to 0 for simplicity.\n",
    "\n",
    "    Returns\n",
    "    -------\n",
    "    float\n",
    "        The calculated Sharpe ratio. If annualized, returns the annualized Sharpe ratio.\n",
    "    \"\"\"\n",
    "    # Include only days where we actually traded:\n",
    "    returns = returns[returns != 0].copy()\n",
    "    \n",
    "    excess_returns = returns - risk_free_rate / periods_per_year\n",
    "\n",
    "    mean_return = excess_returns.mean()\n",
    "    std_return = excess_returns.std()\n",
    "\n",
    "    sharpe_ratio = mean_return / std_return\n",
    "\n",
    "    if annualize:\n",
    "        sharpe_ratio *= np.sqrt(periods_per_year)\n",
    "    \n",
    "    return sharpe_ratio"
   ]
  },
  {
   "cell_type": "markdown",
   "metadata": {},
   "source": [
    "### Base Strategy Backtest"
   ]
  },
  {
   "cell_type": "code",
   "execution_count": 232,
   "metadata": {},
   "outputs": [
    {
     "data": {
      "application/vnd.plotly.v1+json": {
       "config": {
        "plotlyServerURL": "https://plot.ly"
       },
       "data": [
        {
         "hovertemplate": "variable=net_capital<br>t=%{x}<br>value=%{y}<extra></extra>",
         "legendgroup": "net_capital",
         "line": {
          "color": "#636efa",
          "dash": "solid"
         },
         "marker": {
          "symbol": "circle"
         },
         "mode": "lines",
         "name": "net_capital",
         "orientation": "v",
         "showlegend": true,
         "type": "scatter",
         "x": [
          "2023-11-17",
          "2023-11-20",
          "2023-11-21",
          "2023-11-22",
          "2023-11-24",
          "2023-11-27",
          "2023-11-28",
          "2023-11-29",
          "2023-11-30",
          "2023-12-01",
          "2023-12-04",
          "2023-12-05",
          "2023-12-06",
          "2023-12-07",
          "2023-12-08",
          "2023-12-11",
          "2023-12-12",
          "2023-12-13",
          "2023-12-14",
          "2023-12-15",
          "2023-12-18",
          "2023-12-19",
          "2023-12-20",
          "2023-12-21",
          "2023-12-22",
          "2023-12-26",
          "2023-12-27",
          "2023-12-28",
          "2023-12-29",
          "2024-01-02",
          "2024-01-03",
          "2024-01-04",
          "2024-01-05",
          "2024-01-08",
          "2024-01-09",
          "2024-01-10",
          "2024-01-11",
          "2024-01-12",
          "2024-01-16",
          "2024-01-17",
          "2024-01-18",
          "2024-01-19",
          "2024-01-22",
          "2024-01-23",
          "2024-01-24",
          "2024-01-25",
          "2024-01-26",
          "2024-01-29",
          "2024-01-30",
          "2024-01-31",
          "2024-02-01",
          "2024-02-02",
          "2024-02-05",
          "2024-02-06",
          "2024-02-07",
          "2024-02-08",
          "2024-02-12",
          "2024-02-13",
          "2024-02-14",
          "2024-02-15",
          "2024-02-16",
          "2024-02-20",
          "2024-02-21",
          "2024-02-22",
          "2024-02-23",
          "2024-02-26",
          "2024-02-27",
          "2024-02-28",
          "2024-02-29",
          "2024-03-01",
          "2024-03-04",
          "2024-03-05",
          "2024-03-06",
          "2024-03-07",
          "2024-03-08",
          "2024-03-11",
          "2024-03-12",
          "2024-03-13",
          "2024-03-14",
          "2024-03-15",
          "2024-03-18",
          "2024-03-19",
          "2024-03-20",
          "2024-03-21",
          "2024-03-22",
          "2024-03-25",
          "2024-03-26",
          "2024-03-27",
          "2024-03-28",
          "2024-04-01",
          "2024-04-02",
          "2024-04-03",
          "2024-04-04",
          "2024-04-05",
          "2024-04-08",
          "2024-04-09",
          "2024-04-10",
          "2024-04-11",
          "2024-04-12",
          "2024-04-15",
          "2024-04-16",
          "2024-04-17",
          "2024-04-18",
          "2024-04-19",
          "2024-04-22",
          "2024-04-23",
          "2024-04-24",
          "2024-04-25",
          "2024-04-26",
          "2024-04-29",
          "2024-04-30",
          "2024-05-01",
          "2024-05-02",
          "2024-05-03",
          "2024-05-06",
          "2024-05-07",
          "2024-05-08",
          "2024-05-09",
          "2024-05-10",
          "2024-05-13",
          "2024-05-14",
          "2024-05-15",
          "2024-05-16",
          "2024-05-17",
          "2024-05-20",
          "2024-05-21",
          "2024-05-22",
          "2024-05-23",
          "2024-05-24",
          "2024-05-28",
          "2024-05-29",
          "2024-05-30",
          "2024-05-31",
          "2024-06-03",
          "2024-06-04",
          "2024-06-05",
          "2024-06-06",
          "2024-06-07",
          "2024-06-10",
          "2024-06-11",
          "2024-06-12",
          "2024-06-13",
          "2024-06-14",
          "2024-06-17",
          "2024-06-18",
          "2024-06-20",
          "2024-06-21",
          "2024-06-24",
          "2024-06-25",
          "2024-06-26",
          "2024-06-27",
          "2024-06-28",
          "2024-07-01",
          "2024-07-02",
          "2024-07-03",
          "2024-07-05",
          "2024-07-08",
          "2024-07-09",
          "2024-07-10",
          "2024-07-11",
          "2024-07-12",
          "2024-07-15",
          "2024-07-16",
          "2024-07-17",
          "2024-07-18",
          "2024-07-19",
          "2024-07-22",
          "2024-07-23",
          "2024-07-24",
          "2024-07-25",
          "2024-07-26",
          "2024-07-29",
          "2024-07-30",
          "2024-07-31",
          "2024-08-01",
          "2024-08-02",
          "2024-08-05",
          "2024-08-06",
          "2024-08-07",
          "2024-08-08",
          "2024-08-09",
          "2024-08-12",
          "2024-08-13",
          "2024-08-14",
          "2024-08-15",
          "2024-08-16",
          "2024-08-19",
          "2024-08-20",
          "2024-08-21",
          "2024-08-22",
          "2024-08-23",
          "2024-08-26",
          "2024-08-27",
          "2024-08-28",
          "2024-08-29",
          "2024-08-30",
          "2024-09-03",
          "2024-09-04",
          "2024-09-05",
          "2024-09-06",
          "2024-09-09",
          "2024-09-10",
          "2024-09-11",
          "2024-09-12",
          "2024-09-13",
          "2024-09-16",
          "2024-09-17",
          "2024-09-18",
          "2024-09-19",
          "2024-09-20",
          "2024-09-23",
          "2024-09-24",
          "2024-09-25",
          "2024-09-26",
          "2024-09-27",
          "2024-09-30",
          "2024-10-01",
          "2024-10-02",
          "2024-10-03",
          "2024-10-04",
          "2024-10-07",
          "2024-10-08",
          "2024-10-09",
          "2024-10-10",
          "2024-10-11",
          "2024-10-14",
          "2024-10-15",
          "2024-10-16",
          "2024-10-17",
          "2024-10-18",
          "2024-10-21",
          "2024-10-22",
          "2024-10-23"
         ],
         "xaxis": "x",
         "y": [
          2434.499999999894,
          2512.499999999894,
          2621.499999999894,
          2714.499999999894,
          2773.499999999894,
          2849.499999999894,
          2962.499999999894,
          2553.499999999894,
          2666.499999999894,
          2782.499999999894,
          2868.499999999894,
          2971.499999999894,
          2568.499999999894,
          2652.499999999894,
          2768.499999999894,
          2857.499999999894,
          2953.499999999894,
          3064.499999999894,
          3170.499999999894,
          3286.499999999894,
          3382.499999999894,
          3460.499999999894,
          3071.499999999894,
          3187.499999999894,
          3286.499999999894,
          3402.499999999894,
          3503.499999999894,
          3579.499999999894,
          3649.499999999927,
          3755.499999999927,
          3855.499999999923,
          3961.499999999923,
          4074.499999999923,
          3657.499999999923,
          3778.499999999923,
          3899.499999999923,
          4005.499999999923,
          4111.499999999924,
          4237.499999999924,
          4358.499999999924,
          4474.499999999924,
          4605.499999999924,
          4706.499999999924,
          4827.499999999924,
          4408.499999999924,
          4506.499999999924,
          4612.499999999924,
          4725.499999999924,
          4816.499999999924,
          4452.499999999924,
          4553.499999999924,
          4674.499999999924,
          4790.499999999924,
          4884.499999999924,
          4977.499999999924,
          5085.499999999924,
          5179.499999999924,
          5295.499999999924,
          5401.499999999924,
          5512.499999999924,
          5623.499999999924,
          5714.499999999924,
          5830.499999999924,
          5946.499999999924,
          5923.499999999938,
          5544.499999999938,
          5627.499999999938,
          5723.499999999938,
          5844.499999999938,
          5945.499999999938,
          6059.499999999938,
          5665.499999999938,
          5786.499999999938,
          5892.499999999938,
          5508.499999999938,
          5619.499999999938,
          5700.499999999938,
          5803.499999999938,
          5449.499999999956,
          5565.499999999956,
          5186.499999999956,
          5297.499999999956,
          5428.499999999956,
          5527.499999999956,
          5623.499999999956,
          5724.499999999956,
          5310.499999999956,
          5386.499999999956,
          5487.499999999956,
          5083.499999999956,
          5184.499999999956,
          5287.499999999956,
          4868.499999999956,
          4499.499999999956,
          4595.499999999956,
          4678.499999999956,
          4799.499999999956,
          4440.499999999956,
          4571.499999999956,
          4702.499999999956,
          4853.499999999956,
          4969.499999999956,
          5115.499999999956,
          5236.499999999956,
          5286.499999999989,
          4902.499999999989,
          5008.499999999989,
          4629.499999999989,
          4755.499999999989,
          4856.499999999989,
          4957.499999999989,
          5068.499999999989,
          5204.499999999989,
          5320.499999999989,
          5404.499999999989,
          5505.499999999989,
          5601.499999999989,
          5692.499999999989,
          5765.499999999989,
          5856.499999999989,
          5962.499999999989,
          6073.499999999989,
          5891.499999999978,
          5992.499999999978,
          6068.499999999978,
          6141.499999999978,
          6209.499999999978,
          5835.499999999978,
          5921.499999999978,
          6004.499999999978,
          6110.499999999978,
          6214.499999999978,
          5825.499999999978,
          5921.499999999978,
          6037.499999999978,
          6153.499999999978,
          6244.499999999978,
          6380.499999999978,
          6481.499999999978,
          6564.999999999978,
          6690.999999999978,
          6791.999999999978,
          6892.999999999978,
          7003.999999999978,
          7094.999999999978,
          6695.999999999978,
          6786.999999999978,
          6678.000000000015,
          6774.000000000015,
          6890.000000000015,
          7006.000000000015,
          6622.000000000015,
          6718.000000000015,
          6829.000000000015,
          6887.000000000015,
          6993.000000000015,
          7089.000000000015,
          7188.000000000015,
          7284.000000000015,
          6885.000000000015,
          6971.000000000015,
          7077.000000000015,
          7168.000000000015,
          6779.000000000015,
          6425.000000000015,
          6556.000000000015,
          6674.500000000015,
          6780.500000000015,
          6921.500000000015,
          7082.500000000015,
          7213.500000000015,
          7349.500000000015,
          7470.500000000015,
          7611.500000000015,
          7227.500000000015,
          7368.500000000015,
          7504.500000000015,
          7650.500000000015,
          7776.500000000015,
          7407.500000000015,
          7568.500000000015,
          7714.500000000015,
          7363.000000000015,
          7509.000000000015,
          7615.000000000015,
          7736.000000000015,
          7827.000000000015,
          7933.000000000015,
          8069.000000000015,
          7680.000000000015,
          7806.000000000015,
          7422.000000000015,
          7528.000000000015,
          7139.000000000015,
          6775.000000000015,
          6881.000000000015,
          6472.000000000015,
          6588.000000000015,
          6744.000000000015,
          6890.000000000015,
          7036.000000000015,
          7172.000000000015,
          6818.000000000015,
          6429.000000000015,
          6525.000000000015,
          6631.000000000015,
          6722.000000000015,
          6858.000000000015,
          6954.000000000015,
          7060.000000000015,
          7166.000000000015,
          7257.000000000015,
          7078.000000000015,
          7164.000000000015,
          7245.000000000015,
          7356.000000000015,
          7472.000000000015,
          7578.000000000015,
          7689.000000000015,
          7810.000000000015,
          7441.000000000015,
          7542.000000000015,
          7643.000000000015,
          7754.000000000015,
          7850.000000000015,
          7936.000000000015,
          7527.000000000015,
          7623.000000000015,
          7358.0000000000655,
          7469.0000000000655,
          7570.0000000000655,
          7676.0000000000655,
          7272.0000000000655
         ],
         "yaxis": "y"
        }
       ],
       "layout": {
        "legend": {
         "title": {
          "text": "variable"
         },
         "tracegroupgap": 0
        },
        "margin": {
         "t": 60
        },
        "template": {
         "data": {
          "bar": [
           {
            "error_x": {
             "color": "#2a3f5f"
            },
            "error_y": {
             "color": "#2a3f5f"
            },
            "marker": {
             "line": {
              "color": "#E5ECF6",
              "width": 0.5
             },
             "pattern": {
              "fillmode": "overlay",
              "size": 10,
              "solidity": 0.2
             }
            },
            "type": "bar"
           }
          ],
          "barpolar": [
           {
            "marker": {
             "line": {
              "color": "#E5ECF6",
              "width": 0.5
             },
             "pattern": {
              "fillmode": "overlay",
              "size": 10,
              "solidity": 0.2
             }
            },
            "type": "barpolar"
           }
          ],
          "carpet": [
           {
            "aaxis": {
             "endlinecolor": "#2a3f5f",
             "gridcolor": "white",
             "linecolor": "white",
             "minorgridcolor": "white",
             "startlinecolor": "#2a3f5f"
            },
            "baxis": {
             "endlinecolor": "#2a3f5f",
             "gridcolor": "white",
             "linecolor": "white",
             "minorgridcolor": "white",
             "startlinecolor": "#2a3f5f"
            },
            "type": "carpet"
           }
          ],
          "choropleth": [
           {
            "colorbar": {
             "outlinewidth": 0,
             "ticks": ""
            },
            "type": "choropleth"
           }
          ],
          "contour": [
           {
            "colorbar": {
             "outlinewidth": 0,
             "ticks": ""
            },
            "colorscale": [
             [
              0,
              "#0d0887"
             ],
             [
              0.1111111111111111,
              "#46039f"
             ],
             [
              0.2222222222222222,
              "#7201a8"
             ],
             [
              0.3333333333333333,
              "#9c179e"
             ],
             [
              0.4444444444444444,
              "#bd3786"
             ],
             [
              0.5555555555555556,
              "#d8576b"
             ],
             [
              0.6666666666666666,
              "#ed7953"
             ],
             [
              0.7777777777777778,
              "#fb9f3a"
             ],
             [
              0.8888888888888888,
              "#fdca26"
             ],
             [
              1,
              "#f0f921"
             ]
            ],
            "type": "contour"
           }
          ],
          "contourcarpet": [
           {
            "colorbar": {
             "outlinewidth": 0,
             "ticks": ""
            },
            "type": "contourcarpet"
           }
          ],
          "heatmap": [
           {
            "colorbar": {
             "outlinewidth": 0,
             "ticks": ""
            },
            "colorscale": [
             [
              0,
              "#0d0887"
             ],
             [
              0.1111111111111111,
              "#46039f"
             ],
             [
              0.2222222222222222,
              "#7201a8"
             ],
             [
              0.3333333333333333,
              "#9c179e"
             ],
             [
              0.4444444444444444,
              "#bd3786"
             ],
             [
              0.5555555555555556,
              "#d8576b"
             ],
             [
              0.6666666666666666,
              "#ed7953"
             ],
             [
              0.7777777777777778,
              "#fb9f3a"
             ],
             [
              0.8888888888888888,
              "#fdca26"
             ],
             [
              1,
              "#f0f921"
             ]
            ],
            "type": "heatmap"
           }
          ],
          "heatmapgl": [
           {
            "colorbar": {
             "outlinewidth": 0,
             "ticks": ""
            },
            "colorscale": [
             [
              0,
              "#0d0887"
             ],
             [
              0.1111111111111111,
              "#46039f"
             ],
             [
              0.2222222222222222,
              "#7201a8"
             ],
             [
              0.3333333333333333,
              "#9c179e"
             ],
             [
              0.4444444444444444,
              "#bd3786"
             ],
             [
              0.5555555555555556,
              "#d8576b"
             ],
             [
              0.6666666666666666,
              "#ed7953"
             ],
             [
              0.7777777777777778,
              "#fb9f3a"
             ],
             [
              0.8888888888888888,
              "#fdca26"
             ],
             [
              1,
              "#f0f921"
             ]
            ],
            "type": "heatmapgl"
           }
          ],
          "histogram": [
           {
            "marker": {
             "pattern": {
              "fillmode": "overlay",
              "size": 10,
              "solidity": 0.2
             }
            },
            "type": "histogram"
           }
          ],
          "histogram2d": [
           {
            "colorbar": {
             "outlinewidth": 0,
             "ticks": ""
            },
            "colorscale": [
             [
              0,
              "#0d0887"
             ],
             [
              0.1111111111111111,
              "#46039f"
             ],
             [
              0.2222222222222222,
              "#7201a8"
             ],
             [
              0.3333333333333333,
              "#9c179e"
             ],
             [
              0.4444444444444444,
              "#bd3786"
             ],
             [
              0.5555555555555556,
              "#d8576b"
             ],
             [
              0.6666666666666666,
              "#ed7953"
             ],
             [
              0.7777777777777778,
              "#fb9f3a"
             ],
             [
              0.8888888888888888,
              "#fdca26"
             ],
             [
              1,
              "#f0f921"
             ]
            ],
            "type": "histogram2d"
           }
          ],
          "histogram2dcontour": [
           {
            "colorbar": {
             "outlinewidth": 0,
             "ticks": ""
            },
            "colorscale": [
             [
              0,
              "#0d0887"
             ],
             [
              0.1111111111111111,
              "#46039f"
             ],
             [
              0.2222222222222222,
              "#7201a8"
             ],
             [
              0.3333333333333333,
              "#9c179e"
             ],
             [
              0.4444444444444444,
              "#bd3786"
             ],
             [
              0.5555555555555556,
              "#d8576b"
             ],
             [
              0.6666666666666666,
              "#ed7953"
             ],
             [
              0.7777777777777778,
              "#fb9f3a"
             ],
             [
              0.8888888888888888,
              "#fdca26"
             ],
             [
              1,
              "#f0f921"
             ]
            ],
            "type": "histogram2dcontour"
           }
          ],
          "mesh3d": [
           {
            "colorbar": {
             "outlinewidth": 0,
             "ticks": ""
            },
            "type": "mesh3d"
           }
          ],
          "parcoords": [
           {
            "line": {
             "colorbar": {
              "outlinewidth": 0,
              "ticks": ""
             }
            },
            "type": "parcoords"
           }
          ],
          "pie": [
           {
            "automargin": true,
            "type": "pie"
           }
          ],
          "scatter": [
           {
            "fillpattern": {
             "fillmode": "overlay",
             "size": 10,
             "solidity": 0.2
            },
            "type": "scatter"
           }
          ],
          "scatter3d": [
           {
            "line": {
             "colorbar": {
              "outlinewidth": 0,
              "ticks": ""
             }
            },
            "marker": {
             "colorbar": {
              "outlinewidth": 0,
              "ticks": ""
             }
            },
            "type": "scatter3d"
           }
          ],
          "scattercarpet": [
           {
            "marker": {
             "colorbar": {
              "outlinewidth": 0,
              "ticks": ""
             }
            },
            "type": "scattercarpet"
           }
          ],
          "scattergeo": [
           {
            "marker": {
             "colorbar": {
              "outlinewidth": 0,
              "ticks": ""
             }
            },
            "type": "scattergeo"
           }
          ],
          "scattergl": [
           {
            "marker": {
             "colorbar": {
              "outlinewidth": 0,
              "ticks": ""
             }
            },
            "type": "scattergl"
           }
          ],
          "scattermapbox": [
           {
            "marker": {
             "colorbar": {
              "outlinewidth": 0,
              "ticks": ""
             }
            },
            "type": "scattermapbox"
           }
          ],
          "scatterpolar": [
           {
            "marker": {
             "colorbar": {
              "outlinewidth": 0,
              "ticks": ""
             }
            },
            "type": "scatterpolar"
           }
          ],
          "scatterpolargl": [
           {
            "marker": {
             "colorbar": {
              "outlinewidth": 0,
              "ticks": ""
             }
            },
            "type": "scatterpolargl"
           }
          ],
          "scatterternary": [
           {
            "marker": {
             "colorbar": {
              "outlinewidth": 0,
              "ticks": ""
             }
            },
            "type": "scatterternary"
           }
          ],
          "surface": [
           {
            "colorbar": {
             "outlinewidth": 0,
             "ticks": ""
            },
            "colorscale": [
             [
              0,
              "#0d0887"
             ],
             [
              0.1111111111111111,
              "#46039f"
             ],
             [
              0.2222222222222222,
              "#7201a8"
             ],
             [
              0.3333333333333333,
              "#9c179e"
             ],
             [
              0.4444444444444444,
              "#bd3786"
             ],
             [
              0.5555555555555556,
              "#d8576b"
             ],
             [
              0.6666666666666666,
              "#ed7953"
             ],
             [
              0.7777777777777778,
              "#fb9f3a"
             ],
             [
              0.8888888888888888,
              "#fdca26"
             ],
             [
              1,
              "#f0f921"
             ]
            ],
            "type": "surface"
           }
          ],
          "table": [
           {
            "cells": {
             "fill": {
              "color": "#EBF0F8"
             },
             "line": {
              "color": "white"
             }
            },
            "header": {
             "fill": {
              "color": "#C8D4E3"
             },
             "line": {
              "color": "white"
             }
            },
            "type": "table"
           }
          ]
         },
         "layout": {
          "annotationdefaults": {
           "arrowcolor": "#2a3f5f",
           "arrowhead": 0,
           "arrowwidth": 1
          },
          "autotypenumbers": "strict",
          "coloraxis": {
           "colorbar": {
            "outlinewidth": 0,
            "ticks": ""
           }
          },
          "colorscale": {
           "diverging": [
            [
             0,
             "#8e0152"
            ],
            [
             0.1,
             "#c51b7d"
            ],
            [
             0.2,
             "#de77ae"
            ],
            [
             0.3,
             "#f1b6da"
            ],
            [
             0.4,
             "#fde0ef"
            ],
            [
             0.5,
             "#f7f7f7"
            ],
            [
             0.6,
             "#e6f5d0"
            ],
            [
             0.7,
             "#b8e186"
            ],
            [
             0.8,
             "#7fbc41"
            ],
            [
             0.9,
             "#4d9221"
            ],
            [
             1,
             "#276419"
            ]
           ],
           "sequential": [
            [
             0,
             "#0d0887"
            ],
            [
             0.1111111111111111,
             "#46039f"
            ],
            [
             0.2222222222222222,
             "#7201a8"
            ],
            [
             0.3333333333333333,
             "#9c179e"
            ],
            [
             0.4444444444444444,
             "#bd3786"
            ],
            [
             0.5555555555555556,
             "#d8576b"
            ],
            [
             0.6666666666666666,
             "#ed7953"
            ],
            [
             0.7777777777777778,
             "#fb9f3a"
            ],
            [
             0.8888888888888888,
             "#fdca26"
            ],
            [
             1,
             "#f0f921"
            ]
           ],
           "sequentialminus": [
            [
             0,
             "#0d0887"
            ],
            [
             0.1111111111111111,
             "#46039f"
            ],
            [
             0.2222222222222222,
             "#7201a8"
            ],
            [
             0.3333333333333333,
             "#9c179e"
            ],
            [
             0.4444444444444444,
             "#bd3786"
            ],
            [
             0.5555555555555556,
             "#d8576b"
            ],
            [
             0.6666666666666666,
             "#ed7953"
            ],
            [
             0.7777777777777778,
             "#fb9f3a"
            ],
            [
             0.8888888888888888,
             "#fdca26"
            ],
            [
             1,
             "#f0f921"
            ]
           ]
          },
          "colorway": [
           "#636efa",
           "#EF553B",
           "#00cc96",
           "#ab63fa",
           "#FFA15A",
           "#19d3f3",
           "#FF6692",
           "#B6E880",
           "#FF97FF",
           "#FECB52"
          ],
          "font": {
           "color": "#2a3f5f"
          },
          "geo": {
           "bgcolor": "white",
           "lakecolor": "white",
           "landcolor": "#E5ECF6",
           "showlakes": true,
           "showland": true,
           "subunitcolor": "white"
          },
          "hoverlabel": {
           "align": "left"
          },
          "hovermode": "closest",
          "mapbox": {
           "style": "light"
          },
          "paper_bgcolor": "white",
          "plot_bgcolor": "#E5ECF6",
          "polar": {
           "angularaxis": {
            "gridcolor": "white",
            "linecolor": "white",
            "ticks": ""
           },
           "bgcolor": "#E5ECF6",
           "radialaxis": {
            "gridcolor": "white",
            "linecolor": "white",
            "ticks": ""
           }
          },
          "scene": {
           "xaxis": {
            "backgroundcolor": "#E5ECF6",
            "gridcolor": "white",
            "gridwidth": 2,
            "linecolor": "white",
            "showbackground": true,
            "ticks": "",
            "zerolinecolor": "white"
           },
           "yaxis": {
            "backgroundcolor": "#E5ECF6",
            "gridcolor": "white",
            "gridwidth": 2,
            "linecolor": "white",
            "showbackground": true,
            "ticks": "",
            "zerolinecolor": "white"
           },
           "zaxis": {
            "backgroundcolor": "#E5ECF6",
            "gridcolor": "white",
            "gridwidth": 2,
            "linecolor": "white",
            "showbackground": true,
            "ticks": "",
            "zerolinecolor": "white"
           }
          },
          "shapedefaults": {
           "line": {
            "color": "#2a3f5f"
           }
          },
          "ternary": {
           "aaxis": {
            "gridcolor": "white",
            "linecolor": "white",
            "ticks": ""
           },
           "baxis": {
            "gridcolor": "white",
            "linecolor": "white",
            "ticks": ""
           },
           "bgcolor": "#E5ECF6",
           "caxis": {
            "gridcolor": "white",
            "linecolor": "white",
            "ticks": ""
           }
          },
          "title": {
           "x": 0.05
          },
          "xaxis": {
           "automargin": true,
           "gridcolor": "white",
           "linecolor": "white",
           "ticks": "",
           "title": {
            "standoff": 15
           },
           "zerolinecolor": "white",
           "zerolinewidth": 2
          },
          "yaxis": {
           "automargin": true,
           "gridcolor": "white",
           "linecolor": "white",
           "ticks": "",
           "title": {
            "standoff": 15
           },
           "zerolinecolor": "white",
           "zerolinewidth": 2
          }
         }
        },
        "xaxis": {
         "anchor": "y",
         "domain": [
          0,
          1
         ],
         "title": {
          "text": "t"
         }
        },
        "yaxis": {
         "anchor": "x",
         "domain": [
          0,
          1
         ],
         "title": {
          "text": "value"
         }
        }
       }
      }
     },
     "metadata": {},
     "output_type": "display_data"
    },
    {
     "name": "stdout",
     "output_type": "stream",
     "text": [
      "Base strategy Sharpe: 2.47\n",
      "Base strategy win rate: 81.55%\n",
      "Base strategy average win: $107.36\n",
      "Base strategy average loss: $358.83\n",
      "Base strategy expected value per trade: $21.32\n"
     ]
    }
   ],
   "source": [
    "# Align base strategy backtest's days with metalabeled strategy for comparison\n",
    "# Because we lost some days of evaluation on the metealabeled backtest due to the walk-forward approach\n",
    "base_strat_backtest_df = base_backtest_df.reindex(metalabeled_backtest_df.index)\n",
    "\n",
    "px.line(base_strat_backtest_df['net_capital']).show()\n",
    "print(f\"Base strategy Sharpe: {round(sharpe_ratio(returns=base_strat_backtest_df['pct_return']), 2)}\")\n",
    "\n",
    "base_strat_win_rate = len(base_strat_backtest_df[base_strat_backtest_df['net_pnl'] > 0]) / len(base_strat_backtest_df)\n",
    "base_strat_avg_win = base_strat_backtest_df[base_strat_backtest_df['net_pnl'] > 0]['net_pnl'].mean() * 100\n",
    "base_strat_avg_loss = abs(base_strat_backtest_df[base_strat_backtest_df['net_pnl'] < 0]['net_pnl'].mean() * 100)\n",
    "\n",
    "print(f\"Base strategy win rate: {round(base_strat_win_rate * 100, 2)}%\")\n",
    "print(f\"Base strategy average win: ${round(base_strat_avg_win, 2)}\")\n",
    "print(f\"Base strategy average loss: ${round(base_strat_avg_loss, 2)}\")\n",
    "print(f\"Base strategy expected value per trade: ${round((base_strat_avg_win * base_strat_win_rate) - (base_strat_avg_loss * (1 - base_strat_win_rate)), 2)}\")"
   ]
  },
  {
   "cell_type": "markdown",
   "metadata": {},
   "source": [
    "### Meta-labeled Strategy Backtest"
   ]
  },
  {
   "cell_type": "code",
   "execution_count": 233,
   "metadata": {},
   "outputs": [
    {
     "data": {
      "application/vnd.plotly.v1+json": {
       "config": {
        "plotlyServerURL": "https://plot.ly"
       },
       "data": [
        {
         "hovertemplate": "variable=net_capital<br>date=%{x}<br>value=%{y}<extra></extra>",
         "legendgroup": "net_capital",
         "line": {
          "color": "#636efa",
          "dash": "solid"
         },
         "marker": {
          "symbol": "circle"
         },
         "mode": "lines",
         "name": "net_capital",
         "orientation": "v",
         "showlegend": true,
         "type": "scatter",
         "x": [
          "2023-11-17T00:00:00",
          "2023-11-20T00:00:00",
          "2023-11-21T00:00:00",
          "2023-11-22T00:00:00",
          "2023-11-24T00:00:00",
          "2023-11-27T00:00:00",
          "2023-11-28T00:00:00",
          "2023-11-29T00:00:00",
          "2023-11-30T00:00:00",
          "2023-12-01T00:00:00",
          "2023-12-04T00:00:00",
          "2023-12-05T00:00:00",
          "2023-12-06T00:00:00",
          "2023-12-07T00:00:00",
          "2023-12-08T00:00:00",
          "2023-12-11T00:00:00",
          "2023-12-12T00:00:00",
          "2023-12-13T00:00:00",
          "2023-12-14T00:00:00",
          "2023-12-15T00:00:00",
          "2023-12-18T00:00:00",
          "2023-12-19T00:00:00",
          "2023-12-20T00:00:00",
          "2023-12-21T00:00:00",
          "2023-12-22T00:00:00",
          "2023-12-26T00:00:00",
          "2023-12-27T00:00:00",
          "2023-12-28T00:00:00",
          "2023-12-29T00:00:00",
          "2024-01-02T00:00:00",
          "2024-01-03T00:00:00",
          "2024-01-04T00:00:00",
          "2024-01-05T00:00:00",
          "2024-01-08T00:00:00",
          "2024-01-09T00:00:00",
          "2024-01-10T00:00:00",
          "2024-01-11T00:00:00",
          "2024-01-12T00:00:00",
          "2024-01-16T00:00:00",
          "2024-01-17T00:00:00",
          "2024-01-18T00:00:00",
          "2024-01-19T00:00:00",
          "2024-01-22T00:00:00",
          "2024-01-23T00:00:00",
          "2024-01-24T00:00:00",
          "2024-01-25T00:00:00",
          "2024-01-26T00:00:00",
          "2024-01-29T00:00:00",
          "2024-01-30T00:00:00",
          "2024-01-31T00:00:00",
          "2024-02-01T00:00:00",
          "2024-02-02T00:00:00",
          "2024-02-05T00:00:00",
          "2024-02-06T00:00:00",
          "2024-02-07T00:00:00",
          "2024-02-08T00:00:00",
          "2024-02-12T00:00:00",
          "2024-02-13T00:00:00",
          "2024-02-14T00:00:00",
          "2024-02-15T00:00:00",
          "2024-02-16T00:00:00",
          "2024-02-20T00:00:00",
          "2024-02-21T00:00:00",
          "2024-02-22T00:00:00",
          "2024-02-23T00:00:00",
          "2024-02-26T00:00:00",
          "2024-02-27T00:00:00",
          "2024-02-28T00:00:00",
          "2024-02-29T00:00:00",
          "2024-03-01T00:00:00",
          "2024-03-04T00:00:00",
          "2024-03-05T00:00:00",
          "2024-03-06T00:00:00",
          "2024-03-07T00:00:00",
          "2024-03-08T00:00:00",
          "2024-03-11T00:00:00",
          "2024-03-12T00:00:00",
          "2024-03-13T00:00:00",
          "2024-03-14T00:00:00",
          "2024-03-15T00:00:00",
          "2024-03-18T00:00:00",
          "2024-03-19T00:00:00",
          "2024-03-20T00:00:00",
          "2024-03-21T00:00:00",
          "2024-03-22T00:00:00",
          "2024-03-25T00:00:00",
          "2024-03-26T00:00:00",
          "2024-03-27T00:00:00",
          "2024-03-28T00:00:00",
          "2024-04-01T00:00:00",
          "2024-04-02T00:00:00",
          "2024-04-03T00:00:00",
          "2024-04-04T00:00:00",
          "2024-04-05T00:00:00",
          "2024-04-08T00:00:00",
          "2024-04-09T00:00:00",
          "2024-04-10T00:00:00",
          "2024-04-11T00:00:00",
          "2024-04-12T00:00:00",
          "2024-04-15T00:00:00",
          "2024-04-16T00:00:00",
          "2024-04-17T00:00:00",
          "2024-04-18T00:00:00",
          "2024-04-19T00:00:00",
          "2024-04-22T00:00:00",
          "2024-04-23T00:00:00",
          "2024-04-24T00:00:00",
          "2024-04-25T00:00:00",
          "2024-04-26T00:00:00",
          "2024-04-29T00:00:00",
          "2024-04-30T00:00:00",
          "2024-05-01T00:00:00",
          "2024-05-02T00:00:00",
          "2024-05-03T00:00:00",
          "2024-05-06T00:00:00",
          "2024-05-07T00:00:00",
          "2024-05-08T00:00:00",
          "2024-05-09T00:00:00",
          "2024-05-10T00:00:00",
          "2024-05-13T00:00:00",
          "2024-05-14T00:00:00",
          "2024-05-15T00:00:00",
          "2024-05-16T00:00:00",
          "2024-05-17T00:00:00",
          "2024-05-20T00:00:00",
          "2024-05-21T00:00:00",
          "2024-05-22T00:00:00",
          "2024-05-23T00:00:00",
          "2024-05-24T00:00:00",
          "2024-05-28T00:00:00",
          "2024-05-29T00:00:00",
          "2024-05-30T00:00:00",
          "2024-05-31T00:00:00",
          "2024-06-03T00:00:00",
          "2024-06-04T00:00:00",
          "2024-06-05T00:00:00",
          "2024-06-06T00:00:00",
          "2024-06-07T00:00:00",
          "2024-06-10T00:00:00",
          "2024-06-11T00:00:00",
          "2024-06-12T00:00:00",
          "2024-06-13T00:00:00",
          "2024-06-14T00:00:00",
          "2024-06-17T00:00:00",
          "2024-06-18T00:00:00",
          "2024-06-20T00:00:00",
          "2024-06-21T00:00:00",
          "2024-06-24T00:00:00",
          "2024-06-25T00:00:00",
          "2024-06-26T00:00:00",
          "2024-06-27T00:00:00",
          "2024-06-28T00:00:00",
          "2024-07-01T00:00:00",
          "2024-07-02T00:00:00",
          "2024-07-03T00:00:00",
          "2024-07-05T00:00:00",
          "2024-07-08T00:00:00",
          "2024-07-09T00:00:00",
          "2024-07-10T00:00:00",
          "2024-07-11T00:00:00",
          "2024-07-12T00:00:00",
          "2024-07-15T00:00:00",
          "2024-07-16T00:00:00",
          "2024-07-17T00:00:00",
          "2024-07-18T00:00:00",
          "2024-07-19T00:00:00",
          "2024-07-22T00:00:00",
          "2024-07-23T00:00:00",
          "2024-07-24T00:00:00",
          "2024-07-25T00:00:00",
          "2024-07-26T00:00:00",
          "2024-07-29T00:00:00",
          "2024-07-30T00:00:00",
          "2024-07-31T00:00:00",
          "2024-08-01T00:00:00",
          "2024-08-02T00:00:00",
          "2024-08-05T00:00:00",
          "2024-08-06T00:00:00",
          "2024-08-07T00:00:00",
          "2024-08-08T00:00:00",
          "2024-08-09T00:00:00",
          "2024-08-12T00:00:00",
          "2024-08-13T00:00:00",
          "2024-08-14T00:00:00",
          "2024-08-15T00:00:00",
          "2024-08-16T00:00:00",
          "2024-08-19T00:00:00",
          "2024-08-20T00:00:00",
          "2024-08-21T00:00:00",
          "2024-08-22T00:00:00",
          "2024-08-23T00:00:00",
          "2024-08-26T00:00:00",
          "2024-08-27T00:00:00",
          "2024-08-28T00:00:00",
          "2024-08-29T00:00:00",
          "2024-08-30T00:00:00",
          "2024-09-03T00:00:00",
          "2024-09-04T00:00:00",
          "2024-09-05T00:00:00",
          "2024-09-06T00:00:00",
          "2024-09-09T00:00:00",
          "2024-09-10T00:00:00",
          "2024-09-11T00:00:00",
          "2024-09-12T00:00:00",
          "2024-09-13T00:00:00",
          "2024-09-16T00:00:00",
          "2024-09-17T00:00:00",
          "2024-09-18T00:00:00",
          "2024-09-19T00:00:00",
          "2024-09-20T00:00:00",
          "2024-09-23T00:00:00",
          "2024-09-24T00:00:00",
          "2024-09-25T00:00:00",
          "2024-09-26T00:00:00",
          "2024-09-27T00:00:00",
          "2024-09-30T00:00:00",
          "2024-10-01T00:00:00",
          "2024-10-02T00:00:00",
          "2024-10-03T00:00:00",
          "2024-10-04T00:00:00",
          "2024-10-07T00:00:00",
          "2024-10-08T00:00:00",
          "2024-10-09T00:00:00",
          "2024-10-10T00:00:00",
          "2024-10-11T00:00:00",
          "2024-10-14T00:00:00",
          "2024-10-15T00:00:00",
          "2024-10-16T00:00:00",
          "2024-10-17T00:00:00",
          "2024-10-18T00:00:00",
          "2024-10-21T00:00:00",
          "2024-10-22T00:00:00",
          "2024-10-23T00:00:00"
         ],
         "xaxis": "x",
         "y": [
          3131,
          3209,
          3318,
          3411,
          3470,
          3546,
          3659,
          3250,
          3363,
          3479,
          3565,
          3668,
          3265,
          3349,
          3465,
          3554,
          3650,
          3761,
          3867,
          3983,
          4079,
          4157,
          3768,
          3884,
          3983,
          4099,
          4200,
          4200,
          4270.000000000033,
          4376.000000000033,
          4476.000000000029,
          4582.000000000029,
          4695.000000000029,
          4695.000000000029,
          4816.000000000029,
          4937.000000000029,
          5043.000000000029,
          5149.000000000029,
          5275.000000000029,
          5396.000000000029,
          5512.000000000029,
          5512.000000000029,
          5512.000000000029,
          5512.000000000029,
          5512.000000000029,
          5512.000000000029,
          5618.000000000029,
          5731.000000000029,
          5822.000000000029,
          5822.000000000029,
          5822.000000000029,
          5822.000000000029,
          5938.000000000029,
          6032.000000000029,
          6125.000000000029,
          6233.000000000029,
          6327.000000000029,
          6327.000000000029,
          6433.000000000029,
          6433.000000000029,
          6544.000000000029,
          6635.000000000029,
          6751.000000000029,
          6867.000000000029,
          6844.000000000044,
          6465.000000000044,
          6548.000000000044,
          6644.000000000044,
          6765.000000000044,
          6866.000000000044,
          6980.000000000044,
          6586.000000000044,
          6707.000000000044,
          6813.000000000044,
          6429.000000000044,
          6540.000000000044,
          6621.000000000044,
          6724.000000000044,
          6370.000000000062,
          6486.000000000062,
          6107.000000000062,
          6218.000000000062,
          6349.000000000062,
          6448.000000000062,
          6544.000000000062,
          6645.000000000062,
          6231.000000000062,
          6307.000000000062,
          6408.000000000062,
          6004.000000000062,
          6004.000000000062,
          6107.000000000062,
          5688.000000000062,
          5319.000000000062,
          5415.000000000062,
          5498.000000000062,
          5619.000000000062,
          5619.000000000062,
          5619.000000000062,
          5750.000000000062,
          5750.000000000062,
          5866.000000000062,
          6012.000000000062,
          6133.000000000062,
          6183.000000000095,
          5799.000000000095,
          5905.000000000095,
          5526.000000000095,
          5526.000000000095,
          5627.000000000095,
          5728.000000000095,
          5839.000000000095,
          5975.000000000095,
          5975.000000000095,
          6059.000000000095,
          6160.000000000095,
          6256.000000000095,
          6347.000000000095,
          6420.000000000095,
          6511.000000000095,
          6617.000000000095,
          6728.000000000095,
          6546.000000000084,
          6647.000000000084,
          6723.000000000084,
          6796.000000000084,
          6864.000000000084,
          6490.000000000084,
          6576.000000000084,
          6659.000000000084,
          6765.000000000084,
          6869.000000000084,
          6480.000000000084,
          6576.000000000084,
          6692.000000000084,
          6808.000000000084,
          6899.000000000084,
          7035.000000000084,
          7136.000000000084,
          7219.500000000084,
          7345.500000000084,
          7446.500000000084,
          7547.500000000084,
          7658.500000000084,
          7749.500000000084,
          7350.500000000084,
          7441.500000000084,
          7332.50000000012,
          7428.50000000012,
          7544.50000000012,
          7544.50000000012,
          7544.50000000012,
          7640.50000000012,
          7751.50000000012,
          7809.50000000012,
          7915.50000000012,
          8011.50000000012,
          8110.50000000012,
          8206.50000000012,
          8206.50000000012,
          8292.50000000012,
          8398.50000000012,
          8489.50000000012,
          8489.50000000012,
          8489.50000000012,
          8620.50000000012,
          8739.00000000012,
          8845.00000000012,
          8986.00000000012,
          9147.00000000012,
          9278.00000000012,
          9414.00000000012,
          9535.00000000012,
          9676.00000000012,
          9292.00000000012,
          9433.00000000012,
          9433.00000000012,
          9579.00000000012,
          9705.00000000012,
          9336.00000000012,
          9497.00000000012,
          9643.00000000012,
          9291.50000000012,
          9437.50000000012,
          9543.50000000012,
          9664.50000000012,
          9755.50000000012,
          9861.50000000012,
          9997.50000000012,
          9608.50000000012,
          9734.50000000012,
          9350.50000000012,
          9456.50000000012,
          9067.50000000012,
          8703.50000000012,
          8809.50000000012,
          8809.50000000012,
          8925.50000000012,
          9081.50000000012,
          9227.50000000012,
          9373.50000000012,
          9509.50000000012,
          9155.50000000012,
          8766.50000000012,
          8862.50000000012,
          8968.50000000012,
          9059.50000000012,
          9195.50000000012,
          9291.50000000012,
          9397.50000000012,
          9503.50000000012,
          9594.50000000012,
          9415.50000000012,
          9501.50000000012,
          9582.50000000012,
          9582.50000000012,
          9698.50000000012,
          9804.50000000012,
          9915.50000000012,
          10036.50000000012,
          9667.50000000012,
          9768.50000000012,
          9869.50000000012,
          9980.50000000012,
          10076.50000000012,
          10162.50000000012,
          9753.50000000012,
          9849.50000000012,
          9584.500000000171,
          9695.500000000171,
          9695.500000000171,
          9801.500000000171,
          9801.500000000171
         ],
         "yaxis": "y"
        }
       ],
       "layout": {
        "legend": {
         "title": {
          "text": "variable"
         },
         "tracegroupgap": 0
        },
        "margin": {
         "t": 60
        },
        "template": {
         "data": {
          "bar": [
           {
            "error_x": {
             "color": "#2a3f5f"
            },
            "error_y": {
             "color": "#2a3f5f"
            },
            "marker": {
             "line": {
              "color": "#E5ECF6",
              "width": 0.5
             },
             "pattern": {
              "fillmode": "overlay",
              "size": 10,
              "solidity": 0.2
             }
            },
            "type": "bar"
           }
          ],
          "barpolar": [
           {
            "marker": {
             "line": {
              "color": "#E5ECF6",
              "width": 0.5
             },
             "pattern": {
              "fillmode": "overlay",
              "size": 10,
              "solidity": 0.2
             }
            },
            "type": "barpolar"
           }
          ],
          "carpet": [
           {
            "aaxis": {
             "endlinecolor": "#2a3f5f",
             "gridcolor": "white",
             "linecolor": "white",
             "minorgridcolor": "white",
             "startlinecolor": "#2a3f5f"
            },
            "baxis": {
             "endlinecolor": "#2a3f5f",
             "gridcolor": "white",
             "linecolor": "white",
             "minorgridcolor": "white",
             "startlinecolor": "#2a3f5f"
            },
            "type": "carpet"
           }
          ],
          "choropleth": [
           {
            "colorbar": {
             "outlinewidth": 0,
             "ticks": ""
            },
            "type": "choropleth"
           }
          ],
          "contour": [
           {
            "colorbar": {
             "outlinewidth": 0,
             "ticks": ""
            },
            "colorscale": [
             [
              0,
              "#0d0887"
             ],
             [
              0.1111111111111111,
              "#46039f"
             ],
             [
              0.2222222222222222,
              "#7201a8"
             ],
             [
              0.3333333333333333,
              "#9c179e"
             ],
             [
              0.4444444444444444,
              "#bd3786"
             ],
             [
              0.5555555555555556,
              "#d8576b"
             ],
             [
              0.6666666666666666,
              "#ed7953"
             ],
             [
              0.7777777777777778,
              "#fb9f3a"
             ],
             [
              0.8888888888888888,
              "#fdca26"
             ],
             [
              1,
              "#f0f921"
             ]
            ],
            "type": "contour"
           }
          ],
          "contourcarpet": [
           {
            "colorbar": {
             "outlinewidth": 0,
             "ticks": ""
            },
            "type": "contourcarpet"
           }
          ],
          "heatmap": [
           {
            "colorbar": {
             "outlinewidth": 0,
             "ticks": ""
            },
            "colorscale": [
             [
              0,
              "#0d0887"
             ],
             [
              0.1111111111111111,
              "#46039f"
             ],
             [
              0.2222222222222222,
              "#7201a8"
             ],
             [
              0.3333333333333333,
              "#9c179e"
             ],
             [
              0.4444444444444444,
              "#bd3786"
             ],
             [
              0.5555555555555556,
              "#d8576b"
             ],
             [
              0.6666666666666666,
              "#ed7953"
             ],
             [
              0.7777777777777778,
              "#fb9f3a"
             ],
             [
              0.8888888888888888,
              "#fdca26"
             ],
             [
              1,
              "#f0f921"
             ]
            ],
            "type": "heatmap"
           }
          ],
          "heatmapgl": [
           {
            "colorbar": {
             "outlinewidth": 0,
             "ticks": ""
            },
            "colorscale": [
             [
              0,
              "#0d0887"
             ],
             [
              0.1111111111111111,
              "#46039f"
             ],
             [
              0.2222222222222222,
              "#7201a8"
             ],
             [
              0.3333333333333333,
              "#9c179e"
             ],
             [
              0.4444444444444444,
              "#bd3786"
             ],
             [
              0.5555555555555556,
              "#d8576b"
             ],
             [
              0.6666666666666666,
              "#ed7953"
             ],
             [
              0.7777777777777778,
              "#fb9f3a"
             ],
             [
              0.8888888888888888,
              "#fdca26"
             ],
             [
              1,
              "#f0f921"
             ]
            ],
            "type": "heatmapgl"
           }
          ],
          "histogram": [
           {
            "marker": {
             "pattern": {
              "fillmode": "overlay",
              "size": 10,
              "solidity": 0.2
             }
            },
            "type": "histogram"
           }
          ],
          "histogram2d": [
           {
            "colorbar": {
             "outlinewidth": 0,
             "ticks": ""
            },
            "colorscale": [
             [
              0,
              "#0d0887"
             ],
             [
              0.1111111111111111,
              "#46039f"
             ],
             [
              0.2222222222222222,
              "#7201a8"
             ],
             [
              0.3333333333333333,
              "#9c179e"
             ],
             [
              0.4444444444444444,
              "#bd3786"
             ],
             [
              0.5555555555555556,
              "#d8576b"
             ],
             [
              0.6666666666666666,
              "#ed7953"
             ],
             [
              0.7777777777777778,
              "#fb9f3a"
             ],
             [
              0.8888888888888888,
              "#fdca26"
             ],
             [
              1,
              "#f0f921"
             ]
            ],
            "type": "histogram2d"
           }
          ],
          "histogram2dcontour": [
           {
            "colorbar": {
             "outlinewidth": 0,
             "ticks": ""
            },
            "colorscale": [
             [
              0,
              "#0d0887"
             ],
             [
              0.1111111111111111,
              "#46039f"
             ],
             [
              0.2222222222222222,
              "#7201a8"
             ],
             [
              0.3333333333333333,
              "#9c179e"
             ],
             [
              0.4444444444444444,
              "#bd3786"
             ],
             [
              0.5555555555555556,
              "#d8576b"
             ],
             [
              0.6666666666666666,
              "#ed7953"
             ],
             [
              0.7777777777777778,
              "#fb9f3a"
             ],
             [
              0.8888888888888888,
              "#fdca26"
             ],
             [
              1,
              "#f0f921"
             ]
            ],
            "type": "histogram2dcontour"
           }
          ],
          "mesh3d": [
           {
            "colorbar": {
             "outlinewidth": 0,
             "ticks": ""
            },
            "type": "mesh3d"
           }
          ],
          "parcoords": [
           {
            "line": {
             "colorbar": {
              "outlinewidth": 0,
              "ticks": ""
             }
            },
            "type": "parcoords"
           }
          ],
          "pie": [
           {
            "automargin": true,
            "type": "pie"
           }
          ],
          "scatter": [
           {
            "fillpattern": {
             "fillmode": "overlay",
             "size": 10,
             "solidity": 0.2
            },
            "type": "scatter"
           }
          ],
          "scatter3d": [
           {
            "line": {
             "colorbar": {
              "outlinewidth": 0,
              "ticks": ""
             }
            },
            "marker": {
             "colorbar": {
              "outlinewidth": 0,
              "ticks": ""
             }
            },
            "type": "scatter3d"
           }
          ],
          "scattercarpet": [
           {
            "marker": {
             "colorbar": {
              "outlinewidth": 0,
              "ticks": ""
             }
            },
            "type": "scattercarpet"
           }
          ],
          "scattergeo": [
           {
            "marker": {
             "colorbar": {
              "outlinewidth": 0,
              "ticks": ""
             }
            },
            "type": "scattergeo"
           }
          ],
          "scattergl": [
           {
            "marker": {
             "colorbar": {
              "outlinewidth": 0,
              "ticks": ""
             }
            },
            "type": "scattergl"
           }
          ],
          "scattermapbox": [
           {
            "marker": {
             "colorbar": {
              "outlinewidth": 0,
              "ticks": ""
             }
            },
            "type": "scattermapbox"
           }
          ],
          "scatterpolar": [
           {
            "marker": {
             "colorbar": {
              "outlinewidth": 0,
              "ticks": ""
             }
            },
            "type": "scatterpolar"
           }
          ],
          "scatterpolargl": [
           {
            "marker": {
             "colorbar": {
              "outlinewidth": 0,
              "ticks": ""
             }
            },
            "type": "scatterpolargl"
           }
          ],
          "scatterternary": [
           {
            "marker": {
             "colorbar": {
              "outlinewidth": 0,
              "ticks": ""
             }
            },
            "type": "scatterternary"
           }
          ],
          "surface": [
           {
            "colorbar": {
             "outlinewidth": 0,
             "ticks": ""
            },
            "colorscale": [
             [
              0,
              "#0d0887"
             ],
             [
              0.1111111111111111,
              "#46039f"
             ],
             [
              0.2222222222222222,
              "#7201a8"
             ],
             [
              0.3333333333333333,
              "#9c179e"
             ],
             [
              0.4444444444444444,
              "#bd3786"
             ],
             [
              0.5555555555555556,
              "#d8576b"
             ],
             [
              0.6666666666666666,
              "#ed7953"
             ],
             [
              0.7777777777777778,
              "#fb9f3a"
             ],
             [
              0.8888888888888888,
              "#fdca26"
             ],
             [
              1,
              "#f0f921"
             ]
            ],
            "type": "surface"
           }
          ],
          "table": [
           {
            "cells": {
             "fill": {
              "color": "#EBF0F8"
             },
             "line": {
              "color": "white"
             }
            },
            "header": {
             "fill": {
              "color": "#C8D4E3"
             },
             "line": {
              "color": "white"
             }
            },
            "type": "table"
           }
          ]
         },
         "layout": {
          "annotationdefaults": {
           "arrowcolor": "#2a3f5f",
           "arrowhead": 0,
           "arrowwidth": 1
          },
          "autotypenumbers": "strict",
          "coloraxis": {
           "colorbar": {
            "outlinewidth": 0,
            "ticks": ""
           }
          },
          "colorscale": {
           "diverging": [
            [
             0,
             "#8e0152"
            ],
            [
             0.1,
             "#c51b7d"
            ],
            [
             0.2,
             "#de77ae"
            ],
            [
             0.3,
             "#f1b6da"
            ],
            [
             0.4,
             "#fde0ef"
            ],
            [
             0.5,
             "#f7f7f7"
            ],
            [
             0.6,
             "#e6f5d0"
            ],
            [
             0.7,
             "#b8e186"
            ],
            [
             0.8,
             "#7fbc41"
            ],
            [
             0.9,
             "#4d9221"
            ],
            [
             1,
             "#276419"
            ]
           ],
           "sequential": [
            [
             0,
             "#0d0887"
            ],
            [
             0.1111111111111111,
             "#46039f"
            ],
            [
             0.2222222222222222,
             "#7201a8"
            ],
            [
             0.3333333333333333,
             "#9c179e"
            ],
            [
             0.4444444444444444,
             "#bd3786"
            ],
            [
             0.5555555555555556,
             "#d8576b"
            ],
            [
             0.6666666666666666,
             "#ed7953"
            ],
            [
             0.7777777777777778,
             "#fb9f3a"
            ],
            [
             0.8888888888888888,
             "#fdca26"
            ],
            [
             1,
             "#f0f921"
            ]
           ],
           "sequentialminus": [
            [
             0,
             "#0d0887"
            ],
            [
             0.1111111111111111,
             "#46039f"
            ],
            [
             0.2222222222222222,
             "#7201a8"
            ],
            [
             0.3333333333333333,
             "#9c179e"
            ],
            [
             0.4444444444444444,
             "#bd3786"
            ],
            [
             0.5555555555555556,
             "#d8576b"
            ],
            [
             0.6666666666666666,
             "#ed7953"
            ],
            [
             0.7777777777777778,
             "#fb9f3a"
            ],
            [
             0.8888888888888888,
             "#fdca26"
            ],
            [
             1,
             "#f0f921"
            ]
           ]
          },
          "colorway": [
           "#636efa",
           "#EF553B",
           "#00cc96",
           "#ab63fa",
           "#FFA15A",
           "#19d3f3",
           "#FF6692",
           "#B6E880",
           "#FF97FF",
           "#FECB52"
          ],
          "font": {
           "color": "#2a3f5f"
          },
          "geo": {
           "bgcolor": "white",
           "lakecolor": "white",
           "landcolor": "#E5ECF6",
           "showlakes": true,
           "showland": true,
           "subunitcolor": "white"
          },
          "hoverlabel": {
           "align": "left"
          },
          "hovermode": "closest",
          "mapbox": {
           "style": "light"
          },
          "paper_bgcolor": "white",
          "plot_bgcolor": "#E5ECF6",
          "polar": {
           "angularaxis": {
            "gridcolor": "white",
            "linecolor": "white",
            "ticks": ""
           },
           "bgcolor": "#E5ECF6",
           "radialaxis": {
            "gridcolor": "white",
            "linecolor": "white",
            "ticks": ""
           }
          },
          "scene": {
           "xaxis": {
            "backgroundcolor": "#E5ECF6",
            "gridcolor": "white",
            "gridwidth": 2,
            "linecolor": "white",
            "showbackground": true,
            "ticks": "",
            "zerolinecolor": "white"
           },
           "yaxis": {
            "backgroundcolor": "#E5ECF6",
            "gridcolor": "white",
            "gridwidth": 2,
            "linecolor": "white",
            "showbackground": true,
            "ticks": "",
            "zerolinecolor": "white"
           },
           "zaxis": {
            "backgroundcolor": "#E5ECF6",
            "gridcolor": "white",
            "gridwidth": 2,
            "linecolor": "white",
            "showbackground": true,
            "ticks": "",
            "zerolinecolor": "white"
           }
          },
          "shapedefaults": {
           "line": {
            "color": "#2a3f5f"
           }
          },
          "ternary": {
           "aaxis": {
            "gridcolor": "white",
            "linecolor": "white",
            "ticks": ""
           },
           "baxis": {
            "gridcolor": "white",
            "linecolor": "white",
            "ticks": ""
           },
           "bgcolor": "#E5ECF6",
           "caxis": {
            "gridcolor": "white",
            "linecolor": "white",
            "ticks": ""
           }
          },
          "title": {
           "x": 0.05
          },
          "xaxis": {
           "automargin": true,
           "gridcolor": "white",
           "linecolor": "white",
           "ticks": "",
           "title": {
            "standoff": 15
           },
           "zerolinecolor": "white",
           "zerolinewidth": 2
          },
          "yaxis": {
           "automargin": true,
           "gridcolor": "white",
           "linecolor": "white",
           "ticks": "",
           "title": {
            "standoff": 15
           },
           "zerolinecolor": "white",
           "zerolinewidth": 2
          }
         }
        },
        "xaxis": {
         "anchor": "y",
         "domain": [
          0,
          1
         ],
         "title": {
          "text": "date"
         }
        },
        "yaxis": {
         "anchor": "x",
         "domain": [
          0,
          1
         ],
         "title": {
          "text": "value"
         }
        }
       }
      }
     },
     "metadata": {},
     "output_type": "display_data"
    },
    {
     "name": "stdout",
     "output_type": "stream",
     "text": [
      "Meta-labeled strategy Sharpe: 3.52\n",
      "Meta-labeled strategy win rate: 83.9%\n",
      "Meta-labeled strategy average win: $106.59\n",
      "Meta-labeled strategy average loss: $349.44\n",
      "Meta-labeled strategy expected value per trade: $33.18\n"
     ]
    }
   ],
   "source": [
    "# Take the meta-model's trade/no trade reccomendations and add them to the base strategy backtest DataFrame to create a meta-labeled backtest DataFrame.\n",
    "# We will now only calculate PnL for a given day if the meta-model recommends to trade, setting net PnL to 0, effectively skipping the day otherwise\n",
    "metalabeled_strat_backtest_df = base_backtest_df.copy()\n",
    "aligned_preds = metalabeled_backtest_df['predicted_avoid_trade'].reindex(metalabeled_strat_backtest_df.index)\n",
    "metalabeled_strat_backtest_df['predicted_avoid_trade'] = aligned_preds\n",
    "metalabeled_strat_backtest_df = metalabeled_strat_backtest_df.dropna()\n",
    "metalabeled_strat_backtest_df['predicted_avoid_trade'] = metalabeled_strat_backtest_df['predicted_avoid_trade'].astype(int)\n",
    "\n",
    "metalabeled_strat_backtest_df['gross_pnl'] = metalabeled_strat_backtest_df.apply(calculate_pnl, axis=1)\n",
    "metalabeled_strat_backtest_df['net_pnl'] = np.where(metalabeled_strat_backtest_df['predicted_avoid_trade'] == 0, metalabeled_strat_backtest_df['gross_pnl'] * metalabeled_strat_backtest_df['contracts'] - metalabeled_strat_backtest_df['fees'], 0)\n",
    "\n",
    "capital = 3000\n",
    "\n",
    "metalabeled_strat_backtest_df['net_capital'] = capital + (metalabeled_strat_backtest_df['net_pnl']*100).cumsum()\n",
    "metalabeled_strat_backtest_df['day_begin_net_capital'] = metalabeled_strat_backtest_df['net_capital'] - (metalabeled_strat_backtest_df['net_pnl']*100)\n",
    "metalabeled_strat_backtest_df['cumulative_pnl'] = metalabeled_strat_backtest_df['net_pnl'].cumsum()\n",
    "metalabeled_strat_backtest_df['pct_return'] = (metalabeled_strat_backtest_df['net_pnl']* 100)/ metalabeled_strat_backtest_df['day_begin_net_capital']\n",
    "\n",
    "# Plot and metrics\n",
    "px.line(metalabeled_strat_backtest_df['net_capital']).show()\n",
    "print(f\"Meta-labeled strategy Sharpe: {round(sharpe_ratio(returns=metalabeled_strat_backtest_df['pct_return']), 2)}\")\n",
    "\n",
    "metalabeled_strat_win_rate = len(metalabeled_strat_backtest_df[metalabeled_strat_backtest_df['net_pnl'] > 0]) / len(metalabeled_strat_backtest_df[metalabeled_strat_backtest_df['predicted_avoid_trade'] == 0])\n",
    "metalabeled_strat_avg_win = metalabeled_strat_backtest_df[metalabeled_strat_backtest_df['net_pnl'] > 0]['net_pnl'].mean() * 100\n",
    "metalabeled_strat_avg_loss = abs(metalabeled_strat_backtest_df[metalabeled_strat_backtest_df['net_pnl'] < 0]['net_pnl'].mean() * 100)\n",
    "\n",
    "print(f\"Meta-labeled strategy win rate: {round(metalabeled_strat_win_rate * 100, 2)}%\")\n",
    "print(f\"Meta-labeled strategy average win: ${round(metalabeled_strat_avg_win, 2)}\")\n",
    "print(f\"Meta-labeled strategy average loss: ${round(metalabeled_strat_avg_loss, 2)}\")\n",
    "print(f\"Meta-labeled strategy expected value per trade: ${round((metalabeled_strat_avg_win * metalabeled_strat_win_rate) - (metalabeled_strat_avg_loss * (1 - metalabeled_strat_win_rate)), 2)}\")"
   ]
  },
  {
   "cell_type": "markdown",
   "metadata": {},
   "source": [
    "### Improvement Metrics"
   ]
  },
  {
   "cell_type": "code",
   "execution_count": 238,
   "metadata": {},
   "outputs": [
    {
     "name": "stdout",
     "output_type": "stream",
     "text": [
      "Sharpe Improvement: 42.19%\n",
      "Average Win Improvement: -0.72%\n",
      "Average Loss Improvement: -2.62%\n",
      "EV Per Trade Improvement: 55.59%\n"
     ]
    }
   ],
   "source": [
    "sharpe_improvement = (sharpe_ratio(returns=metalabeled_strat_backtest_df['pct_return']) - sharpe_ratio(returns=base_strat_backtest_df['pct_return'])) / sharpe_ratio(returns=base_strat_backtest_df['pct_return'])\n",
    "avg_win_improvement = (metalabeled_strat_avg_win - base_strat_avg_win) / base_strat_avg_win\n",
    "avg_loss_improvement = (metalabeled_strat_avg_loss - base_strat_avg_loss) / base_strat_avg_loss\n",
    "ev_improvement = (((metalabeled_strat_avg_win * metalabeled_strat_win_rate) - (metalabeled_strat_avg_loss * (1 - metalabeled_strat_win_rate))) - ((base_strat_avg_win * base_strat_win_rate) - (base_strat_avg_loss * (1 - base_strat_win_rate)))) / ((base_strat_avg_win * base_strat_win_rate) - (base_strat_avg_loss * (1 - base_strat_win_rate)))\n",
    "\n",
    "print(f\"Sharpe Improvement: {round(sharpe_improvement * 100, 2)}%\")\n",
    "print(f\"Average Win Improvement: {round(avg_win_improvement * 100, 2)}%\")\n",
    "print(f\"Average Loss Improvement: {round(avg_loss_improvement * 100, 2)}%\")\n",
    "print(f\"EV Per Trade Improvement: {round(ev_improvement * 100, 2)}%\")"
   ]
  },
  {
   "cell_type": "markdown",
   "metadata": {},
   "source": [
    "# Miscellaneous Functionalities"
   ]
  },
  {
   "cell_type": "markdown",
   "metadata": {},
   "source": [
    "### Realized Vs. Implied Volatility Plots and Metrics"
   ]
  },
  {
   "cell_type": "code",
   "execution_count": 236,
   "metadata": {},
   "outputs": [],
   "source": [
    "# implied and realized volatility metrics\n",
    "base_strat_backtest_df['trade_to_close_vol'] = abs((base_strat_backtest_df['underlying_closing_price'] - base_strat_backtest_df['underlying_price_at_trade']) / base_strat_backtest_df['underlying_price_at_trade']) * 100\n",
    "base_strat_backtest_df['current_day_IV'] = base_strat_backtest_df['vix1d_value'] / np.sqrt(252)\n",
    "base_strat_backtest_df['current_day_VRP'] = base_strat_backtest_df['current_day_IV'] - base_strat_backtest_df['trade_to_close_vol']"
   ]
  },
  {
   "cell_type": "code",
   "execution_count": 237,
   "metadata": {},
   "outputs": [
    {
     "data": {
      "application/vnd.plotly.v1+json": {
       "config": {
        "plotlyServerURL": "https://plot.ly"
       },
       "data": [
        {
         "marker": {
          "color": "blue"
         },
         "mode": "markers",
         "name": "Current Day VRP",
         "type": "scatter",
         "x": [
          "2023-11-17",
          "2023-11-20",
          "2023-11-21",
          "2023-11-22",
          "2023-11-24",
          "2023-11-27",
          "2023-11-28",
          "2023-11-29",
          "2023-11-30",
          "2023-12-01",
          "2023-12-04",
          "2023-12-05",
          "2023-12-06",
          "2023-12-07",
          "2023-12-08",
          "2023-12-11",
          "2023-12-12",
          "2023-12-13",
          "2023-12-14",
          "2023-12-15",
          "2023-12-18",
          "2023-12-19",
          "2023-12-20",
          "2023-12-21",
          "2023-12-22",
          "2023-12-26",
          "2023-12-27",
          "2023-12-28",
          "2023-12-29",
          "2024-01-02",
          "2024-01-03",
          "2024-01-04",
          "2024-01-05",
          "2024-01-08",
          "2024-01-09",
          "2024-01-10",
          "2024-01-11",
          "2024-01-12",
          "2024-01-16",
          "2024-01-17",
          "2024-01-18",
          "2024-01-19",
          "2024-01-22",
          "2024-01-23",
          "2024-01-24",
          "2024-01-25",
          "2024-01-26",
          "2024-01-29",
          "2024-01-30",
          "2024-01-31",
          "2024-02-01",
          "2024-02-02",
          "2024-02-05",
          "2024-02-06",
          "2024-02-07",
          "2024-02-08",
          "2024-02-12",
          "2024-02-13",
          "2024-02-14",
          "2024-02-15",
          "2024-02-16",
          "2024-02-20",
          "2024-02-21",
          "2024-02-22",
          "2024-02-23",
          "2024-02-26",
          "2024-02-27",
          "2024-02-28",
          "2024-02-29",
          "2024-03-01",
          "2024-03-04",
          "2024-03-05",
          "2024-03-06",
          "2024-03-07",
          "2024-03-08",
          "2024-03-11",
          "2024-03-12",
          "2024-03-13",
          "2024-03-14",
          "2024-03-15",
          "2024-03-18",
          "2024-03-19",
          "2024-03-20",
          "2024-03-21",
          "2024-03-22",
          "2024-03-25",
          "2024-03-26",
          "2024-03-27",
          "2024-03-28",
          "2024-04-01",
          "2024-04-02",
          "2024-04-03",
          "2024-04-04",
          "2024-04-05",
          "2024-04-08",
          "2024-04-09",
          "2024-04-10",
          "2024-04-11",
          "2024-04-12",
          "2024-04-15",
          "2024-04-16",
          "2024-04-17",
          "2024-04-18",
          "2024-04-19",
          "2024-04-22",
          "2024-04-23",
          "2024-04-24",
          "2024-04-25",
          "2024-04-26",
          "2024-04-29",
          "2024-04-30",
          "2024-05-01",
          "2024-05-02",
          "2024-05-03",
          "2024-05-06",
          "2024-05-07",
          "2024-05-08",
          "2024-05-09",
          "2024-05-10",
          "2024-05-13",
          "2024-05-14",
          "2024-05-15",
          "2024-05-16",
          "2024-05-17",
          "2024-05-20",
          "2024-05-21",
          "2024-05-22",
          "2024-05-23",
          "2024-05-24",
          "2024-05-28",
          "2024-05-29",
          "2024-05-30",
          "2024-05-31",
          "2024-06-03",
          "2024-06-04",
          "2024-06-05",
          "2024-06-06",
          "2024-06-07",
          "2024-06-10",
          "2024-06-11",
          "2024-06-12",
          "2024-06-13",
          "2024-06-14",
          "2024-06-17",
          "2024-06-18",
          "2024-06-20",
          "2024-06-21",
          "2024-06-24",
          "2024-06-25",
          "2024-06-26",
          "2024-06-27",
          "2024-06-28",
          "2024-07-01",
          "2024-07-02",
          "2024-07-03",
          "2024-07-05",
          "2024-07-08",
          "2024-07-09",
          "2024-07-10",
          "2024-07-11",
          "2024-07-12",
          "2024-07-15",
          "2024-07-16",
          "2024-07-17",
          "2024-07-18",
          "2024-07-19",
          "2024-07-22",
          "2024-07-23",
          "2024-07-24",
          "2024-07-25",
          "2024-07-26",
          "2024-07-29",
          "2024-07-30",
          "2024-07-31",
          "2024-08-01",
          "2024-08-02",
          "2024-08-05",
          "2024-08-06",
          "2024-08-07",
          "2024-08-08",
          "2024-08-09",
          "2024-08-12",
          "2024-08-13",
          "2024-08-14",
          "2024-08-15",
          "2024-08-16",
          "2024-08-19",
          "2024-08-20",
          "2024-08-21",
          "2024-08-22",
          "2024-08-23",
          "2024-08-26",
          "2024-08-27",
          "2024-08-28",
          "2024-08-29",
          "2024-08-30",
          "2024-09-03",
          "2024-09-04",
          "2024-09-05",
          "2024-09-06",
          "2024-09-09",
          "2024-09-10",
          "2024-09-11",
          "2024-09-12",
          "2024-09-13",
          "2024-09-16",
          "2024-09-17",
          "2024-09-18",
          "2024-09-19",
          "2024-09-20",
          "2024-09-23",
          "2024-09-24",
          "2024-09-25",
          "2024-09-26",
          "2024-09-27",
          "2024-09-30",
          "2024-10-01",
          "2024-10-02",
          "2024-10-03",
          "2024-10-04",
          "2024-10-07",
          "2024-10-08",
          "2024-10-09",
          "2024-10-10",
          "2024-10-11",
          "2024-10-14",
          "2024-10-15",
          "2024-10-16",
          "2024-10-17",
          "2024-10-18",
          "2024-10-21",
          "2024-10-22",
          "2024-10-23"
         ],
         "xaxis": "x",
         "y": [
          0.4499379693111799,
          -0.17504536845305035,
          0.43866645682241695,
          0.32778969554162307,
          0.4838230688875462,
          0.36177046434902455,
          0.22999736105474122,
          -0.27155363883953576,
          0.21743518889853575,
          -0.23814409427851202,
          0.384407787078779,
          0.27168033954947063,
          -0.2774630425035326,
          0.1902157560268361,
          0.07394577554224568,
          -0.0827109711026125,
          -0.17514053161668697,
          -0.5529509853373514,
          0.34896952552484267,
          0.4092377003728189,
          0.29509684329688984,
          -0.010434579783144382,
          -0.8716138881785613,
          0.4483868950866994,
          0.4285408140285321,
          0.2527302681424607,
          0.3479799345826831,
          0.31738858984761864,
          0.17504107960418985,
          0.5022381899135191,
          0.23312581765121537,
          0.17209391554305897,
          0.5527419857084171,
          -0.6757719770522297,
          0.08937129233597385,
          0.15825639348135612,
          0.25119223698010074,
          0.3276707485470947,
          0.5117940225504238,
          0.3855930319127514,
          0.08719071478084445,
          -0.44228271990925616,
          0.22386466731576893,
          0.26080477812000136,
          0.018166579326746257,
          0.448232711592401,
          0.45441689217566694,
          -0.20833502632942485,
          0.47775179757869896,
          -0.49823845216384277,
          -0.08888864645108119,
          -0.2253277019970389,
          0.42779140992263603,
          0.4101378594787586,
          0.12179810577983352,
          0.4447456187232006,
          0.3359633049040751,
          0.44072355124278206,
          0.11535192324314258,
          0.15718279351228087,
          0.3131468710183034,
          0.2181796700523183,
          0.1759330356369987,
          -0.29316997714373083,
          0.18181750576505618,
          -0.06827261581838379,
          0.31083799072539753,
          0.3765636799578359,
          0.5544084770498328,
          -0.1285337056705964,
          0.4077843758392025,
          -0.03561363693206365,
          0.4882762473658391,
          0.25623419403836073,
          -0.2062653334299971,
          0.5002331197227733,
          -0.15759944692452887,
          0.3121517911635313,
          0.1269263003327149,
          0.5602979902003279,
          0.15260364809678512,
          -0.20903985869673236,
          -0.05876238803529488,
          0.28946353442584916,
          0.32998878455984393,
          0.2956586571535604,
          -0.1167283769048642,
          0.10330140254915277,
          0.3380406061619715,
          0.06354475384513103,
          0.3590191543552528,
          0.3272675919248961,
          -1.5860905733370672,
          0.09086977755636105,
          0.5219272164901159,
          0.3774939170034002,
          0.7699875134372581,
          0.2140497333768211,
          0.05228885562765795,
          -1.177355928724803,
          0.7808035961874644,
          -0.15166356887101184,
          0.6212318424926465,
          0.1499575655517813,
          0.28630319545106747,
          -0.14524249712669546,
          0.43001237369689316,
          -0.10122356326950843,
          0.4473071970456299,
          0.4609637241066882,
          -0.6885350546870376,
          0.7520082655294997,
          0.38651846313730664,
          0.5675021311682755,
          -0.08588998235497958,
          0.38606654254471123,
          0.15297039931820772,
          -0.005762791703462,
          0.29219624038701875,
          0.20523986134159386,
          0.1271665705430085,
          0.013693362123752384,
          0.14948660546967774,
          0.35798771925761674,
          0.29340251968602726,
          0.015460927692943216,
          0.18956169590553595,
          -0.63775497934506,
          0.22376726791678125,
          0.25849878128387993,
          0.46627233777082666,
          0.23916012806022396,
          -0.015235172974742972,
          0.24608699988601504,
          0.15321704017555882,
          -0.2349651734650624,
          0.41864175209222676,
          0.43216525325105926,
          0.015328119100793292,
          -0.1288307492901689,
          0.8110848936435229,
          0.4529234298677891,
          0.2706019877481349,
          -0.3907375318784109,
          0.452011621328811,
          0.11477124319618054,
          0.47751361020839944,
          0.20367944966505913,
          0.22154336557677518,
          0.10317421480304612,
          0.47286960650277277,
          -0.08996277342561387,
          0.4969390355925672,
          -0.29736610380415157,
          0.1539642165985316,
          -0.021291033973564244,
          0.34012018381829956,
          0.30896797155613676,
          -0.40367261496068846,
          -0.3216873233940928,
          0.12746014341398737,
          0.3608028455907088,
          0.19216372187805553,
          0.07763614787790996,
          -0.4188350756340369,
          0.11664766676324423,
          0.27327501418949246,
          0.4512031647763691,
          -0.5717588197531915,
          0.5296864530640841,
          0.5612043760861459,
          0.7120208490624553,
          -0.16792435398429195,
          0.585723671338255,
          -1.0514311062227213,
          1.1718068348186401,
          1.8181993116614164,
          0.994553475225073,
          -0.8868258761668539,
          0.1284374989740511,
          0.6418891770083022,
          0.599680863879526,
          -0.012602780844654604,
          0.5847551290171509,
          0.11548992060354246,
          0.3185697115263826,
          -0.2387187524908222,
          0.3114682687250202,
          0.48305521547927543,
          -0.025803261875512407,
          0.4139113765916118,
          0.046377894663538366,
          0.17053263727185175,
          0.039344827813335925,
          0.21441944079750247,
          0.15952503488492942,
          -0.7271200195847275,
          0.8703242658882941,
          0.5557279180726016,
          -0.9760021799672056,
          0.5890362238009121,
          0.6213181524333387,
          -0.5299314548741638,
          0.17104646214304509,
          0.5404715088403147,
          0.36901237818392796,
          0.41854115874894077,
          1.1229357271916962,
          0.6325088533717178,
          0.7083587669199595,
          0.47061135147767885,
          0.33565760210024165,
          0.187806131538939,
          0.32718709805627577,
          0.26921681171303496,
          0.1108146539591115,
          0.37744108653557035,
          0.3706316064073409,
          0.7380884660863014,
          0.6609176456122252,
          -0.02000652303010164,
          0.06665114482259882,
          -0.19847304249974074,
          0.5965797403934734,
          0.07697257817118397,
          0.11399826326427082,
          -0.3692286645032826,
          0.06935582761366416,
          0.22851583909736367,
          0.26191649093137515,
          0.374212390397311,
          0.11981473002225879,
          -0.13296889070673884
         ],
         "yaxis": "y"
        },
        {
         "marker": {
          "color": "lightblue",
          "line": {
           "color": "blue",
           "width": 1
          },
          "opacity": 0.6
         },
         "name": "VRP Distribution",
         "type": "histogram",
         "x": [
          0.4499379693111799,
          -0.17504536845305035,
          0.43866645682241695,
          0.32778969554162307,
          0.4838230688875462,
          0.36177046434902455,
          0.22999736105474122,
          -0.27155363883953576,
          0.21743518889853575,
          -0.23814409427851202,
          0.384407787078779,
          0.27168033954947063,
          -0.2774630425035326,
          0.1902157560268361,
          0.07394577554224568,
          -0.0827109711026125,
          -0.17514053161668697,
          -0.5529509853373514,
          0.34896952552484267,
          0.4092377003728189,
          0.29509684329688984,
          -0.010434579783144382,
          -0.8716138881785613,
          0.4483868950866994,
          0.4285408140285321,
          0.2527302681424607,
          0.3479799345826831,
          0.31738858984761864,
          0.17504107960418985,
          0.5022381899135191,
          0.23312581765121537,
          0.17209391554305897,
          0.5527419857084171,
          -0.6757719770522297,
          0.08937129233597385,
          0.15825639348135612,
          0.25119223698010074,
          0.3276707485470947,
          0.5117940225504238,
          0.3855930319127514,
          0.08719071478084445,
          -0.44228271990925616,
          0.22386466731576893,
          0.26080477812000136,
          0.018166579326746257,
          0.448232711592401,
          0.45441689217566694,
          -0.20833502632942485,
          0.47775179757869896,
          -0.49823845216384277,
          -0.08888864645108119,
          -0.2253277019970389,
          0.42779140992263603,
          0.4101378594787586,
          0.12179810577983352,
          0.4447456187232006,
          0.3359633049040751,
          0.44072355124278206,
          0.11535192324314258,
          0.15718279351228087,
          0.3131468710183034,
          0.2181796700523183,
          0.1759330356369987,
          -0.29316997714373083,
          0.18181750576505618,
          -0.06827261581838379,
          0.31083799072539753,
          0.3765636799578359,
          0.5544084770498328,
          -0.1285337056705964,
          0.4077843758392025,
          -0.03561363693206365,
          0.4882762473658391,
          0.25623419403836073,
          -0.2062653334299971,
          0.5002331197227733,
          -0.15759944692452887,
          0.3121517911635313,
          0.1269263003327149,
          0.5602979902003279,
          0.15260364809678512,
          -0.20903985869673236,
          -0.05876238803529488,
          0.28946353442584916,
          0.32998878455984393,
          0.2956586571535604,
          -0.1167283769048642,
          0.10330140254915277,
          0.3380406061619715,
          0.06354475384513103,
          0.3590191543552528,
          0.3272675919248961,
          -1.5860905733370672,
          0.09086977755636105,
          0.5219272164901159,
          0.3774939170034002,
          0.7699875134372581,
          0.2140497333768211,
          0.05228885562765795,
          -1.177355928724803,
          0.7808035961874644,
          -0.15166356887101184,
          0.6212318424926465,
          0.1499575655517813,
          0.28630319545106747,
          -0.14524249712669546,
          0.43001237369689316,
          -0.10122356326950843,
          0.4473071970456299,
          0.4609637241066882,
          -0.6885350546870376,
          0.7520082655294997,
          0.38651846313730664,
          0.5675021311682755,
          -0.08588998235497958,
          0.38606654254471123,
          0.15297039931820772,
          -0.005762791703462,
          0.29219624038701875,
          0.20523986134159386,
          0.1271665705430085,
          0.013693362123752384,
          0.14948660546967774,
          0.35798771925761674,
          0.29340251968602726,
          0.015460927692943216,
          0.18956169590553595,
          -0.63775497934506,
          0.22376726791678125,
          0.25849878128387993,
          0.46627233777082666,
          0.23916012806022396,
          -0.015235172974742972,
          0.24608699988601504,
          0.15321704017555882,
          -0.2349651734650624,
          0.41864175209222676,
          0.43216525325105926,
          0.015328119100793292,
          -0.1288307492901689,
          0.8110848936435229,
          0.4529234298677891,
          0.2706019877481349,
          -0.3907375318784109,
          0.452011621328811,
          0.11477124319618054,
          0.47751361020839944,
          0.20367944966505913,
          0.22154336557677518,
          0.10317421480304612,
          0.47286960650277277,
          -0.08996277342561387,
          0.4969390355925672,
          -0.29736610380415157,
          0.1539642165985316,
          -0.021291033973564244,
          0.34012018381829956,
          0.30896797155613676,
          -0.40367261496068846,
          -0.3216873233940928,
          0.12746014341398737,
          0.3608028455907088,
          0.19216372187805553,
          0.07763614787790996,
          -0.4188350756340369,
          0.11664766676324423,
          0.27327501418949246,
          0.4512031647763691,
          -0.5717588197531915,
          0.5296864530640841,
          0.5612043760861459,
          0.7120208490624553,
          -0.16792435398429195,
          0.585723671338255,
          -1.0514311062227213,
          1.1718068348186401,
          1.8181993116614164,
          0.994553475225073,
          -0.8868258761668539,
          0.1284374989740511,
          0.6418891770083022,
          0.599680863879526,
          -0.012602780844654604,
          0.5847551290171509,
          0.11548992060354246,
          0.3185697115263826,
          -0.2387187524908222,
          0.3114682687250202,
          0.48305521547927543,
          -0.025803261875512407,
          0.4139113765916118,
          0.046377894663538366,
          0.17053263727185175,
          0.039344827813335925,
          0.21441944079750247,
          0.15952503488492942,
          -0.7271200195847275,
          0.8703242658882941,
          0.5557279180726016,
          -0.9760021799672056,
          0.5890362238009121,
          0.6213181524333387,
          -0.5299314548741638,
          0.17104646214304509,
          0.5404715088403147,
          0.36901237818392796,
          0.41854115874894077,
          1.1229357271916962,
          0.6325088533717178,
          0.7083587669199595,
          0.47061135147767885,
          0.33565760210024165,
          0.187806131538939,
          0.32718709805627577,
          0.26921681171303496,
          0.1108146539591115,
          0.37744108653557035,
          0.3706316064073409,
          0.7380884660863014,
          0.6609176456122252,
          -0.02000652303010164,
          0.06665114482259882,
          -0.19847304249974074,
          0.5965797403934734,
          0.07697257817118397,
          0.11399826326427082,
          -0.3692286645032826,
          0.06935582761366416,
          0.22851583909736367,
          0.26191649093137515,
          0.374212390397311,
          0.11981473002225879,
          -0.13296889070673884
         ],
         "xaxis": "x2",
         "yaxis": "y2"
        }
       ],
       "layout": {
        "annotations": [
         {
          "font": {
           "size": 16
          },
          "showarrow": false,
          "text": "Daily VRPs Scatter Plot",
          "x": 0.5,
          "xanchor": "center",
          "xref": "paper",
          "y": 1,
          "yanchor": "bottom",
          "yref": "paper"
         },
         {
          "font": {
           "size": 16
          },
          "showarrow": false,
          "text": "Histogram of Current Day VRP",
          "x": 0.5,
          "xanchor": "center",
          "xref": "paper",
          "y": 0.375,
          "yanchor": "bottom",
          "yref": "paper"
         }
        ],
        "height": 800,
        "shapes": [
         {
          "line": {
           "color": "red",
           "width": 2
          },
          "type": "line",
          "x0": 0,
          "x1": 1,
          "xref": "x domain",
          "y0": 0,
          "y1": 0,
          "yref": "y"
         }
        ],
        "showlegend": false,
        "template": {
         "data": {
          "bar": [
           {
            "error_x": {
             "color": "#2a3f5f"
            },
            "error_y": {
             "color": "#2a3f5f"
            },
            "marker": {
             "line": {
              "color": "#E5ECF6",
              "width": 0.5
             },
             "pattern": {
              "fillmode": "overlay",
              "size": 10,
              "solidity": 0.2
             }
            },
            "type": "bar"
           }
          ],
          "barpolar": [
           {
            "marker": {
             "line": {
              "color": "#E5ECF6",
              "width": 0.5
             },
             "pattern": {
              "fillmode": "overlay",
              "size": 10,
              "solidity": 0.2
             }
            },
            "type": "barpolar"
           }
          ],
          "carpet": [
           {
            "aaxis": {
             "endlinecolor": "#2a3f5f",
             "gridcolor": "white",
             "linecolor": "white",
             "minorgridcolor": "white",
             "startlinecolor": "#2a3f5f"
            },
            "baxis": {
             "endlinecolor": "#2a3f5f",
             "gridcolor": "white",
             "linecolor": "white",
             "minorgridcolor": "white",
             "startlinecolor": "#2a3f5f"
            },
            "type": "carpet"
           }
          ],
          "choropleth": [
           {
            "colorbar": {
             "outlinewidth": 0,
             "ticks": ""
            },
            "type": "choropleth"
           }
          ],
          "contour": [
           {
            "colorbar": {
             "outlinewidth": 0,
             "ticks": ""
            },
            "colorscale": [
             [
              0,
              "#0d0887"
             ],
             [
              0.1111111111111111,
              "#46039f"
             ],
             [
              0.2222222222222222,
              "#7201a8"
             ],
             [
              0.3333333333333333,
              "#9c179e"
             ],
             [
              0.4444444444444444,
              "#bd3786"
             ],
             [
              0.5555555555555556,
              "#d8576b"
             ],
             [
              0.6666666666666666,
              "#ed7953"
             ],
             [
              0.7777777777777778,
              "#fb9f3a"
             ],
             [
              0.8888888888888888,
              "#fdca26"
             ],
             [
              1,
              "#f0f921"
             ]
            ],
            "type": "contour"
           }
          ],
          "contourcarpet": [
           {
            "colorbar": {
             "outlinewidth": 0,
             "ticks": ""
            },
            "type": "contourcarpet"
           }
          ],
          "heatmap": [
           {
            "colorbar": {
             "outlinewidth": 0,
             "ticks": ""
            },
            "colorscale": [
             [
              0,
              "#0d0887"
             ],
             [
              0.1111111111111111,
              "#46039f"
             ],
             [
              0.2222222222222222,
              "#7201a8"
             ],
             [
              0.3333333333333333,
              "#9c179e"
             ],
             [
              0.4444444444444444,
              "#bd3786"
             ],
             [
              0.5555555555555556,
              "#d8576b"
             ],
             [
              0.6666666666666666,
              "#ed7953"
             ],
             [
              0.7777777777777778,
              "#fb9f3a"
             ],
             [
              0.8888888888888888,
              "#fdca26"
             ],
             [
              1,
              "#f0f921"
             ]
            ],
            "type": "heatmap"
           }
          ],
          "heatmapgl": [
           {
            "colorbar": {
             "outlinewidth": 0,
             "ticks": ""
            },
            "colorscale": [
             [
              0,
              "#0d0887"
             ],
             [
              0.1111111111111111,
              "#46039f"
             ],
             [
              0.2222222222222222,
              "#7201a8"
             ],
             [
              0.3333333333333333,
              "#9c179e"
             ],
             [
              0.4444444444444444,
              "#bd3786"
             ],
             [
              0.5555555555555556,
              "#d8576b"
             ],
             [
              0.6666666666666666,
              "#ed7953"
             ],
             [
              0.7777777777777778,
              "#fb9f3a"
             ],
             [
              0.8888888888888888,
              "#fdca26"
             ],
             [
              1,
              "#f0f921"
             ]
            ],
            "type": "heatmapgl"
           }
          ],
          "histogram": [
           {
            "marker": {
             "pattern": {
              "fillmode": "overlay",
              "size": 10,
              "solidity": 0.2
             }
            },
            "type": "histogram"
           }
          ],
          "histogram2d": [
           {
            "colorbar": {
             "outlinewidth": 0,
             "ticks": ""
            },
            "colorscale": [
             [
              0,
              "#0d0887"
             ],
             [
              0.1111111111111111,
              "#46039f"
             ],
             [
              0.2222222222222222,
              "#7201a8"
             ],
             [
              0.3333333333333333,
              "#9c179e"
             ],
             [
              0.4444444444444444,
              "#bd3786"
             ],
             [
              0.5555555555555556,
              "#d8576b"
             ],
             [
              0.6666666666666666,
              "#ed7953"
             ],
             [
              0.7777777777777778,
              "#fb9f3a"
             ],
             [
              0.8888888888888888,
              "#fdca26"
             ],
             [
              1,
              "#f0f921"
             ]
            ],
            "type": "histogram2d"
           }
          ],
          "histogram2dcontour": [
           {
            "colorbar": {
             "outlinewidth": 0,
             "ticks": ""
            },
            "colorscale": [
             [
              0,
              "#0d0887"
             ],
             [
              0.1111111111111111,
              "#46039f"
             ],
             [
              0.2222222222222222,
              "#7201a8"
             ],
             [
              0.3333333333333333,
              "#9c179e"
             ],
             [
              0.4444444444444444,
              "#bd3786"
             ],
             [
              0.5555555555555556,
              "#d8576b"
             ],
             [
              0.6666666666666666,
              "#ed7953"
             ],
             [
              0.7777777777777778,
              "#fb9f3a"
             ],
             [
              0.8888888888888888,
              "#fdca26"
             ],
             [
              1,
              "#f0f921"
             ]
            ],
            "type": "histogram2dcontour"
           }
          ],
          "mesh3d": [
           {
            "colorbar": {
             "outlinewidth": 0,
             "ticks": ""
            },
            "type": "mesh3d"
           }
          ],
          "parcoords": [
           {
            "line": {
             "colorbar": {
              "outlinewidth": 0,
              "ticks": ""
             }
            },
            "type": "parcoords"
           }
          ],
          "pie": [
           {
            "automargin": true,
            "type": "pie"
           }
          ],
          "scatter": [
           {
            "fillpattern": {
             "fillmode": "overlay",
             "size": 10,
             "solidity": 0.2
            },
            "type": "scatter"
           }
          ],
          "scatter3d": [
           {
            "line": {
             "colorbar": {
              "outlinewidth": 0,
              "ticks": ""
             }
            },
            "marker": {
             "colorbar": {
              "outlinewidth": 0,
              "ticks": ""
             }
            },
            "type": "scatter3d"
           }
          ],
          "scattercarpet": [
           {
            "marker": {
             "colorbar": {
              "outlinewidth": 0,
              "ticks": ""
             }
            },
            "type": "scattercarpet"
           }
          ],
          "scattergeo": [
           {
            "marker": {
             "colorbar": {
              "outlinewidth": 0,
              "ticks": ""
             }
            },
            "type": "scattergeo"
           }
          ],
          "scattergl": [
           {
            "marker": {
             "colorbar": {
              "outlinewidth": 0,
              "ticks": ""
             }
            },
            "type": "scattergl"
           }
          ],
          "scattermapbox": [
           {
            "marker": {
             "colorbar": {
              "outlinewidth": 0,
              "ticks": ""
             }
            },
            "type": "scattermapbox"
           }
          ],
          "scatterpolar": [
           {
            "marker": {
             "colorbar": {
              "outlinewidth": 0,
              "ticks": ""
             }
            },
            "type": "scatterpolar"
           }
          ],
          "scatterpolargl": [
           {
            "marker": {
             "colorbar": {
              "outlinewidth": 0,
              "ticks": ""
             }
            },
            "type": "scatterpolargl"
           }
          ],
          "scatterternary": [
           {
            "marker": {
             "colorbar": {
              "outlinewidth": 0,
              "ticks": ""
             }
            },
            "type": "scatterternary"
           }
          ],
          "surface": [
           {
            "colorbar": {
             "outlinewidth": 0,
             "ticks": ""
            },
            "colorscale": [
             [
              0,
              "#0d0887"
             ],
             [
              0.1111111111111111,
              "#46039f"
             ],
             [
              0.2222222222222222,
              "#7201a8"
             ],
             [
              0.3333333333333333,
              "#9c179e"
             ],
             [
              0.4444444444444444,
              "#bd3786"
             ],
             [
              0.5555555555555556,
              "#d8576b"
             ],
             [
              0.6666666666666666,
              "#ed7953"
             ],
             [
              0.7777777777777778,
              "#fb9f3a"
             ],
             [
              0.8888888888888888,
              "#fdca26"
             ],
             [
              1,
              "#f0f921"
             ]
            ],
            "type": "surface"
           }
          ],
          "table": [
           {
            "cells": {
             "fill": {
              "color": "#EBF0F8"
             },
             "line": {
              "color": "white"
             }
            },
            "header": {
             "fill": {
              "color": "#C8D4E3"
             },
             "line": {
              "color": "white"
             }
            },
            "type": "table"
           }
          ]
         },
         "layout": {
          "annotationdefaults": {
           "arrowcolor": "#2a3f5f",
           "arrowhead": 0,
           "arrowwidth": 1
          },
          "autotypenumbers": "strict",
          "coloraxis": {
           "colorbar": {
            "outlinewidth": 0,
            "ticks": ""
           }
          },
          "colorscale": {
           "diverging": [
            [
             0,
             "#8e0152"
            ],
            [
             0.1,
             "#c51b7d"
            ],
            [
             0.2,
             "#de77ae"
            ],
            [
             0.3,
             "#f1b6da"
            ],
            [
             0.4,
             "#fde0ef"
            ],
            [
             0.5,
             "#f7f7f7"
            ],
            [
             0.6,
             "#e6f5d0"
            ],
            [
             0.7,
             "#b8e186"
            ],
            [
             0.8,
             "#7fbc41"
            ],
            [
             0.9,
             "#4d9221"
            ],
            [
             1,
             "#276419"
            ]
           ],
           "sequential": [
            [
             0,
             "#0d0887"
            ],
            [
             0.1111111111111111,
             "#46039f"
            ],
            [
             0.2222222222222222,
             "#7201a8"
            ],
            [
             0.3333333333333333,
             "#9c179e"
            ],
            [
             0.4444444444444444,
             "#bd3786"
            ],
            [
             0.5555555555555556,
             "#d8576b"
            ],
            [
             0.6666666666666666,
             "#ed7953"
            ],
            [
             0.7777777777777778,
             "#fb9f3a"
            ],
            [
             0.8888888888888888,
             "#fdca26"
            ],
            [
             1,
             "#f0f921"
            ]
           ],
           "sequentialminus": [
            [
             0,
             "#0d0887"
            ],
            [
             0.1111111111111111,
             "#46039f"
            ],
            [
             0.2222222222222222,
             "#7201a8"
            ],
            [
             0.3333333333333333,
             "#9c179e"
            ],
            [
             0.4444444444444444,
             "#bd3786"
            ],
            [
             0.5555555555555556,
             "#d8576b"
            ],
            [
             0.6666666666666666,
             "#ed7953"
            ],
            [
             0.7777777777777778,
             "#fb9f3a"
            ],
            [
             0.8888888888888888,
             "#fdca26"
            ],
            [
             1,
             "#f0f921"
            ]
           ]
          },
          "colorway": [
           "#636efa",
           "#EF553B",
           "#00cc96",
           "#ab63fa",
           "#FFA15A",
           "#19d3f3",
           "#FF6692",
           "#B6E880",
           "#FF97FF",
           "#FECB52"
          ],
          "font": {
           "color": "#2a3f5f"
          },
          "geo": {
           "bgcolor": "white",
           "lakecolor": "white",
           "landcolor": "#E5ECF6",
           "showlakes": true,
           "showland": true,
           "subunitcolor": "white"
          },
          "hoverlabel": {
           "align": "left"
          },
          "hovermode": "closest",
          "mapbox": {
           "style": "light"
          },
          "paper_bgcolor": "white",
          "plot_bgcolor": "#E5ECF6",
          "polar": {
           "angularaxis": {
            "gridcolor": "white",
            "linecolor": "white",
            "ticks": ""
           },
           "bgcolor": "#E5ECF6",
           "radialaxis": {
            "gridcolor": "white",
            "linecolor": "white",
            "ticks": ""
           }
          },
          "scene": {
           "xaxis": {
            "backgroundcolor": "#E5ECF6",
            "gridcolor": "white",
            "gridwidth": 2,
            "linecolor": "white",
            "showbackground": true,
            "ticks": "",
            "zerolinecolor": "white"
           },
           "yaxis": {
            "backgroundcolor": "#E5ECF6",
            "gridcolor": "white",
            "gridwidth": 2,
            "linecolor": "white",
            "showbackground": true,
            "ticks": "",
            "zerolinecolor": "white"
           },
           "zaxis": {
            "backgroundcolor": "#E5ECF6",
            "gridcolor": "white",
            "gridwidth": 2,
            "linecolor": "white",
            "showbackground": true,
            "ticks": "",
            "zerolinecolor": "white"
           }
          },
          "shapedefaults": {
           "line": {
            "color": "#2a3f5f"
           }
          },
          "ternary": {
           "aaxis": {
            "gridcolor": "white",
            "linecolor": "white",
            "ticks": ""
           },
           "baxis": {
            "gridcolor": "white",
            "linecolor": "white",
            "ticks": ""
           },
           "bgcolor": "#E5ECF6",
           "caxis": {
            "gridcolor": "white",
            "linecolor": "white",
            "ticks": ""
           }
          },
          "title": {
           "x": 0.05
          },
          "xaxis": {
           "automargin": true,
           "gridcolor": "white",
           "linecolor": "white",
           "ticks": "",
           "title": {
            "standoff": 15
           },
           "zerolinecolor": "white",
           "zerolinewidth": 2
          },
          "yaxis": {
           "automargin": true,
           "gridcolor": "white",
           "linecolor": "white",
           "ticks": "",
           "title": {
            "standoff": 15
           },
           "zerolinecolor": "white",
           "zerolinewidth": 2
          }
         }
        },
        "xaxis": {
         "anchor": "y",
         "domain": [
          0,
          1
         ],
         "title": {
          "text": "Date"
         }
        },
        "xaxis2": {
         "anchor": "y2",
         "domain": [
          0,
          1
         ],
         "title": {
          "text": "VRP"
         }
        },
        "yaxis": {
         "anchor": "x",
         "domain": [
          0.625,
          1
         ],
         "title": {
          "text": "VRP"
         }
        },
        "yaxis2": {
         "anchor": "x2",
         "domain": [
          0,
          0.375
         ],
         "title": {
          "text": "Frequency"
         }
        }
       }
      }
     },
     "metadata": {},
     "output_type": "display_data"
    },
    {
     "name": "stdout",
     "output_type": "stream",
     "text": [
      "Overestimation %: 75.54%\n",
      "Mean overestimation when VIX1D overestimates: 0.35%\n",
      "Mean overestimation: 0.19%\n"
     ]
    }
   ],
   "source": [
    "fig = make_subplots(\n",
    "    rows=2, cols=1,\n",
    "    subplot_titles=(\"Daily VRPs Scatter Plot\", \"Histogram of Current Day VRP\"),\n",
    "    row_heights=[0.5, 0.5]\n",
    ")\n",
    "\n",
    "# Scatter Plot in the First Row\n",
    "fig.add_trace(\n",
    "    go.Scatter(\n",
    "        x=base_strat_backtest_df.index,  # x-axis as index (or replace with desired x-axis data)\n",
    "        y=base_strat_backtest_df['current_day_VRP'],\n",
    "        mode='markers',\n",
    "        marker=dict(color='blue'),\n",
    "        name='Current Day VRP'\n",
    "    ),\n",
    "    row=1, col=1\n",
    ")\n",
    "\n",
    "# Add a red line at y = 0 in the scatter plot\n",
    "fig.add_hline(\n",
    "    y=0, line=dict(color='red', width=2), row=1, col=1\n",
    ")\n",
    "\n",
    "# Histogram in the Second Row with lighter blue, translucent bars, and defined borders\n",
    "fig.add_trace(\n",
    "    go.Histogram(\n",
    "        x=base_strat_backtest_df['current_day_VRP'],\n",
    "        marker=dict(color='lightblue', opacity=0.6, line=dict(color='blue', width=1)),\n",
    "        name='VRP Distribution'\n",
    "    ),\n",
    "    row=2, col=1\n",
    ")\n",
    "\n",
    "# Update layout with increased height and hide legend\n",
    "fig.update_layout(\n",
    "    xaxis_title=\"Date\",\n",
    "    yaxis_title=\"VRP\",\n",
    "    xaxis2_title=\"VRP\",\n",
    "    yaxis2_title=\"Frequency\",\n",
    "    height=800,  # Increase this value to make the figure taller\n",
    "    showlegend=False  # Hide the legend\n",
    ")\n",
    "\n",
    "# Show combined plot\n",
    "fig.show()\n",
    "\n",
    "overestimation_pct = len(base_strat_backtest_df[base_strat_backtest_df['current_day_VRP'] > 0]) / len(base_strat_backtest_df)\n",
    "mean_overestimation_when_overestimates = base_strat_backtest_df[base_strat_backtest_df['current_day_VRP'] > 0]['current_day_VRP'].mean()\n",
    "mean_overestimation_total = base_strat_backtest_df['current_day_VRP'].mean()\n",
    "\n",
    "print(f\"Overestimation %: {round(overestimation_pct * 100, 2)}%\")\n",
    "print(f\"Mean overestimation when VIX1D overestimates: {round(mean_overestimation_when_overestimates, 2)}%\")\n",
    "print(f\"Mean overestimation: {round(mean_overestimation_total, 2)}%\")"
   ]
  }
 ],
 "metadata": {
  "kernelspec": {
   "display_name": "env",
   "language": "python",
   "name": "python3"
  },
  "language_info": {
   "codemirror_mode": {
    "name": "ipython",
    "version": 3
   },
   "file_extension": ".py",
   "mimetype": "text/x-python",
   "name": "python",
   "nbconvert_exporter": "python",
   "pygments_lexer": "ipython3",
   "version": "3.10.14"
  }
 },
 "nbformat": 4,
 "nbformat_minor": 2
}
