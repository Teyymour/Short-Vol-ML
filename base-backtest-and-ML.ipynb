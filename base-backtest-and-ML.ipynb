{
 "cells": [
  {
   "cell_type": "markdown",
   "metadata": {},
   "source": [
    "# Imports"
   ]
  },
  {
   "cell_type": "code",
   "execution_count": 18,
   "metadata": {},
   "outputs": [],
   "source": [
    "import os\n",
    "from dotenv import load_dotenv\n",
    "import warnings\n",
    "warnings.simplefilter('ignore')\n",
    "\n",
    "import pandas as pd\n",
    "import numpy as np\n",
    "import numba\n",
    "import random\n",
    "\n",
    "import plotly.express as px\n",
    "import plotly.graph_objects as go\n",
    "from plotly.subplots import make_subplots\n",
    "\n",
    "from catboost import CatBoostClassifier\n",
    "from sklearn.preprocessing import StandardScaler\n",
    "from sklearn.metrics import precision_score, recall_score, f1_score, accuracy_score, confusion_matrix, classification_report\n",
    "from sklearn.utils.class_weight import compute_class_weight\n",
    "from sklearn.model_selection import ParameterGrid\n",
    "\n",
    "from datetime import datetime, timedelta\n",
    "from pandas_market_calendars import get_calendar\n",
    "import yfinance as yf\n",
    "\n",
    "from tqdm.notebook import tqdm\n",
    "\n",
    "from databuilder import build_spread_backtest_dataset"
   ]
  },
  {
   "cell_type": "markdown",
   "metadata": {},
   "source": [
    "# Fetch Base Strategy Backtest Data + Add Relevant Info"
   ]
  },
  {
   "cell_type": "code",
   "execution_count": 2,
   "metadata": {},
   "outputs": [
    {
     "name": "stderr",
     "output_type": "stream",
     "text": [
      "  0%|          | 1/385 [00:01<06:36,  1.03s/it]"
     ]
    },
    {
     "name": "stdout",
     "output_type": "stream",
     "text": [
      "'results'\n"
     ]
    },
    {
     "name": "stderr",
     "output_type": "stream",
     "text": [
      " 12%|█▏        | 45/385 [01:53<14:10,  2.50s/it]"
     ]
    },
    {
     "name": "stdout",
     "output_type": "stream",
     "text": [
      "'ticker'\n"
     ]
    },
    {
     "name": "stderr",
     "output_type": "stream",
     "text": [
      " 12%|█▏        | 46/385 [01:55<12:12,  2.16s/it]"
     ]
    },
    {
     "name": "stdout",
     "output_type": "stream",
     "text": [
      "'ticker'\n"
     ]
    },
    {
     "name": "stderr",
     "output_type": "stream",
     "text": [
      " 12%|█▏        | 47/385 [01:57<12:04,  2.14s/it]"
     ]
    },
    {
     "name": "stdout",
     "output_type": "stream",
     "text": [
      "'ticker'\n"
     ]
    },
    {
     "name": "stderr",
     "output_type": "stream",
     "text": [
      " 12%|█▏        | 48/385 [01:59<11:26,  2.04s/it]"
     ]
    },
    {
     "name": "stdout",
     "output_type": "stream",
     "text": [
      "'ticker'\n"
     ]
    },
    {
     "name": "stderr",
     "output_type": "stream",
     "text": [
      " 13%|█▎        | 49/385 [02:00<10:20,  1.85s/it]"
     ]
    },
    {
     "name": "stdout",
     "output_type": "stream",
     "text": [
      "'ticker'\n"
     ]
    },
    {
     "name": "stderr",
     "output_type": "stream",
     "text": [
      " 53%|█████▎    | 203/385 [08:29<05:28,  1.81s/it]"
     ]
    },
    {
     "name": "stdout",
     "output_type": "stream",
     "text": [
      "'results'\n"
     ]
    },
    {
     "name": "stderr",
     "output_type": "stream",
     "text": [
      " 53%|█████▎    | 204/385 [10:01<1:26:42, 28.74s/it]"
     ]
    },
    {
     "name": "stdout",
     "output_type": "stream",
     "text": [
      "Expecting value: line 1 column 1 (char 0)\n"
     ]
    },
    {
     "name": "stderr",
     "output_type": "stream",
     "text": [
      "100%|██████████| 385/385 [17:02<00:00,  2.66s/it]  \n"
     ]
    }
   ],
   "source": [
    "load_dotenv(dotenv_path='/Users/teymour/Desktop/qnt-projs/Short-Vol-ML/.env')  # replace with your path\n",
    "polygon_api_key = os.getenv(\"POLYGON_API_KEY\")\n",
    "\n",
    "calendar = get_calendar(\"NYSE\")\n",
    "trading_dates = calendar.schedule(start_date=\"2023-04-20\", end_date=datetime.today()).index.strftime(\"%Y-%m-%d\").values\n",
    "\n",
    "#  Call the function from databuilder.py to generate a DataFrame with all relevant info for base strategy backtesting\n",
    "base_backtest_df = build_spread_backtest_dataset(dates=trading_dates, ticker='I:SPX', index_ticker=\"I:VIX1D\", \n",
    "                                              options_ticker=\"SPX\", trade_time=\"09:35\", move_adjustment=0.5, spread_width=1, polygon_api_key=polygon_api_key)"
   ]
  },
  {
   "cell_type": "code",
   "execution_count": 3,
   "metadata": {},
   "outputs": [],
   "source": [
    "# trading assumptions and max loss calculations\n",
    "base_backtest_df['nat_price_cost'] = base_backtest_df['short_bid_price'] - base_backtest_df['long_ask_price']\n",
    "base_backtest_df['max_nat_price_loss'] = abs(base_backtest_df['short_strike'].iloc[0] - base_backtest_df['long_strike'].iloc[0]) - base_backtest_df['nat_price_cost']\n",
    "base_backtest_df['mid_price_cost'] = base_backtest_df['short_mid_price'] - base_backtest_df['long_mid_price']\n",
    "base_backtest_df['max_mid_price_loss'] = abs(base_backtest_df['short_strike'].iloc[0] - base_backtest_df['long_strike'].iloc[0]) - base_backtest_df['mid_price_cost']\n",
    "base_backtest_df[\"contracts\"] = 1\n",
    "base_backtest_df[\"fees\"] = base_backtest_df[\"contracts\"] * 0.04"
   ]
  },
  {
   "cell_type": "code",
   "execution_count": 8,
   "metadata": {},
   "outputs": [],
   "source": [
    "def calculate_pnl(row):\n",
    "    \"\"\"\n",
    "    Calculate the profit and loss (PnL) for the given row of backtest data.\n",
    "\n",
    "    Parameters\n",
    "    ----------\n",
    "    row : pd.Series\n",
    "        A row of data containing information about the trade taken on a \n",
    "        given day\n",
    "\n",
    "    Returns\n",
    "    -------\n",
    "    float\n",
    "        The gross profit or loss (PnL) for the trade. If the calculated final PnL exceeds the maximum \n",
    "        allowable loss, it caps the loss at 'max_mid_price_loss'.\n",
    "    \"\"\"\n",
    "    if row['direction'] == 1:\n",
    "        settlement = row['underlying_closing_price'] - row['short_strike']\n",
    "        if settlement > 0:\n",
    "            settlement = 0\n",
    "            final_pnl = row['mid_price_cost']\n",
    "        else:\n",
    "            final_pnl = settlement + row['mid_price_cost']\n",
    "            \n",
    "    elif row['direction'] == 0:\n",
    "        settlement = row['short_strike'] - row['underlying_closing_price']\n",
    "        if settlement > 0:\n",
    "            settlement = 0\n",
    "            final_pnl = row['mid_price_cost']\n",
    "        else:\n",
    "            final_pnl = settlement + row['mid_price_cost']\n",
    "\n",
    "    gross_pnl = np.maximum(final_pnl, row['max_mid_price_loss'] * -1)\n",
    "    \n",
    "    return gross_pnl"
   ]
  },
  {
   "cell_type": "code",
   "execution_count": 23,
   "metadata": {},
   "outputs": [],
   "source": [
    "# Info that will be used in determining meta-model targets and in future base strat backtest\n",
    "base_backtest_df['gross_pnl'] = base_backtest_df.apply(calculate_pnl, axis=1)\n",
    "base_backtest_df['net_pnl'] = base_backtest_df['gross_pnl'] * base_backtest_df['contracts'] - base_backtest_df['fees']\n",
    "\n",
    "capital = 3000\n",
    "\n",
    "base_backtest_df['net_capital'] = capital + (base_backtest_df['net_pnl']*100).cumsum()\n",
    "base_backtest_df['day_begin_net_capital'] = base_backtest_df['net_capital'] - (base_backtest_df['net_pnl']*100)\n",
    "base_backtest_df['cumulative_pnl'] = base_backtest_df['net_pnl'].cumsum()\n",
    "base_backtest_df['pct_return'] = (base_backtest_df['net_pnl']* 100)/ base_backtest_df['day_begin_net_capital']"
   ]
  },
  {
   "cell_type": "markdown",
   "metadata": {},
   "source": [
    "# Meta-Labeling"
   ]
  },
  {
   "cell_type": "markdown",
   "metadata": {},
   "source": [
    "### Historical Data and Feature Engineering"
   ]
  },
  {
   "cell_type": "code",
   "execution_count": 11,
   "metadata": {},
   "outputs": [
    {
     "name": "stderr",
     "output_type": "stream",
     "text": [
      "[*********************100%***********************]  1 of 1 completed\n"
     ]
    }
   ],
   "source": [
    "# Download historical OHLCV data for the S&P 500 to create features\n",
    "sp500_ticker = \"^GSPC\"\n",
    "underlying_feature_df = yf.download(sp500_ticker, start=\"2022-01-01\", end=\"2024-10-25\", interval=\"1d\")\n",
    "\n",
    "# preprocess the DataFrame\n",
    "underlying_feature_df.columns = underlying_feature_df.columns.get_level_values(0)\n",
    "underlying_feature_df.index = pd.to_datetime(underlying_feature_df.index).date\n",
    "underlying_feature_df = underlying_feature_df.rename_axis(\"t\", axis=\"index\")\n",
    "underlying_feature_df = underlying_feature_df.drop(columns=['Close'])\n",
    "underlying_feature_df.columns.name = None\n",
    "underlying_feature_df = underlying_feature_df.rename(columns={\n",
    "    'Open': 'o',\n",
    "    'High': 'h',\n",
    "    'Low': 'l',\n",
    "    'Adj Close': 'c',\n",
    "    'Volume': 'v'\n",
    "})"
   ]
  },
  {
   "cell_type": "code",
   "execution_count": 12,
   "metadata": {},
   "outputs": [],
   "source": [
    "# Features based on open price ('o') only\n",
    "for days in range(1, 6):\n",
    "    underlying_feature_df[f'return_{days}d'] = underlying_feature_df['o'].pct_change(periods=days)\n",
    "\n",
    "for lag in range(1, 6):\n",
    "    underlying_feature_df[f'lag_{lag}d'] = underlying_feature_df['o'].shift(lag)\n",
    "\n",
    "for lag in range(3, 6):\n",
    "    underlying_feature_df[f'serial_corr_{lag}d'] = underlying_feature_df['o'].rolling(window=lag).apply(lambda x: x.autocorr(), raw=False)\n",
    "\n",
    "ma_windows = [10, 50, 100, 200]\n",
    "for window in ma_windows:\n",
    "    underlying_feature_df[f'{window}d_MA'] = underlying_feature_df['o'].rolling(window=window).mean()\n",
    "\n",
    "underlying_feature_df['MA_crossover_10_50'] = np.where(underlying_feature_df['10d_MA'] > underlying_feature_df['50d_MA'], 1, 0)\n",
    "\n",
    "underlying_feature_df['price_to_50d_MA'] = underlying_feature_df['o'] / underlying_feature_df['50d_MA']\n",
    "underlying_feature_df['price_to_200d_MA'] = underlying_feature_df['o'] / underlying_feature_df['200d_MA']\n",
    "\n",
    "underlying_feature_df['12d_EMA'] = underlying_feature_df['o'].ewm(span=12, adjust=False).mean()\n",
    "underlying_feature_df['26d_EMA'] = underlying_feature_df['o'].ewm(span=26, adjust=False).mean()\n",
    "underlying_feature_df['MACD'] = underlying_feature_df['12d_EMA'] - underlying_feature_df['26d_EMA']\n",
    "underlying_feature_df['MACD_signal'] = underlying_feature_df['MACD'].ewm(span=9, adjust=False).mean()\n",
    "\n",
    "underlying_feature_df['momentum_5d'] = underlying_feature_df['o'] / underlying_feature_df['o'].shift(5) - 1\n",
    "underlying_feature_df['momentum_10d'] = underlying_feature_df['o'] / underlying_feature_df['o'].shift(10) - 1\n",
    "\n",
    "underlying_feature_df['20d_MA'] = underlying_feature_df['o'].rolling(window=20).mean()\n",
    "underlying_feature_df['20d_stddev'] = underlying_feature_df['o'].rolling(window=20).std()\n",
    "underlying_feature_df['upper_band'] = underlying_feature_df['20d_MA'] + (underlying_feature_df['20d_stddev'] * 2)\n",
    "underlying_feature_df['lower_band'] = underlying_feature_df['20d_MA'] - (underlying_feature_df['20d_stddev'] * 2)\n",
    "\n",
    "vol_windows = [10, 20, 50, 100]\n",
    "for window in vol_windows:\n",
    "    underlying_feature_df[f'{window}d_volatility'] = underlying_feature_df['o'].rolling(window=window).std()\n",
    "\n",
    "underlying_feature_df['volatility_ratio'] = underlying_feature_df['10d_volatility'] / underlying_feature_df['50d_volatility']"
   ]
  },
  {
   "cell_type": "code",
   "execution_count": 13,
   "metadata": {},
   "outputs": [],
   "source": [
    "# Features that require end-of-day information (close, high, low)\n",
    "underlying_feature_df['high_low_range'] = underlying_feature_df['h'] - underlying_feature_df['l']\n",
    "for window in vol_windows:\n",
    "    underlying_feature_df[f'{window}d_high_low_vol'] = underlying_feature_df['high_low_range'].rolling(window=window).std()\n",
    "\n",
    "underlying_feature_df['tr'] = np.maximum(\n",
    "    (underlying_feature_df['h'] - underlying_feature_df['l']),\n",
    "    np.maximum(\n",
    "        abs(underlying_feature_df['h'] - underlying_feature_df['c'].shift(1)),\n",
    "        abs(underlying_feature_df['l'] - underlying_feature_df['c'].shift(1))\n",
    "    )\n",
    ")\n",
    "underlying_feature_df['14d_ATR'] = underlying_feature_df['tr'].rolling(window=14).mean()\n",
    "\n",
    "underlying_feature_df['20d_high'] = underlying_feature_df['h'].rolling(window=20).max()\n",
    "underlying_feature_df['20d_low'] = underlying_feature_df['l'].rolling(window=20).min()\n",
    "\n",
    "underlying_feature_df['14d_ATRP'] = underlying_feature_df['14d_ATR'] / underlying_feature_df['c'] * 100\n",
    "\n",
    "def compute_rsi(data, window=14):\n",
    "    delta = data.diff()\n",
    "    gain = (delta.where(delta > 0, 0)).rolling(window=window).mean()\n",
    "    loss = (-delta.where(delta < 0, 0)).rolling(window=window).mean()\n",
    "    rs = gain / loss\n",
    "    rsi = 100 - (100 / (1 + rs))\n",
    "    return rsi\n",
    "\n",
    "underlying_feature_df['14d_RSI'] = compute_rsi(underlying_feature_df['c'], window=14)\n",
    "\n",
    "# Drop intermediate columns used for calculations\n",
    "underlying_feature_df.drop(['tr', '20d_stddev', '20d_MA'], axis=1, inplace=True)\n",
    "\n",
    "lagged_feature_list = [\n",
    "    'high_low_range', '10d_high_low_vol', '20d_high_low_vol', '50d_high_low_vol', '100d_high_low_vol',\n",
    "    '14d_ATR', '20d_high', '20d_low', '14d_ATRP', '14d_RSI'\n",
    "]\n",
    "\n",
    "for f in lagged_feature_list:\n",
    "    underlying_feature_df[f] = underlying_feature_df[f].shift()\n",
    "    underlying_feature_df = underlying_feature_df.rename(columns={f: f'prev_{f}'})\n",
    "\n",
    "underlying_feature_df = underlying_feature_df.dropna()"
   ]
  },
  {
   "cell_type": "code",
   "execution_count": 14,
   "metadata": {},
   "outputs": [],
   "source": [
    "# target variable - whether we should have traded on a given day or not\n",
    "base_backtest_df['avoid_trade'] = np.where(base_backtest_df['net_pnl'] < 0, 1, 0 )\n",
    "\n",
    "# add the correct targets to the feature DataFrame\n",
    "aligned_target = base_backtest_df['avoid_trade'].reindex(underlying_feature_df.index)\n",
    "underlying_feature_df = pd.concat([underlying_feature_df, aligned_target], axis=1)\n",
    "underlying_feature_df = underlying_feature_df.rename(columns={'avoid_trade': 'target'})\n",
    "\n",
    "# Store the features as a variable for quick access\n",
    "X = underlying_feature_df.drop(['o', 'c', 'h', 'l', 'target'], axis=1)\n",
    "\n",
    "# Drop null target values and null feature values that were created by lags)\n",
    "underlying_feature_df = underlying_feature_df.dropna()"
   ]
  },
  {
   "cell_type": "markdown",
   "metadata": {},
   "source": [
    "### Helper Functions"
   ]
  },
  {
   "cell_type": "code",
   "execution_count": 15,
   "metadata": {},
   "outputs": [],
   "source": [
    "def group_by_period(df, training_period_length, backtest_period_length):\n",
    "    \"\"\"\n",
    "    Splits a DataFrame into sequential training and backtesting periods for walk-forward training and testing.\n",
    "\n",
    "    Parameters\n",
    "    ----------\n",
    "    df : pd.DataFrame\n",
    "        The input DataFrame containing the time-series data to be split into training and backtesting periods.\n",
    "    training_period_length : int\n",
    "        The number of data points (e.g., days) to include in each training period.\n",
    "    backtest_period_length : int\n",
    "        The number of data points to include in each backtesting period.\n",
    "\n",
    "    Returns\n",
    "    -------\n",
    "    tuple\n",
    "        A tuple containing:\n",
    "        - training_keys (list of tuples): A list of (start_index, end_index) pairs for each training period.\n",
    "        - backtest_keys (list of tuples): A list of (start_index, end_index) pairs for each backtesting period.\n",
    "        - training_period_data_dict (dict): A dictionary where each key is a (start_index, end_index) pair \n",
    "          representing a training period, and each value is a DataFrame containing the data for that period.\n",
    "        - backtest_period_data_dict (dict): A dictionary where each key is a (start_index, end_index) pair \n",
    "          representing a backtesting period, and each value is a DataFrame containing the data for that period.\n",
    "    \"\"\"\n",
    "    training_keys = []\n",
    "    backtest_keys = []\n",
    "    training_period_data_dict = {}\n",
    "    backtest_period_data_dict = {}\n",
    "\n",
    "    current_end_index = len(df)\n",
    "\n",
    "    while current_end_index - backtest_period_length - training_period_length >= 0:\n",
    "        backtest_end_index = current_end_index\n",
    "        backtest_start_index = backtest_end_index - backtest_period_length\n",
    "        training_end_index = backtest_start_index\n",
    "        training_start_index = training_end_index - training_period_length\n",
    "\n",
    "        if training_start_index < 0:\n",
    "            break\n",
    "\n",
    "        training_df = df.iloc[training_start_index:training_end_index]\n",
    "        backtest_df = df.iloc[backtest_start_index:backtest_end_index]\n",
    "\n",
    "        training_keys.append((training_start_index, training_end_index))\n",
    "        backtest_keys.append((backtest_start_index, backtest_end_index))\n",
    "\n",
    "        training_period_data_dict[(training_start_index, training_end_index)] = training_df\n",
    "        backtest_period_data_dict[(backtest_start_index, backtest_end_index)] = backtest_df\n",
    "\n",
    "        current_end_index = backtest_start_index\n",
    "\n",
    "    training_keys.reverse()\n",
    "    backtest_keys.reverse()\n",
    "    training_period_data_dict = {k: training_period_data_dict[k] for k in reversed(training_period_data_dict)}\n",
    "    backtest_period_data_dict = {k: backtest_period_data_dict[k] for k in reversed(backtest_period_data_dict)}\n",
    "    \n",
    "    return training_keys, backtest_keys, training_period_data_dict, backtest_period_data_dict\n",
    "def purged_k_fold_generator(data, n_splits, embargo_pct):\n",
    "    \"\"\"\n",
    "    Generates purged K-fold cross-validation splits for time series data as a list of tuples,\n",
    "    ensuring no data leakage between training and test sets by adding an embargo period.\n",
    "\n",
    "    Parameters\n",
    "    ----------\n",
    "    data : pd.DataFrame\n",
    "        The dataset to split into training and test sets for each fold, indexed by date.\n",
    "    n_splits : int\n",
    "        The number of folds for cross-validation.\n",
    "    embargo_pct : float\n",
    "        The percentage of data to \"embargo\" between training and test sets to prevent data leakage. \n",
    "        Typically, a small value like 0.01 (1%) is used.\n",
    "\n",
    "    Returns\n",
    "    -------\n",
    "    folds : list of tuples\n",
    "        A list of (train_data, test_data) tuples for each fold. Each tuple contains:\n",
    "        - train_data : pd.DataFrame\n",
    "            The training set for the current fold.\n",
    "        - test_data : pd.DataFrame\n",
    "            The test set for the current fold, with an embargo period before it.\n",
    "    \"\"\"\n",
    "    folds = []\n",
    "    fold_size = len(data) // n_splits\n",
    "    for i in range(n_splits):\n",
    "        train_end = fold_size * i\n",
    "        test_start = train_end + int(fold_size * embargo_pct)\n",
    "        test_end = fold_size * (i + 1)\n",
    "\n",
    "        train_data = data.iloc[:train_end]\n",
    "        test_data = data.iloc[test_start:test_end]\n",
    "\n",
    "        if not train_data.empty and not test_data.empty:\n",
    "            folds.append((train_data, test_data))\n",
    "    \n",
    "    return folds\n",
    "\n",
    "def random_search_with_purged_kfold(data, feature_list, param_grid, max_iter=10, n_splits=3, embargo_pct=0.01, target_column='target'):\n",
    "    \"\"\"\n",
    "    Performs random search for hyperparameter tuning using purged K-fold cross-validation on a \n",
    "    CatBoostClassifier. The best parameters are selected based on the highest F1 score.\n",
    "\n",
    "    Parameters\n",
    "    ----------\n",
    "    data : pd.DataFrame\n",
    "        The dataset containing features and target labels, indexed by date.\n",
    "    feature_list : list of str\n",
    "        List of feature names to use in the model.\n",
    "    param_grid : dict\n",
    "        Dictionary specifying the parameter grid for random search. Keys are parameter names and values are lists \n",
    "        of parameter values to sample from.\n",
    "    max_iter : int, optional\n",
    "        Maximum number of parameter combinations to sample for random search. Default is 10.\n",
    "    n_splits : int, optional\n",
    "        Number of folds for cross-validation. Default is 3.\n",
    "    embargo_pct : float, optional\n",
    "        Percentage of data to embargo between training and test sets for each fold. Default is 0.01 (1%).\n",
    "    target_column : str, optional\n",
    "        The name of the target column in the data. Default is 'target'.\n",
    "\n",
    "    Returns\n",
    "    -------\n",
    "    best_params : dict\n",
    "        Dictionary of the best-performing hyperparameters.\n",
    "    best_score : float\n",
    "        The highest average F1 score achieved during cross-validation.\n",
    "    \"\"\"\n",
    "    best_params = None\n",
    "    best_score = -np.inf\n",
    "\n",
    "    # Generate all parameter combinations, then randomly sample `max_iter` combinations\n",
    "    all_params = list(ParameterGrid(param_grid))\n",
    "    sampled_params = random.sample(all_params, min(max_iter, len(all_params)))\n",
    "\n",
    "    folds = purged_k_fold_generator(data, n_splits, embargo_pct)\n",
    "\n",
    "    for params in tqdm(sampled_params, desc=\"Random Search Progress\"):\n",
    "        scores = []\n",
    "\n",
    "        for train_df, val_df in folds:\n",
    "            scaler = StandardScaler()\n",
    "            train_df.loc[:, feature_list] = scaler.fit_transform(train_df[feature_list]).astype('float64')\n",
    "            val_df.loc[:, feature_list] = scaler.transform(val_df[feature_list]).astype('float64')\n",
    "\n",
    "            X_train, y_train = train_df[feature_list], train_df[target_column].values.flatten()\n",
    "            X_val, y_val = val_df[feature_list], val_df[target_column].values.flatten()\n",
    "\n",
    "            model = CatBoostClassifier(\n",
    "                loss_function='Logloss',\n",
    "                class_weights=params.get('class_weights', None),\n",
    "                depth=params.get('depth', 6),\n",
    "                learning_rate=params.get('learning_rate', 0.1),\n",
    "                thread_count=-1,\n",
    "                verbose=False\n",
    "            )\n",
    "\n",
    "            model.fit(\n",
    "                X_train, y_train,\n",
    "                eval_set=(X_val, y_val),\n",
    "                early_stopping_rounds=50,\n",
    "                use_best_model=True\n",
    "            )\n",
    "\n",
    "            y_pred = (model.predict_proba(X_val)[:, 1] > 0.5).astype(int)\n",
    "            score = f1_score(y_val, y_pred)\n",
    "            scores.append(score)\n",
    "\n",
    "        avg_score = np.mean(scores)\n",
    "        if avg_score > best_score:\n",
    "            best_score = avg_score\n",
    "            best_params = params\n",
    "\n",
    "    return best_params, best_score\n",
    "\n",
    "def evaluate_classification(y_true, y_pred):\n",
    "    \"\"\"\n",
    "    Evaluate classification metrics and display results for a binary classification model.\n",
    "\n",
    "    This function calculates the accuracy, precision, recall, and F1 score for a given set of \n",
    "    true and predicted labels. It also prints the confusion matrix and a detailed classification \n",
    "    report with precision, recall, F1 score, and support for each class.\n",
    "\n",
    "    Parameters\n",
    "    ----------\n",
    "    y_true : array-like or pd.Series\n",
    "        The ground truth (actual) labels.\n",
    "    y_pred : array-like or pd.Series\n",
    "        The predicted labels by the model.\n",
    "\n",
    "    Returns\n",
    "    -------\n",
    "    None\n",
    "        A detailed classification report is printed.\n",
    "    \"\"\"\n",
    "\n",
    "    # Display the confusion matrix\n",
    "    conf_matrix = confusion_matrix(y_true, y_pred)\n",
    "    print(\"\\nConfusion Matrix:\")\n",
    "    print(conf_matrix)\n",
    "\n",
    "    # Detailed classification report\n",
    "    report = classification_report(y_true, y_pred)\n",
    "    print(\"\\nClassification Report:\")\n",
    "    print(report)"
   ]
  },
  {
   "cell_type": "markdown",
   "metadata": {},
   "source": [
    "### Training Loop"
   ]
  },
  {
   "cell_type": "code",
   "execution_count": 16,
   "metadata": {},
   "outputs": [],
   "source": [
    "def metalabel(data, training_periods, testing_periods, quant_feature_list, cat_feature_list, param_grid):\n",
    "\n",
    "    data = data[:-1].copy()\n",
    "    \n",
    "    best_params, best_score = random_search_with_purged_kfold(data, quant_feature_list, param_grid, max_iter=500)\n",
    "\n",
    "    print(f\"Best parameters found: {best_params} with F1 score: {best_score}\")\n",
    "\n",
    "    keys, backtest_keys, period_data_dict, backtest_period_data_dict = group_by_period(\n",
    "        data, training_periods, testing_periods\n",
    "    )\n",
    "\n",
    "    agg_backtest_df = pd.DataFrame()\n",
    "    num_iterations = len(keys)\n",
    "\n",
    "    for i in tqdm(range(num_iterations)):\n",
    "        model_key = keys[i]\n",
    "        train_df = period_data_dict[model_key].copy()\n",
    "        scaler = StandardScaler()\n",
    "        train_df[quant_feature_list] = scaler.fit_transform(train_df[quant_feature_list])\n",
    "\n",
    "        all_features = quant_feature_list + cat_feature_list\n",
    "        split_idx = int(len(train_df) * 0.8)\n",
    "\n",
    "        X_train = train_df[all_features].iloc[:split_idx]\n",
    "        y_train = train_df['target'].iloc[:split_idx].values.flatten()\n",
    "        X_val = train_df[all_features].iloc[split_idx:]\n",
    "        y_val = train_df['target'].iloc[split_idx:].values.flatten()\n",
    "\n",
    "        model = CatBoostClassifier(\n",
    "            loss_function='Logloss',\n",
    "            eval_metric='F1',\n",
    "            thread_count=-1,\n",
    "            **best_params\n",
    "        )\n",
    "\n",
    "        model.fit(\n",
    "            X_train, y_train,\n",
    "            eval_set=(X_val, y_val),\n",
    "            early_stopping_rounds=50,\n",
    "            use_best_model=True,\n",
    "            plot=False,\n",
    "            verbose=False\n",
    "        )\n",
    "\n",
    "        backtest_key = backtest_keys[i]\n",
    "        backtest_df = backtest_period_data_dict[backtest_key].copy()\n",
    "        \n",
    "        backtest_df[quant_feature_list] = scaler.transform(backtest_df[quant_feature_list])\n",
    "        test_features = backtest_df[all_features]\n",
    "\n",
    "        probabilities = model.predict_proba(test_features)[:, 1]\n",
    "        predictions = (probabilities > .5).astype(int)\n",
    "        confidence = np.maximum(probabilities, 1 - probabilities)\n",
    "\n",
    "        prediction_df = pd.DataFrame({\n",
    "            'predicted_avoid_trade': predictions,\n",
    "            'prediction_confidence': confidence,\n",
    "            'raw_probability': probabilities\n",
    "        }, index=backtest_df.index)\n",
    "\n",
    "        backtest_df = backtest_df.join(prediction_df)\n",
    "\n",
    "        agg_backtest_df = pd.concat([agg_backtest_df, backtest_df], axis=0)\n",
    "\n",
    "    return agg_backtest_df"
   ]
  },
  {
   "cell_type": "code",
   "execution_count": 19,
   "metadata": {},
   "outputs": [
    {
     "data": {
      "application/vnd.jupyter.widget-view+json": {
       "model_id": "73155cea505e4183bd9245c71df08303",
       "version_major": 2,
       "version_minor": 0
      },
      "text/plain": [
       "Random Search Progress:   0%|          | 0/125 [00:00<?, ?it/s]"
      ]
     },
     "metadata": {},
     "output_type": "display_data"
    },
    {
     "name": "stdout",
     "output_type": "stream",
     "text": [
      "Best parameters found: {'class_weights': [1, 4.5], 'depth': 8, 'learning_rate': 0.1} with F1 score: 0.37289915966386555\n"
     ]
    },
    {
     "data": {
      "application/vnd.jupyter.widget-view+json": {
       "model_id": "7e84805e0f38419f9674221603ac9af9",
       "version_major": 2,
       "version_minor": 0
      },
      "text/plain": [
       "  0%|          | 0/222 [00:00<?, ?it/s]"
      ]
     },
     "metadata": {},
     "output_type": "display_data"
    }
   ],
   "source": [
    "param_grid = {\n",
    "    'class_weights': [[1, 3], [1, 3.5], [1, 4], [1, 4.5], [1, 5]],  # Adjust class imbalance\n",
    "    'depth': [3, 4, 6, 8, 10],  # Depth of trees\n",
    "    'learning_rate': [0.0001, 0.005, 0.01, 0.05, 0.1],  # Step size shrinkage\n",
    "}\n",
    "\n",
    "metalabeled_backtest_df = metalabel(\n",
    "    data=underlying_feature_df, \n",
    "    training_periods=150, \n",
    "    testing_periods=1, \n",
    "    quant_feature_list=list(X.columns), \n",
    "    cat_feature_list=[],\n",
    "    param_grid=param_grid\n",
    ")"
   ]
  },
  {
   "cell_type": "markdown",
   "metadata": {},
   "source": [
    "### Model Evaluation"
   ]
  },
  {
   "cell_type": "code",
   "execution_count": 20,
   "metadata": {},
   "outputs": [
    {
     "name": "stdout",
     "output_type": "stream",
     "text": [
      "\n",
      "Confusion Matrix:\n",
      "[[148  32]\n",
      " [ 32  10]]\n",
      "\n",
      "Classification Report:\n",
      "              precision    recall  f1-score   support\n",
      "\n",
      "         0.0       0.82      0.82      0.82       180\n",
      "         1.0       0.24      0.24      0.24        42\n",
      "\n",
      "    accuracy                           0.71       222\n",
      "   macro avg       0.53      0.53      0.53       222\n",
      "weighted avg       0.71      0.71      0.71       222\n",
      "\n"
     ]
    }
   ],
   "source": [
    "y_true = metalabeled_backtest_df['target']\n",
    "y_pred = metalabeled_backtest_df['predicted_avoid_trade']\n",
    "evaluate_classification(y_true, y_pred)"
   ]
  },
  {
   "cell_type": "markdown",
   "metadata": {},
   "source": [
    "# Compare Backtests"
   ]
  },
  {
   "cell_type": "markdown",
   "metadata": {},
   "source": [
    "### Helper Functions"
   ]
  },
  {
   "cell_type": "code",
   "execution_count": 21,
   "metadata": {},
   "outputs": [],
   "source": [
    "def sharpe_ratio(returns, annualize=True, periods_per_year=252, risk_free_rate=0.04):\n",
    "    \"\"\"\n",
    "    Calculate the Sharpe ratio for a series of returns.\n",
    "\n",
    "    Parameters\n",
    "    ----------\n",
    "    returns : pd.Series\n",
    "        A Pandas Series containing the returns, typically in percentage terms.\n",
    "    annualize : bool, optional (default=True)\n",
    "        Whether to annualize the Sharpe ratio.\n",
    "    periods_per_year : int, optional (default=252)\n",
    "        The number of trading periods in a year. Defaults to 252 (daily returns).\n",
    "    risk_free_rate : float, optional (default=0.0)\n",
    "        The risk-free rate of return. Defaults to 0 for simplicity.\n",
    "\n",
    "    Returns\n",
    "    -------\n",
    "    float\n",
    "        The calculated Sharpe ratio. If annualized, returns the annualized Sharpe ratio.\n",
    "    \"\"\"\n",
    "    # Include only days where we actually traded:\n",
    "    returns = returns[returns != 0].copy()\n",
    "    \n",
    "    excess_returns = returns - risk_free_rate / periods_per_year\n",
    "\n",
    "    mean_return = excess_returns.mean()\n",
    "    std_return = excess_returns.std()\n",
    "\n",
    "    sharpe_ratio = mean_return / std_return\n",
    "\n",
    "    if annualize:\n",
    "        sharpe_ratio *= np.sqrt(periods_per_year)\n",
    "    \n",
    "    return sharpe_ratio"
   ]
  },
  {
   "cell_type": "markdown",
   "metadata": {},
   "source": [
    "### Base Strategy Backtest"
   ]
  },
  {
   "cell_type": "code",
   "execution_count": 24,
   "metadata": {},
   "outputs": [
    {
     "data": {
      "application/vnd.plotly.v1+json": {
       "config": {
        "plotlyServerURL": "https://plot.ly"
       },
       "data": [
        {
         "hovertemplate": "variable=net_capital<br>t=%{x}<br>value=%{y}<extra></extra>",
         "legendgroup": "net_capital",
         "line": {
          "color": "#636efa",
          "dash": "solid"
         },
         "marker": {
          "symbol": "circle"
         },
         "mode": "lines",
         "name": "net_capital",
         "orientation": "v",
         "showlegend": true,
         "type": "scatter",
         "x": [
          "2023-12-04",
          "2023-12-05",
          "2023-12-06",
          "2023-12-07",
          "2023-12-08",
          "2023-12-11",
          "2023-12-12",
          "2023-12-13",
          "2023-12-14",
          "2023-12-15",
          "2023-12-18",
          "2023-12-19",
          "2023-12-20",
          "2023-12-21",
          "2023-12-22",
          "2023-12-26",
          "2023-12-27",
          "2023-12-28",
          "2023-12-29",
          "2024-01-02",
          "2024-01-03",
          "2024-01-04",
          "2024-01-05",
          "2024-01-08",
          "2024-01-09",
          "2024-01-10",
          "2024-01-11",
          "2024-01-12",
          "2024-01-16",
          "2024-01-17",
          "2024-01-18",
          "2024-01-19",
          "2024-01-22",
          "2024-01-23",
          "2024-01-24",
          "2024-01-25",
          "2024-01-26",
          "2024-01-29",
          "2024-01-30",
          "2024-01-31",
          "2024-02-01",
          "2024-02-02",
          "2024-02-05",
          "2024-02-06",
          "2024-02-07",
          "2024-02-08",
          "2024-02-13",
          "2024-02-14",
          "2024-02-15",
          "2024-02-16",
          "2024-02-20",
          "2024-02-21",
          "2024-02-22",
          "2024-02-23",
          "2024-02-26",
          "2024-02-27",
          "2024-02-28",
          "2024-02-29",
          "2024-03-01",
          "2024-03-04",
          "2024-03-05",
          "2024-03-06",
          "2024-03-07",
          "2024-03-08",
          "2024-03-11",
          "2024-03-12",
          "2024-03-13",
          "2024-03-14",
          "2024-03-15",
          "2024-03-18",
          "2024-03-19",
          "2024-03-20",
          "2024-03-21",
          "2024-03-22",
          "2024-03-25",
          "2024-03-26",
          "2024-03-27",
          "2024-03-28",
          "2024-04-01",
          "2024-04-02",
          "2024-04-03",
          "2024-04-04",
          "2024-04-05",
          "2024-04-08",
          "2024-04-09",
          "2024-04-10",
          "2024-04-11",
          "2024-04-12",
          "2024-04-15",
          "2024-04-16",
          "2024-04-17",
          "2024-04-18",
          "2024-04-19",
          "2024-04-22",
          "2024-04-23",
          "2024-04-24",
          "2024-04-25",
          "2024-04-26",
          "2024-04-29",
          "2024-04-30",
          "2024-05-01",
          "2024-05-02",
          "2024-05-03",
          "2024-05-06",
          "2024-05-07",
          "2024-05-08",
          "2024-05-09",
          "2024-05-10",
          "2024-05-13",
          "2024-05-14",
          "2024-05-15",
          "2024-05-16",
          "2024-05-17",
          "2024-05-20",
          "2024-05-21",
          "2024-05-22",
          "2024-05-23",
          "2024-05-24",
          "2024-05-28",
          "2024-05-29",
          "2024-05-30",
          "2024-05-31",
          "2024-06-03",
          "2024-06-04",
          "2024-06-05",
          "2024-06-06",
          "2024-06-07",
          "2024-06-10",
          "2024-06-11",
          "2024-06-12",
          "2024-06-13",
          "2024-06-14",
          "2024-06-17",
          "2024-06-18",
          "2024-06-20",
          "2024-06-21",
          "2024-06-24",
          "2024-06-25",
          "2024-06-26",
          "2024-06-27",
          "2024-06-28",
          "2024-07-01",
          "2024-07-02",
          "2024-07-03",
          "2024-07-05",
          "2024-07-08",
          "2024-07-09",
          "2024-07-10",
          "2024-07-11",
          "2024-07-12",
          "2024-07-15",
          "2024-07-16",
          "2024-07-17",
          "2024-07-18",
          "2024-07-19",
          "2024-07-22",
          "2024-07-23",
          "2024-07-24",
          "2024-07-25",
          "2024-07-26",
          "2024-07-29",
          "2024-07-30",
          "2024-07-31",
          "2024-08-01",
          "2024-08-02",
          "2024-08-05",
          "2024-08-06",
          "2024-08-07",
          "2024-08-08",
          "2024-08-09",
          "2024-08-12",
          "2024-08-13",
          "2024-08-14",
          "2024-08-15",
          "2024-08-16",
          "2024-08-19",
          "2024-08-20",
          "2024-08-21",
          "2024-08-22",
          "2024-08-23",
          "2024-08-26",
          "2024-08-27",
          "2024-08-28",
          "2024-08-29",
          "2024-08-30",
          "2024-09-03",
          "2024-09-04",
          "2024-09-05",
          "2024-09-06",
          "2024-09-09",
          "2024-09-10",
          "2024-09-11",
          "2024-09-12",
          "2024-09-13",
          "2024-09-16",
          "2024-09-17",
          "2024-09-18",
          "2024-09-19",
          "2024-09-20",
          "2024-09-23",
          "2024-09-24",
          "2024-09-25",
          "2024-09-26",
          "2024-09-27",
          "2024-09-30",
          "2024-10-01",
          "2024-10-02",
          "2024-10-03",
          "2024-10-04",
          "2024-10-07",
          "2024-10-08",
          "2024-10-09",
          "2024-10-10",
          "2024-10-11",
          "2024-10-14",
          "2024-10-15",
          "2024-10-16",
          "2024-10-17",
          "2024-10-18",
          "2024-10-21",
          "2024-10-22",
          "2024-10-23"
         ],
         "xaxis": "x",
         "y": [
          2868.499999999894,
          2971.499999999894,
          2568.499999999894,
          2652.499999999894,
          2768.499999999894,
          2857.499999999894,
          2953.499999999894,
          3064.499999999894,
          3170.499999999894,
          3286.499999999894,
          3382.499999999894,
          3460.499999999894,
          3071.499999999894,
          3187.499999999894,
          3286.499999999894,
          3402.499999999894,
          3503.499999999894,
          3579.499999999894,
          3649.499999999927,
          3755.499999999927,
          3855.499999999923,
          3961.499999999923,
          4074.499999999923,
          3657.499999999923,
          3778.499999999923,
          3899.499999999923,
          4005.499999999923,
          4111.499999999924,
          4237.499999999924,
          4358.499999999924,
          4474.499999999924,
          4605.499999999924,
          4706.499999999924,
          4827.499999999924,
          4408.499999999924,
          4506.499999999924,
          4612.499999999924,
          4725.499999999924,
          4816.499999999924,
          4452.499999999924,
          4553.499999999924,
          4674.499999999924,
          4790.499999999924,
          4884.499999999924,
          4977.499999999924,
          5085.499999999924,
          5201.499999999924,
          5307.499999999924,
          5418.499999999924,
          5529.499999999924,
          5620.499999999924,
          5736.499999999924,
          5852.499999999924,
          5829.499999999938,
          5450.499999999938,
          5533.499999999938,
          5629.499999999938,
          5750.499999999938,
          5851.499999999938,
          5965.499999999938,
          5571.499999999938,
          5692.499999999938,
          5798.499999999938,
          5414.499999999938,
          5525.499999999938,
          5606.499999999938,
          5709.499999999938,
          5355.499999999956,
          5471.499999999956,
          5092.499999999956,
          5203.499999999956,
          5334.499999999956,
          5433.499999999956,
          5529.499999999956,
          5630.499999999956,
          5216.499999999956,
          5292.499999999956,
          5393.499999999956,
          4989.499999999956,
          5090.499999999956,
          5193.499999999956,
          4774.499999999956,
          4405.499999999956,
          4501.499999999956,
          4584.499999999956,
          4705.499999999956,
          4346.499999999956,
          4477.499999999956,
          4608.499999999956,
          4759.499999999956,
          4875.499999999956,
          5021.499999999956,
          5142.499999999956,
          5192.499999999989,
          4808.499999999989,
          4914.499999999989,
          4535.499999999989,
          4661.499999999989,
          4762.499999999989,
          4863.499999999989,
          4974.499999999989,
          5110.499999999989,
          5226.499999999989,
          5310.499999999989,
          5411.499999999989,
          5507.499999999989,
          5598.499999999989,
          5671.499999999989,
          5762.499999999989,
          5868.499999999989,
          5979.499999999989,
          5797.499999999978,
          5898.499999999978,
          5974.499999999978,
          6047.499999999978,
          6115.499999999978,
          5741.499999999978,
          5827.499999999978,
          5910.499999999978,
          6016.499999999978,
          6120.499999999978,
          5731.499999999978,
          5827.499999999978,
          5943.499999999978,
          6059.499999999978,
          6150.499999999978,
          6286.499999999978,
          6387.499999999978,
          6470.999999999978,
          6596.999999999978,
          6697.999999999978,
          6798.999999999978,
          6909.999999999978,
          7000.999999999978,
          6601.999999999978,
          6692.999999999978,
          6584.000000000015,
          6680.000000000015,
          6796.000000000015,
          6912.000000000015,
          6528.000000000015,
          6624.000000000015,
          6735.000000000015,
          6793.000000000015,
          6899.000000000015,
          6995.000000000015,
          7094.000000000015,
          7190.000000000015,
          6791.000000000015,
          6877.000000000015,
          6983.000000000015,
          7074.000000000015,
          6685.000000000015,
          6331.000000000015,
          6462.000000000015,
          6580.500000000015,
          6686.500000000015,
          6827.500000000015,
          6988.500000000015,
          7119.500000000015,
          7255.500000000015,
          7376.500000000015,
          7517.500000000015,
          7133.500000000015,
          7274.500000000015,
          7410.500000000015,
          7556.500000000015,
          7682.500000000015,
          7313.500000000015,
          7474.500000000015,
          7620.500000000015,
          7269.000000000015,
          7415.000000000015,
          7521.000000000015,
          7642.000000000015,
          7733.000000000015,
          7839.000000000015,
          7975.000000000015,
          7586.000000000015,
          7712.000000000015,
          7328.000000000015,
          7434.000000000015,
          7045.000000000015,
          6681.000000000015,
          6787.000000000015,
          6378.000000000015,
          6494.000000000015,
          6650.000000000015,
          6796.000000000015,
          6942.000000000015,
          7078.000000000015,
          6724.000000000015,
          6335.000000000015,
          6431.000000000015,
          6537.000000000015,
          6628.000000000015,
          6764.000000000015,
          6860.000000000015,
          6966.000000000015,
          7072.000000000015,
          7163.000000000015,
          6984.000000000015,
          7070.000000000015,
          7151.000000000015,
          7262.000000000015,
          7378.000000000015,
          7484.000000000015,
          7595.000000000015,
          7716.000000000015,
          7347.000000000015,
          7448.000000000015,
          7549.000000000015,
          7660.000000000015,
          7756.000000000015,
          7842.000000000015,
          7433.000000000015,
          7529.000000000015,
          7264.0000000000655,
          7375.0000000000655,
          7476.0000000000655,
          7582.0000000000655,
          7178.0000000000655
         ],
         "yaxis": "y"
        }
       ],
       "layout": {
        "legend": {
         "title": {
          "text": "variable"
         },
         "tracegroupgap": 0
        },
        "margin": {
         "t": 60
        },
        "template": {
         "data": {
          "bar": [
           {
            "error_x": {
             "color": "#2a3f5f"
            },
            "error_y": {
             "color": "#2a3f5f"
            },
            "marker": {
             "line": {
              "color": "#E5ECF6",
              "width": 0.5
             },
             "pattern": {
              "fillmode": "overlay",
              "size": 10,
              "solidity": 0.2
             }
            },
            "type": "bar"
           }
          ],
          "barpolar": [
           {
            "marker": {
             "line": {
              "color": "#E5ECF6",
              "width": 0.5
             },
             "pattern": {
              "fillmode": "overlay",
              "size": 10,
              "solidity": 0.2
             }
            },
            "type": "barpolar"
           }
          ],
          "carpet": [
           {
            "aaxis": {
             "endlinecolor": "#2a3f5f",
             "gridcolor": "white",
             "linecolor": "white",
             "minorgridcolor": "white",
             "startlinecolor": "#2a3f5f"
            },
            "baxis": {
             "endlinecolor": "#2a3f5f",
             "gridcolor": "white",
             "linecolor": "white",
             "minorgridcolor": "white",
             "startlinecolor": "#2a3f5f"
            },
            "type": "carpet"
           }
          ],
          "choropleth": [
           {
            "colorbar": {
             "outlinewidth": 0,
             "ticks": ""
            },
            "type": "choropleth"
           }
          ],
          "contour": [
           {
            "colorbar": {
             "outlinewidth": 0,
             "ticks": ""
            },
            "colorscale": [
             [
              0,
              "#0d0887"
             ],
             [
              0.1111111111111111,
              "#46039f"
             ],
             [
              0.2222222222222222,
              "#7201a8"
             ],
             [
              0.3333333333333333,
              "#9c179e"
             ],
             [
              0.4444444444444444,
              "#bd3786"
             ],
             [
              0.5555555555555556,
              "#d8576b"
             ],
             [
              0.6666666666666666,
              "#ed7953"
             ],
             [
              0.7777777777777778,
              "#fb9f3a"
             ],
             [
              0.8888888888888888,
              "#fdca26"
             ],
             [
              1,
              "#f0f921"
             ]
            ],
            "type": "contour"
           }
          ],
          "contourcarpet": [
           {
            "colorbar": {
             "outlinewidth": 0,
             "ticks": ""
            },
            "type": "contourcarpet"
           }
          ],
          "heatmap": [
           {
            "colorbar": {
             "outlinewidth": 0,
             "ticks": ""
            },
            "colorscale": [
             [
              0,
              "#0d0887"
             ],
             [
              0.1111111111111111,
              "#46039f"
             ],
             [
              0.2222222222222222,
              "#7201a8"
             ],
             [
              0.3333333333333333,
              "#9c179e"
             ],
             [
              0.4444444444444444,
              "#bd3786"
             ],
             [
              0.5555555555555556,
              "#d8576b"
             ],
             [
              0.6666666666666666,
              "#ed7953"
             ],
             [
              0.7777777777777778,
              "#fb9f3a"
             ],
             [
              0.8888888888888888,
              "#fdca26"
             ],
             [
              1,
              "#f0f921"
             ]
            ],
            "type": "heatmap"
           }
          ],
          "heatmapgl": [
           {
            "colorbar": {
             "outlinewidth": 0,
             "ticks": ""
            },
            "colorscale": [
             [
              0,
              "#0d0887"
             ],
             [
              0.1111111111111111,
              "#46039f"
             ],
             [
              0.2222222222222222,
              "#7201a8"
             ],
             [
              0.3333333333333333,
              "#9c179e"
             ],
             [
              0.4444444444444444,
              "#bd3786"
             ],
             [
              0.5555555555555556,
              "#d8576b"
             ],
             [
              0.6666666666666666,
              "#ed7953"
             ],
             [
              0.7777777777777778,
              "#fb9f3a"
             ],
             [
              0.8888888888888888,
              "#fdca26"
             ],
             [
              1,
              "#f0f921"
             ]
            ],
            "type": "heatmapgl"
           }
          ],
          "histogram": [
           {
            "marker": {
             "pattern": {
              "fillmode": "overlay",
              "size": 10,
              "solidity": 0.2
             }
            },
            "type": "histogram"
           }
          ],
          "histogram2d": [
           {
            "colorbar": {
             "outlinewidth": 0,
             "ticks": ""
            },
            "colorscale": [
             [
              0,
              "#0d0887"
             ],
             [
              0.1111111111111111,
              "#46039f"
             ],
             [
              0.2222222222222222,
              "#7201a8"
             ],
             [
              0.3333333333333333,
              "#9c179e"
             ],
             [
              0.4444444444444444,
              "#bd3786"
             ],
             [
              0.5555555555555556,
              "#d8576b"
             ],
             [
              0.6666666666666666,
              "#ed7953"
             ],
             [
              0.7777777777777778,
              "#fb9f3a"
             ],
             [
              0.8888888888888888,
              "#fdca26"
             ],
             [
              1,
              "#f0f921"
             ]
            ],
            "type": "histogram2d"
           }
          ],
          "histogram2dcontour": [
           {
            "colorbar": {
             "outlinewidth": 0,
             "ticks": ""
            },
            "colorscale": [
             [
              0,
              "#0d0887"
             ],
             [
              0.1111111111111111,
              "#46039f"
             ],
             [
              0.2222222222222222,
              "#7201a8"
             ],
             [
              0.3333333333333333,
              "#9c179e"
             ],
             [
              0.4444444444444444,
              "#bd3786"
             ],
             [
              0.5555555555555556,
              "#d8576b"
             ],
             [
              0.6666666666666666,
              "#ed7953"
             ],
             [
              0.7777777777777778,
              "#fb9f3a"
             ],
             [
              0.8888888888888888,
              "#fdca26"
             ],
             [
              1,
              "#f0f921"
             ]
            ],
            "type": "histogram2dcontour"
           }
          ],
          "mesh3d": [
           {
            "colorbar": {
             "outlinewidth": 0,
             "ticks": ""
            },
            "type": "mesh3d"
           }
          ],
          "parcoords": [
           {
            "line": {
             "colorbar": {
              "outlinewidth": 0,
              "ticks": ""
             }
            },
            "type": "parcoords"
           }
          ],
          "pie": [
           {
            "automargin": true,
            "type": "pie"
           }
          ],
          "scatter": [
           {
            "fillpattern": {
             "fillmode": "overlay",
             "size": 10,
             "solidity": 0.2
            },
            "type": "scatter"
           }
          ],
          "scatter3d": [
           {
            "line": {
             "colorbar": {
              "outlinewidth": 0,
              "ticks": ""
             }
            },
            "marker": {
             "colorbar": {
              "outlinewidth": 0,
              "ticks": ""
             }
            },
            "type": "scatter3d"
           }
          ],
          "scattercarpet": [
           {
            "marker": {
             "colorbar": {
              "outlinewidth": 0,
              "ticks": ""
             }
            },
            "type": "scattercarpet"
           }
          ],
          "scattergeo": [
           {
            "marker": {
             "colorbar": {
              "outlinewidth": 0,
              "ticks": ""
             }
            },
            "type": "scattergeo"
           }
          ],
          "scattergl": [
           {
            "marker": {
             "colorbar": {
              "outlinewidth": 0,
              "ticks": ""
             }
            },
            "type": "scattergl"
           }
          ],
          "scattermapbox": [
           {
            "marker": {
             "colorbar": {
              "outlinewidth": 0,
              "ticks": ""
             }
            },
            "type": "scattermapbox"
           }
          ],
          "scatterpolar": [
           {
            "marker": {
             "colorbar": {
              "outlinewidth": 0,
              "ticks": ""
             }
            },
            "type": "scatterpolar"
           }
          ],
          "scatterpolargl": [
           {
            "marker": {
             "colorbar": {
              "outlinewidth": 0,
              "ticks": ""
             }
            },
            "type": "scatterpolargl"
           }
          ],
          "scatterternary": [
           {
            "marker": {
             "colorbar": {
              "outlinewidth": 0,
              "ticks": ""
             }
            },
            "type": "scatterternary"
           }
          ],
          "surface": [
           {
            "colorbar": {
             "outlinewidth": 0,
             "ticks": ""
            },
            "colorscale": [
             [
              0,
              "#0d0887"
             ],
             [
              0.1111111111111111,
              "#46039f"
             ],
             [
              0.2222222222222222,
              "#7201a8"
             ],
             [
              0.3333333333333333,
              "#9c179e"
             ],
             [
              0.4444444444444444,
              "#bd3786"
             ],
             [
              0.5555555555555556,
              "#d8576b"
             ],
             [
              0.6666666666666666,
              "#ed7953"
             ],
             [
              0.7777777777777778,
              "#fb9f3a"
             ],
             [
              0.8888888888888888,
              "#fdca26"
             ],
             [
              1,
              "#f0f921"
             ]
            ],
            "type": "surface"
           }
          ],
          "table": [
           {
            "cells": {
             "fill": {
              "color": "#EBF0F8"
             },
             "line": {
              "color": "white"
             }
            },
            "header": {
             "fill": {
              "color": "#C8D4E3"
             },
             "line": {
              "color": "white"
             }
            },
            "type": "table"
           }
          ]
         },
         "layout": {
          "annotationdefaults": {
           "arrowcolor": "#2a3f5f",
           "arrowhead": 0,
           "arrowwidth": 1
          },
          "autotypenumbers": "strict",
          "coloraxis": {
           "colorbar": {
            "outlinewidth": 0,
            "ticks": ""
           }
          },
          "colorscale": {
           "diverging": [
            [
             0,
             "#8e0152"
            ],
            [
             0.1,
             "#c51b7d"
            ],
            [
             0.2,
             "#de77ae"
            ],
            [
             0.3,
             "#f1b6da"
            ],
            [
             0.4,
             "#fde0ef"
            ],
            [
             0.5,
             "#f7f7f7"
            ],
            [
             0.6,
             "#e6f5d0"
            ],
            [
             0.7,
             "#b8e186"
            ],
            [
             0.8,
             "#7fbc41"
            ],
            [
             0.9,
             "#4d9221"
            ],
            [
             1,
             "#276419"
            ]
           ],
           "sequential": [
            [
             0,
             "#0d0887"
            ],
            [
             0.1111111111111111,
             "#46039f"
            ],
            [
             0.2222222222222222,
             "#7201a8"
            ],
            [
             0.3333333333333333,
             "#9c179e"
            ],
            [
             0.4444444444444444,
             "#bd3786"
            ],
            [
             0.5555555555555556,
             "#d8576b"
            ],
            [
             0.6666666666666666,
             "#ed7953"
            ],
            [
             0.7777777777777778,
             "#fb9f3a"
            ],
            [
             0.8888888888888888,
             "#fdca26"
            ],
            [
             1,
             "#f0f921"
            ]
           ],
           "sequentialminus": [
            [
             0,
             "#0d0887"
            ],
            [
             0.1111111111111111,
             "#46039f"
            ],
            [
             0.2222222222222222,
             "#7201a8"
            ],
            [
             0.3333333333333333,
             "#9c179e"
            ],
            [
             0.4444444444444444,
             "#bd3786"
            ],
            [
             0.5555555555555556,
             "#d8576b"
            ],
            [
             0.6666666666666666,
             "#ed7953"
            ],
            [
             0.7777777777777778,
             "#fb9f3a"
            ],
            [
             0.8888888888888888,
             "#fdca26"
            ],
            [
             1,
             "#f0f921"
            ]
           ]
          },
          "colorway": [
           "#636efa",
           "#EF553B",
           "#00cc96",
           "#ab63fa",
           "#FFA15A",
           "#19d3f3",
           "#FF6692",
           "#B6E880",
           "#FF97FF",
           "#FECB52"
          ],
          "font": {
           "color": "#2a3f5f"
          },
          "geo": {
           "bgcolor": "white",
           "lakecolor": "white",
           "landcolor": "#E5ECF6",
           "showlakes": true,
           "showland": true,
           "subunitcolor": "white"
          },
          "hoverlabel": {
           "align": "left"
          },
          "hovermode": "closest",
          "mapbox": {
           "style": "light"
          },
          "paper_bgcolor": "white",
          "plot_bgcolor": "#E5ECF6",
          "polar": {
           "angularaxis": {
            "gridcolor": "white",
            "linecolor": "white",
            "ticks": ""
           },
           "bgcolor": "#E5ECF6",
           "radialaxis": {
            "gridcolor": "white",
            "linecolor": "white",
            "ticks": ""
           }
          },
          "scene": {
           "xaxis": {
            "backgroundcolor": "#E5ECF6",
            "gridcolor": "white",
            "gridwidth": 2,
            "linecolor": "white",
            "showbackground": true,
            "ticks": "",
            "zerolinecolor": "white"
           },
           "yaxis": {
            "backgroundcolor": "#E5ECF6",
            "gridcolor": "white",
            "gridwidth": 2,
            "linecolor": "white",
            "showbackground": true,
            "ticks": "",
            "zerolinecolor": "white"
           },
           "zaxis": {
            "backgroundcolor": "#E5ECF6",
            "gridcolor": "white",
            "gridwidth": 2,
            "linecolor": "white",
            "showbackground": true,
            "ticks": "",
            "zerolinecolor": "white"
           }
          },
          "shapedefaults": {
           "line": {
            "color": "#2a3f5f"
           }
          },
          "ternary": {
           "aaxis": {
            "gridcolor": "white",
            "linecolor": "white",
            "ticks": ""
           },
           "baxis": {
            "gridcolor": "white",
            "linecolor": "white",
            "ticks": ""
           },
           "bgcolor": "#E5ECF6",
           "caxis": {
            "gridcolor": "white",
            "linecolor": "white",
            "ticks": ""
           }
          },
          "title": {
           "x": 0.05
          },
          "xaxis": {
           "automargin": true,
           "gridcolor": "white",
           "linecolor": "white",
           "ticks": "",
           "title": {
            "standoff": 15
           },
           "zerolinecolor": "white",
           "zerolinewidth": 2
          },
          "yaxis": {
           "automargin": true,
           "gridcolor": "white",
           "linecolor": "white",
           "ticks": "",
           "title": {
            "standoff": 15
           },
           "zerolinecolor": "white",
           "zerolinewidth": 2
          }
         }
        },
        "xaxis": {
         "anchor": "y",
         "domain": [
          0,
          1
         ],
         "title": {
          "text": "t"
         }
        },
        "yaxis": {
         "anchor": "x",
         "domain": [
          0,
          1
         ],
         "title": {
          "text": "value"
         }
        }
       }
      }
     },
     "metadata": {},
     "output_type": "display_data"
    },
    {
     "name": "stdout",
     "output_type": "stream",
     "text": [
      "Base strategy Sharpe: 2.21\n",
      "Base strategy win rate: 81.08%\n",
      "Base strategy average win: $107.87\n",
      "Base strategy average loss: $357.63\n",
      "Base strategy expected value per trade: $19.8\n"
     ]
    }
   ],
   "source": [
    "# Align base strategy backtest's days with metalabeled strategy for comparison\n",
    "# Because we lost some days of evaluation on the metealabeled backtest due to the walk-forward approach\n",
    "base_strat_backtest_df = base_backtest_df.reindex(metalabeled_backtest_df.index)\n",
    "\n",
    "px.line(base_strat_backtest_df['net_capital']).show()\n",
    "print(f\"Base strategy Sharpe: {round(sharpe_ratio(returns=base_strat_backtest_df['pct_return']), 2)}\")\n",
    "\n",
    "base_strat_win_rate = len(base_strat_backtest_df[base_strat_backtest_df['net_pnl'] > 0]) / len(base_strat_backtest_df)\n",
    "base_strat_avg_win = base_strat_backtest_df[base_strat_backtest_df['net_pnl'] > 0]['net_pnl'].mean() * 100\n",
    "base_strat_avg_loss = abs(base_strat_backtest_df[base_strat_backtest_df['net_pnl'] < 0]['net_pnl'].mean() * 100)\n",
    "\n",
    "print(f\"Base strategy win rate: {round(base_strat_win_rate * 100, 2)}%\")\n",
    "print(f\"Base strategy average win: ${round(base_strat_avg_win, 2)}\")\n",
    "print(f\"Base strategy average loss: ${round(base_strat_avg_loss, 2)}\")\n",
    "print(f\"Base strategy expected value per trade: ${round((base_strat_avg_win * base_strat_win_rate) - (base_strat_avg_loss * (1 - base_strat_win_rate)), 2)}\")"
   ]
  },
  {
   "cell_type": "markdown",
   "metadata": {},
   "source": [
    "### Meta-labeled Strategy Backtest"
   ]
  },
  {
   "cell_type": "code",
   "execution_count": 25,
   "metadata": {},
   "outputs": [
    {
     "data": {
      "application/vnd.plotly.v1+json": {
       "config": {
        "plotlyServerURL": "https://plot.ly"
       },
       "data": [
        {
         "hovertemplate": "variable=net_capital<br>date=%{x}<br>value=%{y}<extra></extra>",
         "legendgroup": "net_capital",
         "line": {
          "color": "#636efa",
          "dash": "solid"
         },
         "marker": {
          "symbol": "circle"
         },
         "mode": "lines",
         "name": "net_capital",
         "orientation": "v",
         "showlegend": true,
         "type": "scatter",
         "x": [
          "2023-12-04T00:00:00",
          "2023-12-05T00:00:00",
          "2023-12-06T00:00:00",
          "2023-12-07T00:00:00",
          "2023-12-08T00:00:00",
          "2023-12-11T00:00:00",
          "2023-12-12T00:00:00",
          "2023-12-13T00:00:00",
          "2023-12-14T00:00:00",
          "2023-12-15T00:00:00",
          "2023-12-18T00:00:00",
          "2023-12-19T00:00:00",
          "2023-12-20T00:00:00",
          "2023-12-21T00:00:00",
          "2023-12-22T00:00:00",
          "2023-12-26T00:00:00",
          "2023-12-27T00:00:00",
          "2023-12-28T00:00:00",
          "2023-12-29T00:00:00",
          "2024-01-02T00:00:00",
          "2024-01-03T00:00:00",
          "2024-01-04T00:00:00",
          "2024-01-05T00:00:00",
          "2024-01-08T00:00:00",
          "2024-01-09T00:00:00",
          "2024-01-10T00:00:00",
          "2024-01-11T00:00:00",
          "2024-01-12T00:00:00",
          "2024-01-16T00:00:00",
          "2024-01-17T00:00:00",
          "2024-01-18T00:00:00",
          "2024-01-19T00:00:00",
          "2024-01-22T00:00:00",
          "2024-01-23T00:00:00",
          "2024-01-24T00:00:00",
          "2024-01-25T00:00:00",
          "2024-01-26T00:00:00",
          "2024-01-29T00:00:00",
          "2024-01-30T00:00:00",
          "2024-01-31T00:00:00",
          "2024-02-01T00:00:00",
          "2024-02-02T00:00:00",
          "2024-02-05T00:00:00",
          "2024-02-06T00:00:00",
          "2024-02-07T00:00:00",
          "2024-02-08T00:00:00",
          "2024-02-13T00:00:00",
          "2024-02-14T00:00:00",
          "2024-02-15T00:00:00",
          "2024-02-16T00:00:00",
          "2024-02-20T00:00:00",
          "2024-02-21T00:00:00",
          "2024-02-22T00:00:00",
          "2024-02-23T00:00:00",
          "2024-02-26T00:00:00",
          "2024-02-27T00:00:00",
          "2024-02-28T00:00:00",
          "2024-02-29T00:00:00",
          "2024-03-01T00:00:00",
          "2024-03-04T00:00:00",
          "2024-03-05T00:00:00",
          "2024-03-06T00:00:00",
          "2024-03-07T00:00:00",
          "2024-03-08T00:00:00",
          "2024-03-11T00:00:00",
          "2024-03-12T00:00:00",
          "2024-03-13T00:00:00",
          "2024-03-14T00:00:00",
          "2024-03-15T00:00:00",
          "2024-03-18T00:00:00",
          "2024-03-19T00:00:00",
          "2024-03-20T00:00:00",
          "2024-03-21T00:00:00",
          "2024-03-22T00:00:00",
          "2024-03-25T00:00:00",
          "2024-03-26T00:00:00",
          "2024-03-27T00:00:00",
          "2024-03-28T00:00:00",
          "2024-04-01T00:00:00",
          "2024-04-02T00:00:00",
          "2024-04-03T00:00:00",
          "2024-04-04T00:00:00",
          "2024-04-05T00:00:00",
          "2024-04-08T00:00:00",
          "2024-04-09T00:00:00",
          "2024-04-10T00:00:00",
          "2024-04-11T00:00:00",
          "2024-04-12T00:00:00",
          "2024-04-15T00:00:00",
          "2024-04-16T00:00:00",
          "2024-04-17T00:00:00",
          "2024-04-18T00:00:00",
          "2024-04-19T00:00:00",
          "2024-04-22T00:00:00",
          "2024-04-23T00:00:00",
          "2024-04-24T00:00:00",
          "2024-04-25T00:00:00",
          "2024-04-26T00:00:00",
          "2024-04-29T00:00:00",
          "2024-04-30T00:00:00",
          "2024-05-01T00:00:00",
          "2024-05-02T00:00:00",
          "2024-05-03T00:00:00",
          "2024-05-06T00:00:00",
          "2024-05-07T00:00:00",
          "2024-05-08T00:00:00",
          "2024-05-09T00:00:00",
          "2024-05-10T00:00:00",
          "2024-05-13T00:00:00",
          "2024-05-14T00:00:00",
          "2024-05-15T00:00:00",
          "2024-05-16T00:00:00",
          "2024-05-17T00:00:00",
          "2024-05-20T00:00:00",
          "2024-05-21T00:00:00",
          "2024-05-22T00:00:00",
          "2024-05-23T00:00:00",
          "2024-05-24T00:00:00",
          "2024-05-28T00:00:00",
          "2024-05-29T00:00:00",
          "2024-05-30T00:00:00",
          "2024-05-31T00:00:00",
          "2024-06-03T00:00:00",
          "2024-06-04T00:00:00",
          "2024-06-05T00:00:00",
          "2024-06-06T00:00:00",
          "2024-06-07T00:00:00",
          "2024-06-10T00:00:00",
          "2024-06-11T00:00:00",
          "2024-06-12T00:00:00",
          "2024-06-13T00:00:00",
          "2024-06-14T00:00:00",
          "2024-06-17T00:00:00",
          "2024-06-18T00:00:00",
          "2024-06-20T00:00:00",
          "2024-06-21T00:00:00",
          "2024-06-24T00:00:00",
          "2024-06-25T00:00:00",
          "2024-06-26T00:00:00",
          "2024-06-27T00:00:00",
          "2024-06-28T00:00:00",
          "2024-07-01T00:00:00",
          "2024-07-02T00:00:00",
          "2024-07-03T00:00:00",
          "2024-07-05T00:00:00",
          "2024-07-08T00:00:00",
          "2024-07-09T00:00:00",
          "2024-07-10T00:00:00",
          "2024-07-11T00:00:00",
          "2024-07-12T00:00:00",
          "2024-07-15T00:00:00",
          "2024-07-16T00:00:00",
          "2024-07-17T00:00:00",
          "2024-07-18T00:00:00",
          "2024-07-19T00:00:00",
          "2024-07-22T00:00:00",
          "2024-07-23T00:00:00",
          "2024-07-24T00:00:00",
          "2024-07-25T00:00:00",
          "2024-07-26T00:00:00",
          "2024-07-29T00:00:00",
          "2024-07-30T00:00:00",
          "2024-07-31T00:00:00",
          "2024-08-01T00:00:00",
          "2024-08-02T00:00:00",
          "2024-08-05T00:00:00",
          "2024-08-06T00:00:00",
          "2024-08-07T00:00:00",
          "2024-08-08T00:00:00",
          "2024-08-09T00:00:00",
          "2024-08-12T00:00:00",
          "2024-08-13T00:00:00",
          "2024-08-14T00:00:00",
          "2024-08-15T00:00:00",
          "2024-08-16T00:00:00",
          "2024-08-19T00:00:00",
          "2024-08-20T00:00:00",
          "2024-08-21T00:00:00",
          "2024-08-22T00:00:00",
          "2024-08-23T00:00:00",
          "2024-08-26T00:00:00",
          "2024-08-27T00:00:00",
          "2024-08-28T00:00:00",
          "2024-08-29T00:00:00",
          "2024-08-30T00:00:00",
          "2024-09-03T00:00:00",
          "2024-09-04T00:00:00",
          "2024-09-05T00:00:00",
          "2024-09-06T00:00:00",
          "2024-09-09T00:00:00",
          "2024-09-10T00:00:00",
          "2024-09-11T00:00:00",
          "2024-09-12T00:00:00",
          "2024-09-13T00:00:00",
          "2024-09-16T00:00:00",
          "2024-09-17T00:00:00",
          "2024-09-18T00:00:00",
          "2024-09-19T00:00:00",
          "2024-09-20T00:00:00",
          "2024-09-23T00:00:00",
          "2024-09-24T00:00:00",
          "2024-09-25T00:00:00",
          "2024-09-26T00:00:00",
          "2024-09-27T00:00:00",
          "2024-09-30T00:00:00",
          "2024-10-01T00:00:00",
          "2024-10-02T00:00:00",
          "2024-10-03T00:00:00",
          "2024-10-04T00:00:00",
          "2024-10-07T00:00:00",
          "2024-10-08T00:00:00",
          "2024-10-09T00:00:00",
          "2024-10-10T00:00:00",
          "2024-10-11T00:00:00",
          "2024-10-14T00:00:00",
          "2024-10-15T00:00:00",
          "2024-10-16T00:00:00",
          "2024-10-17T00:00:00",
          "2024-10-18T00:00:00",
          "2024-10-21T00:00:00",
          "2024-10-22T00:00:00",
          "2024-10-23T00:00:00"
         ],
         "xaxis": "x",
         "y": [
          3086,
          3189,
          2786,
          2786,
          2902,
          2902,
          2998,
          3109,
          3109,
          3109,
          3109,
          3109,
          3109,
          3225,
          3324,
          3324,
          3425,
          3425,
          3495.0000000000327,
          3601.0000000000327,
          3701.000000000029,
          3807.000000000029,
          3920.000000000029,
          3503.000000000029,
          3624.000000000029,
          3624.000000000029,
          3624.000000000029,
          3730.000000000029,
          3730.000000000029,
          3851.000000000029,
          3967.000000000029,
          4098.000000000029,
          4098.000000000029,
          4219.000000000029,
          4219.000000000029,
          4317.000000000029,
          4423.000000000029,
          4536.000000000029,
          4536.000000000029,
          4536.000000000029,
          4536.000000000029,
          4657.000000000029,
          4773.000000000029,
          4773.000000000029,
          4773.000000000029,
          4881.000000000029,
          4997.000000000029,
          5103.000000000029,
          5214.000000000029,
          5325.000000000029,
          5416.000000000029,
          5532.000000000029,
          5648.000000000029,
          5625.000000000044,
          5625.000000000044,
          5625.000000000044,
          5721.000000000044,
          5842.000000000044,
          5842.000000000044,
          5956.000000000044,
          5956.000000000044,
          6077.000000000044,
          6183.000000000044,
          5799.000000000044,
          5910.000000000044,
          5991.000000000044,
          6094.000000000044,
          5740.000000000062,
          5856.000000000062,
          5477.000000000062,
          5477.000000000062,
          5608.000000000062,
          5707.000000000062,
          5707.000000000062,
          5808.000000000062,
          5394.000000000062,
          5394.000000000062,
          5495.000000000062,
          5091.000000000062,
          5192.000000000062,
          5295.000000000062,
          4876.000000000062,
          4507.000000000062,
          4603.000000000062,
          4686.000000000062,
          4807.000000000062,
          4448.000000000062,
          4579.000000000062,
          4710.000000000062,
          4861.000000000062,
          4977.000000000062,
          5123.000000000062,
          5123.000000000062,
          5173.000000000095,
          4789.000000000095,
          4895.000000000095,
          4516.000000000095,
          4642.000000000095,
          4743.000000000095,
          4844.000000000095,
          4955.000000000095,
          5091.000000000095,
          5207.000000000095,
          5291.000000000095,
          5392.000000000095,
          5488.000000000095,
          5579.000000000095,
          5652.000000000095,
          5743.000000000095,
          5849.000000000095,
          5960.000000000095,
          5778.000000000084,
          5879.000000000084,
          5955.000000000084,
          6028.000000000084,
          6096.000000000084,
          5722.000000000084,
          5808.000000000084,
          5891.000000000084,
          5997.000000000084,
          6101.000000000084,
          5712.000000000084,
          5808.000000000084,
          5924.000000000084,
          6040.000000000084,
          6131.000000000084,
          6267.000000000084,
          6368.000000000084,
          6368.000000000084,
          6368.000000000084,
          6469.000000000084,
          6570.000000000084,
          6681.000000000084,
          6772.000000000084,
          6373.000000000084,
          6464.000000000084,
          6355.00000000012,
          6451.00000000012,
          6567.00000000012,
          6683.00000000012,
          6299.00000000012,
          6395.00000000012,
          6395.00000000012,
          6453.00000000012,
          6559.00000000012,
          6655.00000000012,
          6754.00000000012,
          6850.00000000012,
          6850.00000000012,
          6936.00000000012,
          7042.00000000012,
          7133.00000000012,
          6744.00000000012,
          6390.00000000012,
          6521.00000000012,
          6639.50000000012,
          6745.50000000012,
          6886.50000000012,
          7047.50000000012,
          7178.50000000012,
          7314.50000000012,
          7435.50000000012,
          7576.50000000012,
          7192.50000000012,
          7333.50000000012,
          7333.50000000012,
          7479.50000000012,
          7605.50000000012,
          7236.50000000012,
          7397.50000000012,
          7543.50000000012,
          7192.00000000012,
          7338.00000000012,
          7444.00000000012,
          7565.00000000012,
          7656.00000000012,
          7762.00000000012,
          7898.00000000012,
          7509.00000000012,
          7635.00000000012,
          7251.00000000012,
          7251.00000000012,
          7251.00000000012,
          7251.00000000012,
          7251.00000000012,
          7251.00000000012,
          7251.00000000012,
          7407.00000000012,
          7553.00000000012,
          7699.00000000012,
          7835.00000000012,
          7481.00000000012,
          7092.00000000012,
          7188.00000000012,
          7294.00000000012,
          7385.00000000012,
          7521.00000000012,
          7617.00000000012,
          7723.00000000012,
          7829.00000000012,
          7920.00000000012,
          7741.00000000012,
          7741.00000000012,
          7741.00000000012,
          7741.00000000012,
          7857.00000000012,
          7963.00000000012,
          8074.00000000012,
          8195.00000000012,
          7826.00000000012,
          7927.00000000012,
          8028.00000000012,
          8139.00000000012,
          8235.00000000012,
          8321.00000000012,
          8321.00000000012,
          8417.00000000012,
          8152.000000000171,
          8263.000000000171,
          8364.000000000171,
          8470.000000000171,
          8066.000000000171
         ],
         "yaxis": "y"
        }
       ],
       "layout": {
        "legend": {
         "title": {
          "text": "variable"
         },
         "tracegroupgap": 0
        },
        "margin": {
         "t": 60
        },
        "template": {
         "data": {
          "bar": [
           {
            "error_x": {
             "color": "#2a3f5f"
            },
            "error_y": {
             "color": "#2a3f5f"
            },
            "marker": {
             "line": {
              "color": "#E5ECF6",
              "width": 0.5
             },
             "pattern": {
              "fillmode": "overlay",
              "size": 10,
              "solidity": 0.2
             }
            },
            "type": "bar"
           }
          ],
          "barpolar": [
           {
            "marker": {
             "line": {
              "color": "#E5ECF6",
              "width": 0.5
             },
             "pattern": {
              "fillmode": "overlay",
              "size": 10,
              "solidity": 0.2
             }
            },
            "type": "barpolar"
           }
          ],
          "carpet": [
           {
            "aaxis": {
             "endlinecolor": "#2a3f5f",
             "gridcolor": "white",
             "linecolor": "white",
             "minorgridcolor": "white",
             "startlinecolor": "#2a3f5f"
            },
            "baxis": {
             "endlinecolor": "#2a3f5f",
             "gridcolor": "white",
             "linecolor": "white",
             "minorgridcolor": "white",
             "startlinecolor": "#2a3f5f"
            },
            "type": "carpet"
           }
          ],
          "choropleth": [
           {
            "colorbar": {
             "outlinewidth": 0,
             "ticks": ""
            },
            "type": "choropleth"
           }
          ],
          "contour": [
           {
            "colorbar": {
             "outlinewidth": 0,
             "ticks": ""
            },
            "colorscale": [
             [
              0,
              "#0d0887"
             ],
             [
              0.1111111111111111,
              "#46039f"
             ],
             [
              0.2222222222222222,
              "#7201a8"
             ],
             [
              0.3333333333333333,
              "#9c179e"
             ],
             [
              0.4444444444444444,
              "#bd3786"
             ],
             [
              0.5555555555555556,
              "#d8576b"
             ],
             [
              0.6666666666666666,
              "#ed7953"
             ],
             [
              0.7777777777777778,
              "#fb9f3a"
             ],
             [
              0.8888888888888888,
              "#fdca26"
             ],
             [
              1,
              "#f0f921"
             ]
            ],
            "type": "contour"
           }
          ],
          "contourcarpet": [
           {
            "colorbar": {
             "outlinewidth": 0,
             "ticks": ""
            },
            "type": "contourcarpet"
           }
          ],
          "heatmap": [
           {
            "colorbar": {
             "outlinewidth": 0,
             "ticks": ""
            },
            "colorscale": [
             [
              0,
              "#0d0887"
             ],
             [
              0.1111111111111111,
              "#46039f"
             ],
             [
              0.2222222222222222,
              "#7201a8"
             ],
             [
              0.3333333333333333,
              "#9c179e"
             ],
             [
              0.4444444444444444,
              "#bd3786"
             ],
             [
              0.5555555555555556,
              "#d8576b"
             ],
             [
              0.6666666666666666,
              "#ed7953"
             ],
             [
              0.7777777777777778,
              "#fb9f3a"
             ],
             [
              0.8888888888888888,
              "#fdca26"
             ],
             [
              1,
              "#f0f921"
             ]
            ],
            "type": "heatmap"
           }
          ],
          "heatmapgl": [
           {
            "colorbar": {
             "outlinewidth": 0,
             "ticks": ""
            },
            "colorscale": [
             [
              0,
              "#0d0887"
             ],
             [
              0.1111111111111111,
              "#46039f"
             ],
             [
              0.2222222222222222,
              "#7201a8"
             ],
             [
              0.3333333333333333,
              "#9c179e"
             ],
             [
              0.4444444444444444,
              "#bd3786"
             ],
             [
              0.5555555555555556,
              "#d8576b"
             ],
             [
              0.6666666666666666,
              "#ed7953"
             ],
             [
              0.7777777777777778,
              "#fb9f3a"
             ],
             [
              0.8888888888888888,
              "#fdca26"
             ],
             [
              1,
              "#f0f921"
             ]
            ],
            "type": "heatmapgl"
           }
          ],
          "histogram": [
           {
            "marker": {
             "pattern": {
              "fillmode": "overlay",
              "size": 10,
              "solidity": 0.2
             }
            },
            "type": "histogram"
           }
          ],
          "histogram2d": [
           {
            "colorbar": {
             "outlinewidth": 0,
             "ticks": ""
            },
            "colorscale": [
             [
              0,
              "#0d0887"
             ],
             [
              0.1111111111111111,
              "#46039f"
             ],
             [
              0.2222222222222222,
              "#7201a8"
             ],
             [
              0.3333333333333333,
              "#9c179e"
             ],
             [
              0.4444444444444444,
              "#bd3786"
             ],
             [
              0.5555555555555556,
              "#d8576b"
             ],
             [
              0.6666666666666666,
              "#ed7953"
             ],
             [
              0.7777777777777778,
              "#fb9f3a"
             ],
             [
              0.8888888888888888,
              "#fdca26"
             ],
             [
              1,
              "#f0f921"
             ]
            ],
            "type": "histogram2d"
           }
          ],
          "histogram2dcontour": [
           {
            "colorbar": {
             "outlinewidth": 0,
             "ticks": ""
            },
            "colorscale": [
             [
              0,
              "#0d0887"
             ],
             [
              0.1111111111111111,
              "#46039f"
             ],
             [
              0.2222222222222222,
              "#7201a8"
             ],
             [
              0.3333333333333333,
              "#9c179e"
             ],
             [
              0.4444444444444444,
              "#bd3786"
             ],
             [
              0.5555555555555556,
              "#d8576b"
             ],
             [
              0.6666666666666666,
              "#ed7953"
             ],
             [
              0.7777777777777778,
              "#fb9f3a"
             ],
             [
              0.8888888888888888,
              "#fdca26"
             ],
             [
              1,
              "#f0f921"
             ]
            ],
            "type": "histogram2dcontour"
           }
          ],
          "mesh3d": [
           {
            "colorbar": {
             "outlinewidth": 0,
             "ticks": ""
            },
            "type": "mesh3d"
           }
          ],
          "parcoords": [
           {
            "line": {
             "colorbar": {
              "outlinewidth": 0,
              "ticks": ""
             }
            },
            "type": "parcoords"
           }
          ],
          "pie": [
           {
            "automargin": true,
            "type": "pie"
           }
          ],
          "scatter": [
           {
            "fillpattern": {
             "fillmode": "overlay",
             "size": 10,
             "solidity": 0.2
            },
            "type": "scatter"
           }
          ],
          "scatter3d": [
           {
            "line": {
             "colorbar": {
              "outlinewidth": 0,
              "ticks": ""
             }
            },
            "marker": {
             "colorbar": {
              "outlinewidth": 0,
              "ticks": ""
             }
            },
            "type": "scatter3d"
           }
          ],
          "scattercarpet": [
           {
            "marker": {
             "colorbar": {
              "outlinewidth": 0,
              "ticks": ""
             }
            },
            "type": "scattercarpet"
           }
          ],
          "scattergeo": [
           {
            "marker": {
             "colorbar": {
              "outlinewidth": 0,
              "ticks": ""
             }
            },
            "type": "scattergeo"
           }
          ],
          "scattergl": [
           {
            "marker": {
             "colorbar": {
              "outlinewidth": 0,
              "ticks": ""
             }
            },
            "type": "scattergl"
           }
          ],
          "scattermapbox": [
           {
            "marker": {
             "colorbar": {
              "outlinewidth": 0,
              "ticks": ""
             }
            },
            "type": "scattermapbox"
           }
          ],
          "scatterpolar": [
           {
            "marker": {
             "colorbar": {
              "outlinewidth": 0,
              "ticks": ""
             }
            },
            "type": "scatterpolar"
           }
          ],
          "scatterpolargl": [
           {
            "marker": {
             "colorbar": {
              "outlinewidth": 0,
              "ticks": ""
             }
            },
            "type": "scatterpolargl"
           }
          ],
          "scatterternary": [
           {
            "marker": {
             "colorbar": {
              "outlinewidth": 0,
              "ticks": ""
             }
            },
            "type": "scatterternary"
           }
          ],
          "surface": [
           {
            "colorbar": {
             "outlinewidth": 0,
             "ticks": ""
            },
            "colorscale": [
             [
              0,
              "#0d0887"
             ],
             [
              0.1111111111111111,
              "#46039f"
             ],
             [
              0.2222222222222222,
              "#7201a8"
             ],
             [
              0.3333333333333333,
              "#9c179e"
             ],
             [
              0.4444444444444444,
              "#bd3786"
             ],
             [
              0.5555555555555556,
              "#d8576b"
             ],
             [
              0.6666666666666666,
              "#ed7953"
             ],
             [
              0.7777777777777778,
              "#fb9f3a"
             ],
             [
              0.8888888888888888,
              "#fdca26"
             ],
             [
              1,
              "#f0f921"
             ]
            ],
            "type": "surface"
           }
          ],
          "table": [
           {
            "cells": {
             "fill": {
              "color": "#EBF0F8"
             },
             "line": {
              "color": "white"
             }
            },
            "header": {
             "fill": {
              "color": "#C8D4E3"
             },
             "line": {
              "color": "white"
             }
            },
            "type": "table"
           }
          ]
         },
         "layout": {
          "annotationdefaults": {
           "arrowcolor": "#2a3f5f",
           "arrowhead": 0,
           "arrowwidth": 1
          },
          "autotypenumbers": "strict",
          "coloraxis": {
           "colorbar": {
            "outlinewidth": 0,
            "ticks": ""
           }
          },
          "colorscale": {
           "diverging": [
            [
             0,
             "#8e0152"
            ],
            [
             0.1,
             "#c51b7d"
            ],
            [
             0.2,
             "#de77ae"
            ],
            [
             0.3,
             "#f1b6da"
            ],
            [
             0.4,
             "#fde0ef"
            ],
            [
             0.5,
             "#f7f7f7"
            ],
            [
             0.6,
             "#e6f5d0"
            ],
            [
             0.7,
             "#b8e186"
            ],
            [
             0.8,
             "#7fbc41"
            ],
            [
             0.9,
             "#4d9221"
            ],
            [
             1,
             "#276419"
            ]
           ],
           "sequential": [
            [
             0,
             "#0d0887"
            ],
            [
             0.1111111111111111,
             "#46039f"
            ],
            [
             0.2222222222222222,
             "#7201a8"
            ],
            [
             0.3333333333333333,
             "#9c179e"
            ],
            [
             0.4444444444444444,
             "#bd3786"
            ],
            [
             0.5555555555555556,
             "#d8576b"
            ],
            [
             0.6666666666666666,
             "#ed7953"
            ],
            [
             0.7777777777777778,
             "#fb9f3a"
            ],
            [
             0.8888888888888888,
             "#fdca26"
            ],
            [
             1,
             "#f0f921"
            ]
           ],
           "sequentialminus": [
            [
             0,
             "#0d0887"
            ],
            [
             0.1111111111111111,
             "#46039f"
            ],
            [
             0.2222222222222222,
             "#7201a8"
            ],
            [
             0.3333333333333333,
             "#9c179e"
            ],
            [
             0.4444444444444444,
             "#bd3786"
            ],
            [
             0.5555555555555556,
             "#d8576b"
            ],
            [
             0.6666666666666666,
             "#ed7953"
            ],
            [
             0.7777777777777778,
             "#fb9f3a"
            ],
            [
             0.8888888888888888,
             "#fdca26"
            ],
            [
             1,
             "#f0f921"
            ]
           ]
          },
          "colorway": [
           "#636efa",
           "#EF553B",
           "#00cc96",
           "#ab63fa",
           "#FFA15A",
           "#19d3f3",
           "#FF6692",
           "#B6E880",
           "#FF97FF",
           "#FECB52"
          ],
          "font": {
           "color": "#2a3f5f"
          },
          "geo": {
           "bgcolor": "white",
           "lakecolor": "white",
           "landcolor": "#E5ECF6",
           "showlakes": true,
           "showland": true,
           "subunitcolor": "white"
          },
          "hoverlabel": {
           "align": "left"
          },
          "hovermode": "closest",
          "mapbox": {
           "style": "light"
          },
          "paper_bgcolor": "white",
          "plot_bgcolor": "#E5ECF6",
          "polar": {
           "angularaxis": {
            "gridcolor": "white",
            "linecolor": "white",
            "ticks": ""
           },
           "bgcolor": "#E5ECF6",
           "radialaxis": {
            "gridcolor": "white",
            "linecolor": "white",
            "ticks": ""
           }
          },
          "scene": {
           "xaxis": {
            "backgroundcolor": "#E5ECF6",
            "gridcolor": "white",
            "gridwidth": 2,
            "linecolor": "white",
            "showbackground": true,
            "ticks": "",
            "zerolinecolor": "white"
           },
           "yaxis": {
            "backgroundcolor": "#E5ECF6",
            "gridcolor": "white",
            "gridwidth": 2,
            "linecolor": "white",
            "showbackground": true,
            "ticks": "",
            "zerolinecolor": "white"
           },
           "zaxis": {
            "backgroundcolor": "#E5ECF6",
            "gridcolor": "white",
            "gridwidth": 2,
            "linecolor": "white",
            "showbackground": true,
            "ticks": "",
            "zerolinecolor": "white"
           }
          },
          "shapedefaults": {
           "line": {
            "color": "#2a3f5f"
           }
          },
          "ternary": {
           "aaxis": {
            "gridcolor": "white",
            "linecolor": "white",
            "ticks": ""
           },
           "baxis": {
            "gridcolor": "white",
            "linecolor": "white",
            "ticks": ""
           },
           "bgcolor": "#E5ECF6",
           "caxis": {
            "gridcolor": "white",
            "linecolor": "white",
            "ticks": ""
           }
          },
          "title": {
           "x": 0.05
          },
          "xaxis": {
           "automargin": true,
           "gridcolor": "white",
           "linecolor": "white",
           "ticks": "",
           "title": {
            "standoff": 15
           },
           "zerolinecolor": "white",
           "zerolinewidth": 2
          },
          "yaxis": {
           "automargin": true,
           "gridcolor": "white",
           "linecolor": "white",
           "ticks": "",
           "title": {
            "standoff": 15
           },
           "zerolinecolor": "white",
           "zerolinewidth": 2
          }
         }
        },
        "xaxis": {
         "anchor": "y",
         "domain": [
          0,
          1
         ],
         "title": {
          "text": "date"
         }
        },
        "yaxis": {
         "anchor": "x",
         "domain": [
          0,
          1
         ],
         "title": {
          "text": "value"
         }
        }
       }
      }
     },
     "metadata": {},
     "output_type": "display_data"
    },
    {
     "name": "stdout",
     "output_type": "stream",
     "text": [
      "Meta-labeled strategy Sharpe: 2.94\n",
      "Meta-labeled strategy win rate: 82.22%\n",
      "Meta-labeled strategy average win: $109.27\n",
      "Meta-labeled strategy average loss: $347.05\n",
      "Meta-labeled strategy expected value per trade: $28.14\n"
     ]
    }
   ],
   "source": [
    "# Take the meta-model's trade/no trade reccomendations and add them to the base strategy backtest DataFrame to create a meta-labeled backtest DataFrame.\n",
    "# We will now only calculate PnL for a given day if the meta-model recommends to trade, setting net PnL to 0, effectively skipping the day otherwise\n",
    "metalabeled_strat_backtest_df = base_backtest_df.copy()\n",
    "aligned_preds = metalabeled_backtest_df['predicted_avoid_trade'].reindex(metalabeled_strat_backtest_df.index)\n",
    "metalabeled_strat_backtest_df['predicted_avoid_trade'] = aligned_preds\n",
    "metalabeled_strat_backtest_df = metalabeled_strat_backtest_df.dropna()\n",
    "metalabeled_strat_backtest_df['predicted_avoid_trade'] = metalabeled_strat_backtest_df['predicted_avoid_trade'].astype(int)\n",
    "\n",
    "metalabeled_strat_backtest_df['gross_pnl'] = metalabeled_strat_backtest_df.apply(calculate_pnl, axis=1)\n",
    "metalabeled_strat_backtest_df['net_pnl'] = np.where(metalabeled_strat_backtest_df['predicted_avoid_trade'] == 0, metalabeled_strat_backtest_df['gross_pnl'] * metalabeled_strat_backtest_df['contracts'] - metalabeled_strat_backtest_df['fees'], 0)\n",
    "\n",
    "capital = 3000\n",
    "\n",
    "metalabeled_strat_backtest_df['net_capital'] = capital + (metalabeled_strat_backtest_df['net_pnl']*100).cumsum()\n",
    "metalabeled_strat_backtest_df['day_begin_net_capital'] = metalabeled_strat_backtest_df['net_capital'] - (metalabeled_strat_backtest_df['net_pnl']*100)\n",
    "metalabeled_strat_backtest_df['cumulative_pnl'] = metalabeled_strat_backtest_df['net_pnl'].cumsum()\n",
    "metalabeled_strat_backtest_df['pct_return'] = (metalabeled_strat_backtest_df['net_pnl']* 100)/ metalabeled_strat_backtest_df['day_begin_net_capital']\n",
    "\n",
    "# Plot and metrics\n",
    "px.line(metalabeled_strat_backtest_df['net_capital']).show()\n",
    "print(f\"Meta-labeled strategy Sharpe: {round(sharpe_ratio(returns=metalabeled_strat_backtest_df['pct_return']), 2)}\")\n",
    "\n",
    "metalabeled_strat_win_rate = len(metalabeled_strat_backtest_df[metalabeled_strat_backtest_df['net_pnl'] > 0]) / len(metalabeled_strat_backtest_df[metalabeled_strat_backtest_df['predicted_avoid_trade'] == 0])\n",
    "metalabeled_strat_avg_win = metalabeled_strat_backtest_df[metalabeled_strat_backtest_df['net_pnl'] > 0]['net_pnl'].mean() * 100\n",
    "metalabeled_strat_avg_loss = abs(metalabeled_strat_backtest_df[metalabeled_strat_backtest_df['net_pnl'] < 0]['net_pnl'].mean() * 100)\n",
    "\n",
    "print(f\"Meta-labeled strategy win rate: {round(metalabeled_strat_win_rate * 100, 2)}%\")\n",
    "print(f\"Meta-labeled strategy average win: ${round(metalabeled_strat_avg_win, 2)}\")\n",
    "print(f\"Meta-labeled strategy average loss: ${round(metalabeled_strat_avg_loss, 2)}\")\n",
    "print(f\"Meta-labeled strategy expected value per trade: ${round((metalabeled_strat_avg_win * metalabeled_strat_win_rate) - (metalabeled_strat_avg_loss * (1 - metalabeled_strat_win_rate)), 2)}\")"
   ]
  },
  {
   "cell_type": "markdown",
   "metadata": {},
   "source": [
    "# Miscellaneous Functionalities"
   ]
  },
  {
   "cell_type": "markdown",
   "metadata": {},
   "source": [
    "### Realized Vs. Implied Volatility Plots and Metrics"
   ]
  },
  {
   "cell_type": "code",
   "execution_count": null,
   "metadata": {},
   "outputs": [],
   "source": [
    "# implied and realized volatility metrics\n",
    "base_strat_backtest_df['trade_to_close_vol'] = abs((base_strat_backtest_df['underlying_closing_price'] - base_strat_backtest_df['underlying_price_at_trade']) / base_strat_backtest_df['underlying_price_at_trade']) * 100\n",
    "base_strat_backtest_df['current_day_IV'] = base_strat_backtest_df['vix1d_value'] / np.sqrt(252)\n",
    "base_strat_backtest_df['current_day_VRP'] = base_strat_backtest_df['current_day_IV'] - base_strat_backtest_df['trade_to_close_vol']"
   ]
  },
  {
   "cell_type": "code",
   "execution_count": null,
   "metadata": {},
   "outputs": [],
   "source": [
    "fig = make_subplots(\n",
    "    rows=2, cols=1,\n",
    "    subplot_titles=(\"Daily VRPs Scatter Plot\", \"Histogram of Current Day VRP\"),\n",
    "    row_heights=[0.5, 0.5]\n",
    ")\n",
    "\n",
    "# Scatter Plot in the First Row\n",
    "fig.add_trace(\n",
    "    go.Scatter(\n",
    "        x=base_strat_backtest_df.index,  # x-axis as index (or replace with desired x-axis data)\n",
    "        y=base_strat_backtest_df['current_day_VRP'],\n",
    "        mode='markers',\n",
    "        marker=dict(color='blue'),\n",
    "        name='Current Day VRP'\n",
    "    ),\n",
    "    row=1, col=1\n",
    ")\n",
    "\n",
    "# Add a red line at y = 0 in the scatter plot\n",
    "fig.add_hline(\n",
    "    y=0, line=dict(color='red', width=2), row=1, col=1\n",
    ")\n",
    "\n",
    "# Histogram in the Second Row with lighter blue, translucent bars, and defined borders\n",
    "fig.add_trace(\n",
    "    go.Histogram(\n",
    "        x=base_strat_backtest_df['current_day_VRP'],\n",
    "        marker=dict(color='lightblue', opacity=0.6, line=dict(color='blue', width=1)),\n",
    "        name='VRP Distribution'\n",
    "    ),\n",
    "    row=2, col=1\n",
    ")\n",
    "\n",
    "# Update layout with increased height and hide legend\n",
    "fig.update_layout(\n",
    "    xaxis_title=\"Date\",\n",
    "    yaxis_title=\"VRP\",\n",
    "    xaxis2_title=\"VRP\",\n",
    "    yaxis2_title=\"Frequency\",\n",
    "    height=800,  # Increase this value to make the figure taller\n",
    "    showlegend=False  # Hide the legend\n",
    ")\n",
    "\n",
    "# Show combined plot\n",
    "fig.show()\n",
    "\n",
    "overestimation_pct = len(base_strat_backtest_df[base_strat_backtest_df['current_day_VRP'] > 0]) / len(base_strat_backtest_df)\n",
    "mean_overestimation_when_overestimates = base_strat_backtest_df[base_strat_backtest_df['current_day_VRP'] > 0]['current_day_VRP'].mean()\n",
    "mean_overestimation_total = base_strat_backtest_df['current_day_VRP'].mean()\n",
    "\n",
    "print(f\"Overestimation %: {round(overestimation_pct * 100, 2)}%\")\n",
    "print(f\"Mean overestimation when VIX1D overestimates: {round(mean_overestimation_when_overestimates, 2)}%\")\n",
    "print(f\"Mean overestimation: {round(mean_overestimation_total, 2)}%\")"
   ]
  }
 ],
 "metadata": {
  "kernelspec": {
   "display_name": "env",
   "language": "python",
   "name": "python3"
  },
  "language_info": {
   "codemirror_mode": {
    "name": "ipython",
    "version": 3
   },
   "file_extension": ".py",
   "mimetype": "text/x-python",
   "name": "python",
   "nbconvert_exporter": "python",
   "pygments_lexer": "ipython3",
   "version": "3.10.14"
  }
 },
 "nbformat": 4,
 "nbformat_minor": 2
}
